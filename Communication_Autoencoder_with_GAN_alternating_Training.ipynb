{
  "nbformat": 4,
  "nbformat_minor": 0,
  "metadata": {
    "colab": {
      "name": "Communication Autoencoder with GAN alternating Training.ipynb",
      "provenance": [],
      "collapsed_sections": [],
      "include_colab_link": true
    },
    "kernelspec": {
      "name": "python3",
      "display_name": "Python 3"
    }
  },
  "cells": [
    {
      "cell_type": "markdown",
      "metadata": {
        "id": "view-in-github",
        "colab_type": "text"
      },
      "source": [
        "<a href=\"https://colab.research.google.com/github/BenYavor/Autoencoder_communication_sytem_with_GAN_channel-estimation/blob/master/Communication_Autoencoder_with_GAN_alternating_Training.ipynb\" target=\"_parent\"><img src=\"https://colab.research.google.com/assets/colab-badge.svg\" alt=\"Open In Colab\"/></a>"
      ]
    },
    {
      "cell_type": "code",
      "metadata": {
        "id": "Y3Mvn1V30ejH",
        "colab_type": "code",
        "outputId": "66420c44-fcf6-40d0-ff77-be81470f81a9",
        "colab": {
          "base_uri": "https://localhost:8080/",
          "height": 659
        }
      },
      "source": [
        "!pip install tensorflow==2.0.0\n",
        "import numpy as np\n",
        "%matplotlib inline\n",
        "import matplotlib.pyplot as plt   \n",
        "import warnings\n",
        "with warnings.catch_warnings():\n",
        "    warnings.filterwarnings(\"ignore\",category=FutureWarning)\n",
        "    import tensorflow as tf\n",
        "import os\n",
        "tf.__version__\n",
        "from tensorflow import keras\n",
        "import time\n",
        "from __future__ import absolute_import, division, print_function, unicode_literals\n",
        "import pandas as pd\n",
        "import sys\n",
        "assert sys.version_info >= (3, 5)\n",
        "%matplotlib inline\n",
        "import matplotlib as mpl\n",
        "mpl.rc('axes', labelsize=14)\n",
        "mpl.rc('xtick', labelsize=12)\n",
        "mpl.rc('ytick', labelsize=12)\n",
        "import tensorflow as tf\n",
        "from tensorflow import keras\n",
        "from sklearn.preprocessing import OneHotEncoder\n",
        "import pandas as pd\n",
        "from scipy import special\n",
        "from tensorflow.keras import layers\n",
        "np.random.seed(42)\n",
        "tf.random.set_seed(42)"
      ],
      "execution_count": 1,
      "outputs": [
        {
          "output_type": "stream",
          "text": [
            "Requirement already satisfied: tensorflow==2.0.0 in /usr/local/lib/python3.6/dist-packages (2.0.0)\n",
            "Requirement already satisfied: tensorflow-estimator<2.1.0,>=2.0.0 in /usr/local/lib/python3.6/dist-packages (from tensorflow==2.0.0) (2.0.1)\n",
            "Requirement already satisfied: astor>=0.6.0 in /usr/local/lib/python3.6/dist-packages (from tensorflow==2.0.0) (0.8.1)\n",
            "Requirement already satisfied: absl-py>=0.7.0 in /usr/local/lib/python3.6/dist-packages (from tensorflow==2.0.0) (0.8.1)\n",
            "Requirement already satisfied: keras-preprocessing>=1.0.5 in /usr/local/lib/python3.6/dist-packages (from tensorflow==2.0.0) (1.1.0)\n",
            "Requirement already satisfied: google-pasta>=0.1.6 in /usr/local/lib/python3.6/dist-packages (from tensorflow==2.0.0) (0.1.8)\n",
            "Requirement already satisfied: six>=1.10.0 in /usr/local/lib/python3.6/dist-packages (from tensorflow==2.0.0) (1.12.0)\n",
            "Requirement already satisfied: wrapt>=1.11.1 in /usr/local/lib/python3.6/dist-packages (from tensorflow==2.0.0) (1.11.2)\n",
            "Requirement already satisfied: protobuf>=3.6.1 in /usr/local/lib/python3.6/dist-packages (from tensorflow==2.0.0) (3.10.0)\n",
            "Requirement already satisfied: tensorboard<2.1.0,>=2.0.0 in /usr/local/lib/python3.6/dist-packages (from tensorflow==2.0.0) (2.0.2)\n",
            "Requirement already satisfied: keras-applications>=1.0.8 in /usr/local/lib/python3.6/dist-packages (from tensorflow==2.0.0) (1.0.8)\n",
            "Requirement already satisfied: wheel>=0.26 in /usr/local/lib/python3.6/dist-packages (from tensorflow==2.0.0) (0.33.6)\n",
            "Requirement already satisfied: opt-einsum>=2.3.2 in /usr/local/lib/python3.6/dist-packages (from tensorflow==2.0.0) (3.1.0)\n",
            "Requirement already satisfied: grpcio>=1.8.6 in /usr/local/lib/python3.6/dist-packages (from tensorflow==2.0.0) (1.15.0)\n",
            "Requirement already satisfied: termcolor>=1.1.0 in /usr/local/lib/python3.6/dist-packages (from tensorflow==2.0.0) (1.1.0)\n",
            "Requirement already satisfied: numpy<2.0,>=1.16.0 in /usr/local/lib/python3.6/dist-packages (from tensorflow==2.0.0) (1.17.4)\n",
            "Requirement already satisfied: gast==0.2.2 in /usr/local/lib/python3.6/dist-packages (from tensorflow==2.0.0) (0.2.2)\n",
            "Requirement already satisfied: setuptools in /usr/local/lib/python3.6/dist-packages (from protobuf>=3.6.1->tensorflow==2.0.0) (42.0.2)\n",
            "Requirement already satisfied: markdown>=2.6.8 in /usr/local/lib/python3.6/dist-packages (from tensorboard<2.1.0,>=2.0.0->tensorflow==2.0.0) (3.1.1)\n",
            "Requirement already satisfied: requests<3,>=2.21.0 in /usr/local/lib/python3.6/dist-packages (from tensorboard<2.1.0,>=2.0.0->tensorflow==2.0.0) (2.21.0)\n",
            "Requirement already satisfied: werkzeug>=0.11.15 in /usr/local/lib/python3.6/dist-packages (from tensorboard<2.1.0,>=2.0.0->tensorflow==2.0.0) (0.16.0)\n",
            "Requirement already satisfied: google-auth-oauthlib<0.5,>=0.4.1 in /usr/local/lib/python3.6/dist-packages (from tensorboard<2.1.0,>=2.0.0->tensorflow==2.0.0) (0.4.1)\n",
            "Requirement already satisfied: google-auth<2,>=1.6.3 in /usr/local/lib/python3.6/dist-packages (from tensorboard<2.1.0,>=2.0.0->tensorflow==2.0.0) (1.10.0)\n",
            "Requirement already satisfied: h5py in /usr/local/lib/python3.6/dist-packages (from keras-applications>=1.0.8->tensorflow==2.0.0) (2.8.0)\n",
            "Requirement already satisfied: certifi>=2017.4.17 in /usr/local/lib/python3.6/dist-packages (from requests<3,>=2.21.0->tensorboard<2.1.0,>=2.0.0->tensorflow==2.0.0) (2019.11.28)\n",
            "Requirement already satisfied: idna<2.9,>=2.5 in /usr/local/lib/python3.6/dist-packages (from requests<3,>=2.21.0->tensorboard<2.1.0,>=2.0.0->tensorflow==2.0.0) (2.8)\n",
            "Requirement already satisfied: urllib3<1.25,>=1.21.1 in /usr/local/lib/python3.6/dist-packages (from requests<3,>=2.21.0->tensorboard<2.1.0,>=2.0.0->tensorflow==2.0.0) (1.24.3)\n",
            "Requirement already satisfied: chardet<3.1.0,>=3.0.2 in /usr/local/lib/python3.6/dist-packages (from requests<3,>=2.21.0->tensorboard<2.1.0,>=2.0.0->tensorflow==2.0.0) (3.0.4)\n",
            "Requirement already satisfied: requests-oauthlib>=0.7.0 in /usr/local/lib/python3.6/dist-packages (from google-auth-oauthlib<0.5,>=0.4.1->tensorboard<2.1.0,>=2.0.0->tensorflow==2.0.0) (1.3.0)\n",
            "Requirement already satisfied: rsa<4.1,>=3.1.4 in /usr/local/lib/python3.6/dist-packages (from google-auth<2,>=1.6.3->tensorboard<2.1.0,>=2.0.0->tensorflow==2.0.0) (4.0)\n",
            "Requirement already satisfied: cachetools<5.0,>=2.0.0 in /usr/local/lib/python3.6/dist-packages (from google-auth<2,>=1.6.3->tensorboard<2.1.0,>=2.0.0->tensorflow==2.0.0) (4.0.0)\n",
            "Requirement already satisfied: pyasn1-modules>=0.2.1 in /usr/local/lib/python3.6/dist-packages (from google-auth<2,>=1.6.3->tensorboard<2.1.0,>=2.0.0->tensorflow==2.0.0) (0.2.7)\n",
            "Requirement already satisfied: oauthlib>=3.0.0 in /usr/local/lib/python3.6/dist-packages (from requests-oauthlib>=0.7.0->google-auth-oauthlib<0.5,>=0.4.1->tensorboard<2.1.0,>=2.0.0->tensorflow==2.0.0) (3.1.0)\n",
            "Requirement already satisfied: pyasn1>=0.1.3 in /usr/local/lib/python3.6/dist-packages (from rsa<4.1,>=3.1.4->google-auth<2,>=1.6.3->tensorboard<2.1.0,>=2.0.0->tensorflow==2.0.0) (0.4.8)\n"
          ],
          "name": "stdout"
        }
      ]
    },
    {
      "cell_type": "markdown",
      "metadata": {
        "id": "1wlZswcMF7Rt",
        "colab_type": "text"
      },
      "source": [
        "#### Vergleich\n",
        "Als erstes für feste $k$ und $n$, was sich ändert ist die Samplesize, Anzahl der Samples und SNR"
      ]
    },
    {
      "cell_type": "markdown",
      "metadata": {
        "id": "4qpY-gawAf-9",
        "colab_type": "text"
      },
      "source": [
        "###Systemparameter\n",
        "ACHTUNG: CHANNELANZAHL WURDE UNTERSCHIEDLICH VERWENDET \\\\\n",
        "$k$ - die Anzhal der bits \\\\\n",
        "$M$ - Anzahl der unterschiedlichen Nachrichten \\\\\n",
        "$n$ - channel uses\\\\\n",
        "$N$ - Länge des Rauschvektors"
      ]
    },
    {
      "cell_type": "code",
      "metadata": {
        "colab_type": "code",
        "id": "czeNNfpY1qc2",
        "outputId": "d87e9ebb-e474-4983-9251-d85f37d3470a",
        "colab": {
          "base_uri": "https://localhost:8080/",
          "height": 35
        }
      },
      "source": [
        "k = 4      # Number of information bits per message, i.e., M=2**k\n",
        "M = 2**k\n",
        "n = 2    # Number of real channel uses per message\n",
        "#k = int(np.log2(M))\n",
        "#n = 2\n",
        "print(M)\n",
        "\n",
        "SNR = 7\n"
      ],
      "execution_count": 2,
      "outputs": [
        {
          "output_type": "stream",
          "text": [
            "16\n"
          ],
          "name": "stdout"
        }
      ]
    },
    {
      "cell_type": "markdown",
      "metadata": {
        "id": "BA4TqJBOXXIg",
        "colab_type": "text"
      },
      "source": [
        "## Training Parameter"
      ]
    },
    {
      "cell_type": "code",
      "metadata": {
        "id": "aJZ_cnp9V-Q6",
        "colab_type": "code",
        "colab": {}
      },
      "source": [
        "gen_learning_rate=0.0001 \n",
        "disc_learning_rate = 0.0001                  # 0.0001  "
      ],
      "execution_count": 0,
      "outputs": []
    },
    {
      "cell_type": "markdown",
      "metadata": {
        "id": "tb-DiBwSN255",
        "colab_type": "text"
      },
      "source": [
        "### Different Layers"
      ]
    },
    {
      "cell_type": "code",
      "metadata": {
        "id": "hFMMLrY0LthL",
        "colab_type": "code",
        "colab": {}
      },
      "source": [
        "randN_initial = keras.initializers.RandomNormal(mean=0.0, stddev=0.05, seed=None)\n",
        "ones_initial = keras.initializers.GlorotNormal()\n",
        "\n",
        "EncIn = tf.keras.layers.Input(shape=(M,))#, dtype= tf.int32)\n",
        "e1 = tf.keras.layers.Dense(2*n, activation=None)\n",
        "e2 = tf.keras.layers.Lambda(lambda x:tf.reshape(x, shape=[-1,int(n/2),2]))\n",
        "EncOut = tf.keras.layers.Lambda(lambda x: x/tf.sqrt(2*tf.reduce_mean(tf.square(x))))\n",
        "GenIn = tf.keras.layers.Lambda(lambda x:tf.reshape(x,(tf.shape(x)[0],-1)))\n",
        "# = tf.keras.layers.Lambda(generator)\n",
        "DecIn = tf.keras.layers.Lambda(lambda x:tf.reshape(x, shape=[-1,int(n/2),2]))\n",
        "d1 = tf.keras.layers.Lambda(lambda x:tf.reshape(x, shape=[-1,n]))\n",
        "d2 = tf.keras.layers.Dense(M, activation='relu')\n",
        "DecOut = tf.keras.layers.Dense(M, activation='softmax')\n",
        "\n",
        "\n",
        "#noise_std = EbNo_to_noise(TRAINING_SNR)\n",
        "# custom functions / layers without weights\n",
        "norm_layer = keras.layers.Lambda(lambda x: tf.divide(x,tf.sqrt(2*tf.reduce_mean(tf.square(x)))))\n",
        "shape_layer = keras.layers.Lambda(lambda x: tf.reshape(x, shape=[-1,2,n]))\n",
        "shape_layer2 = keras.layers.Lambda(lambda x: tf.reshape(x, shape=[-1,n]))\n",
        "channel_layer = keras.layers.Lambda(lambda x: x + tf.random.normal(tf.shape(x), mean=0.0, stddev=noise_std))"
      ],
      "execution_count": 0,
      "outputs": []
    },
    {
      "cell_type": "markdown",
      "metadata": {
        "id": "7J96hJhKO9VJ",
        "colab_type": "text"
      },
      "source": [
        "### Help functions"
      ]
    },
    {
      "cell_type": "code",
      "metadata": {
        "id": "uV7pjryDv4M4",
        "colab_type": "code",
        "outputId": "25f9b1ef-c971-4875-b7f1-611a4f60fc25",
        "colab": {
          "base_uri": "https://localhost:8080/",
          "height": 54
        }
      },
      "source": [
        "def EbNo2Sigma(ebnodb):\n",
        "    '''Convert Eb/No in dB to noise standard deviation'''\n",
        "    ebno = 10**(ebnodb/10)\n",
        "    return 1/np.sqrt(2*(2*k/n)*ebno)\n",
        "\n",
        "def EbNo_to_noise(ebnodb):\n",
        "    '''Transform EbNo[dB]/snr to noise power'''\n",
        "    ebno = 10**(ebnodb/10)\n",
        "    noise_std = 1/np.sqrt(2*(2*k/n)*ebno) \n",
        "    return noise_std\n",
        "\n",
        "\n",
        "def real_channel(x,noise_std):\n",
        "    # Black-box Channel\n",
        "    #AWGN\n",
        "    return x + tf.random.normal(tf.shape(x), mean=0.0, stddev=noise_std)\n",
        "\n",
        "def rayleigh_channel(x,noise_std):\n",
        "    return x + tf.sqrt(tf.square(tf.random.normal(tf.shape(x), mean=0.0, stddev=noise_std)) + tf.square(tf.random.normal(tf.shape(x), mean=0.0, stddev=noise_std)))\n",
        "    \n",
        "    #Uniform U(-3;3)    \n",
        "    #return x + tf.random_uniform(tf.shape(x), minval=-2, maxval=2)\n",
        "\n",
        "def B_Ber(input_msg, msg):\n",
        "    '''Calculate the Batch Bit Error Rate'''\n",
        "    pred_error = tf.not_equal(tf.argmax(msg, 1), tf.argmax(input_msg, 1))\n",
        "    bber = tf.reduce_mean(tf.cast(pred_error, tf.float32))\n",
        "    return bber\n",
        "\n",
        "def random_sample(batch_size=32):\n",
        "    msg = np.random.randint(M, size=batch_size)\n",
        "    return msg\n",
        "\n",
        "\n",
        "\n",
        "\n",
        "def B_Ber_m(input_msg, msg):\n",
        "    '''Calculate the Batch Bit Error Rate'''\n",
        "    pred_error = tf.not_equal(input_msg, tf.argmax(msg, 1))      \n",
        "    bber = tf.reduce_mean(tf.cast(pred_error, tf.float32))\n",
        "    return bber\n",
        "\n",
        "def SNR_to_noise(snrdb):\n",
        "    '''Transform EbNo[dB]/snr to noise power'''\n",
        "    snr = 10**(snrdb/10)\n",
        "    noise_std = 1/np.sqrt(2*snr)\n",
        "    return noise_std\n",
        "\n",
        "noise_std = EbNo2Sigma(SNR)\n",
        "\n",
        "print(EbNo2Sigma(SNR))\n",
        "print(EbNo_to_noise(SNR))"
      ],
      "execution_count": 5,
      "outputs": [
        {
          "output_type": "stream",
          "text": [
            "0.15792649852735607\n",
            "0.15792649852735607\n"
          ],
          "name": "stdout"
        }
      ]
    },
    {
      "cell_type": "code",
      "metadata": {
        "id": "OBGMgdDEh7uX",
        "colab_type": "code",
        "colab": {}
      },
      "source": [
        "def test_encoding(M=16, n=1):\n",
        "    inp = np.arange(0,M)\n",
        "    coding = encoder.predict(inp)\n",
        "    fig = plt.figure(figsize=(4,4))\n",
        "    plt.plot(coding[:,0], coding[:, 1], \"b.\")\n",
        "    plt.xlabel(\"$x_1$\", fontsize=18)\n",
        "    plt.ylabel(\"$x_2$\", fontsize=18, rotation=0)\n",
        "    plt.grid(True)\n",
        "    plt.gca().set_ylim(-2, 2)\n",
        "    plt.gca().set_xlim(-2, 2)\n",
        "    plt.show()\n",
        "  \n"
      ],
      "execution_count": 0,
      "outputs": []
    },
    {
      "cell_type": "markdown",
      "metadata": {
        "id": "AOoYuK_jR9rH",
        "colab_type": "text"
      },
      "source": [
        "# Models"
      ]
    },
    {
      "cell_type": "markdown",
      "metadata": {
        "id": "PQxhmgOa0_7c",
        "colab_type": "text"
      },
      "source": [
        "#### Generator Model"
      ]
    },
    {
      "cell_type": "code",
      "metadata": {
        "id": "LXbS5lM9Tb9B",
        "colab_type": "code",
        "colab": {}
      },
      "source": [
        "def get_generator(n):\n",
        "  input1 = tf.keras.layers.Input(shape=(n,))\n",
        "  x1 = tf.keras.layers.Dense(n,kernel_initializer=randN_initial)(input1)\n",
        "  input2 =tf.random.normal(shape=tf.shape(input1))\n",
        "  #input2 =tf.random.normal([tf.shape(input1)[0],n])\n",
        "  x2 = tf.keras.layers.Dense(n,kernel_initializer=randN_initial)(input2)\n",
        "  subtracted = tf.keras.layers.Concatenate(1)([x1, x2])\n",
        "  h1 = tf.keras.layers.Dense(64,use_bias=True,  activation='relu')(subtracted)\n",
        "  h2 = tf.keras.layers.Dense(64,use_bias=True,kernel_initializer=ones_initial, activation='relu')(h1)\n",
        "  out = tf.keras.layers.Dense(n, use_bias= True, activation='linear')(h2)\n",
        "  generator = tf.keras.models.Model(inputs=[input1], outputs=out)\n",
        "  return generator\n"
      ],
      "execution_count": 0,
      "outputs": []
    },
    {
      "cell_type": "markdown",
      "metadata": {
        "id": "Vt2rTP7hSFt4",
        "colab_type": "text"
      },
      "source": [
        "#### Discriminator Model "
      ]
    },
    {
      "cell_type": "code",
      "metadata": {
        "id": "97h2eMLeXS68",
        "colab_type": "code",
        "colab": {}
      },
      "source": [
        "def get_discriminator(n):\n",
        "  model = tf.keras.Sequential()\n",
        "  model.add(tf.keras.layers.Dense(32,use_bias=True, activation='relu',input_shape=((2*n,))))\n",
        "  model.add(tf.keras.layers.Dense(32,use_bias=True,  activation='relu'))\n",
        "  model.add(tf.keras.layers.Dense(1,use_bias=False, activation='sigmoid'))\n",
        "  return model\n",
        "  "
      ],
      "execution_count": 0,
      "outputs": []
    },
    {
      "cell_type": "code",
      "metadata": {
        "id": "CUkLPv0gvn-o",
        "colab_type": "code",
        "colab": {}
      },
      "source": [
        "generator = get_generator(n)\n",
        "discriminator=get_discriminator(n)"
      ],
      "execution_count": 0,
      "outputs": []
    },
    {
      "cell_type": "markdown",
      "metadata": {
        "id": "lcIzLZj5Seh9",
        "colab_type": "text"
      },
      "source": [
        "## Encoder Model"
      ]
    },
    {
      "cell_type": "code",
      "metadata": {
        "id": "8M9_yJ1i9oW2",
        "colab_type": "code",
        "colab": {}
      },
      "source": [
        ""
      ],
      "execution_count": 0,
      "outputs": []
    },
    {
      "cell_type": "code",
      "metadata": {
        "id": "sNHtzAC4SPBq",
        "colab_type": "code",
        "colab": {}
      },
      "source": [
        "def get_gan_encoder(M):\n",
        "  model = keras.models.Sequential([\n",
        "            keras.layers.Embedding(M, M, embeddings_initializer='glorot_normal'),\n",
        "            keras.layers.Dense(M*2, activation=\"elu\"),\n",
        "            keras.layers.Dense(M*2, activation=\"elu\"),\n",
        "            keras.layers.Dense(n,kernel_initializer=ones_initial, activation=None),\n",
        "            e2,\n",
        "            EncOut,\n",
        "            GenIn])\n",
        "  return model"
      ],
      "execution_count": 0,
      "outputs": []
    },
    {
      "cell_type": "markdown",
      "metadata": {
        "id": "G5iCDE4dSL35",
        "colab_type": "text"
      },
      "source": [
        "## Decoder Model"
      ]
    },
    {
      "cell_type": "code",
      "metadata": {
        "id": "C5KjEhDvSWQR",
        "colab_type": "code",
        "colab": {}
      },
      "source": [
        "def get_gan_decoder(M):\n",
        "   model= keras.models.Sequential([\n",
        "                #DecIn,\n",
        "                #d1,\n",
        "                keras.layers.Input(shape=(n,)),\n",
        "                keras.layers.Dense(M*2, activation=\"elu\"),\n",
        "                keras.layers.Dense(M*2, activation=\"elu\"),\n",
        "                keras.layers.Dense(M, activation=\"softmax\")\n",
        "                ])\n",
        "   return model"
      ],
      "execution_count": 0,
      "outputs": []
    },
    {
      "cell_type": "markdown",
      "metadata": {
        "id": "s-t76sYBtlP1",
        "colab_type": "text"
      },
      "source": [
        "### GAN Training functions"
      ]
    },
    {
      "cell_type": "code",
      "metadata": {
        "id": "n15AvPFO05gd",
        "colab_type": "code",
        "colab": {}
      },
      "source": [
        "def gan_optimizers(gen_learning_rate  ,disc_learning_rate):\n",
        "  generator_optimizer = tf.keras.optimizers.RMSprop(gen_learning_rate)      #RMSprop   in oreder to test where the error comes from\n",
        "  discriminator_optimizer = tf.keras.optimizers.RMSprop(disc_learning_rate) \n",
        "  return generator_optimizer, discriminator_optimizer"
      ],
      "execution_count": 0,
      "outputs": []
    },
    {
      "cell_type": "code",
      "metadata": {
        "id": "ooDukkHvmduJ",
        "colab_type": "code",
        "outputId": "3084e000-b433-4548-80b7-b118b868dd4c",
        "colab": {
          "base_uri": "https://localhost:8080/",
          "height": 54
        }
      },
      "source": [
        "%%time\n",
        "def train_gan(epochs,n_steps, batch_size, SNR_level):\n",
        "  noise_std = EbNo2Sigma(SNR_level)\n",
        "  start = time.time()\n",
        "  x = tf.random.normal((batch_size,n),dtype=tf.dtypes.float32) \n",
        "  x = x/tf.sqrt(2*tf.reduce_mean(tf.square(x)))\n",
        "  counter = 0\n",
        "  epoch = 0\n",
        "  for epoch in range(epochs):\n",
        "    counter += 1\n",
        "    train_step(noise_std, n_steps,batch_size)\n",
        "    if counter%100==0:\n",
        "      tf.print(\"counter %d:\" % (counter))\n",
        "      fake_c = generator(x)\n",
        "      tf.print(fake_c[0])\n",
        "    #print ('Time for epoch {} is {} sec,'.format(epoch + 1, time.time()-start))\n",
        "      tf.print ('Time for epoch {},'.format(epoch + 1))\n",
        "      \n",
        "  tf.saved_model.save(generator,'/tmp/saved_model/')\n",
        "  tf.print ('Time for the training is {} sec,'.format( time.time()-start))\n",
        "    "
      ],
      "execution_count": 13,
      "outputs": [
        {
          "output_type": "stream",
          "text": [
            "CPU times: user 4 µs, sys: 0 ns, total: 4 µs\n",
            "Wall time: 7.63 µs\n"
          ],
          "name": "stdout"
        }
      ]
    },
    {
      "cell_type": "code",
      "metadata": {
        "colab_type": "code",
        "id": "WE_JS7kgA1W-",
        "colab": {}
      },
      "source": [
        "@tf.function\n",
        "def train_step(noise_std,n_steps,batch_size):\n",
        "  x = tf.random.normal((batch_size,n),dtype=tf.dtypes.float32) \n",
        "  x = x/tf.sqrt(2*tf.reduce_mean(tf.square(x)))\n",
        "  m =random_sample(batch_size)\n",
        "  r = encoder(m)\n",
        "  for i in range(n_steps):\n",
        "    with tf.GradientTape() as gen_tape, tf.GradientTape() as disc_tape:\n",
        "      real_training_data = tf.concat(values=[real_channel(r,noise_std), r], axis=1)\n",
        "      fake_training_data = tf.concat(values=[generator(r),r], axis=1)\n",
        "      real_output = discriminator(real_training_data)\n",
        "      fake_output = discriminator(fake_training_data)\n",
        "      \n",
        "      \n",
        "      disc_loss = -tf.reduce_mean(tf.math.log(real_output) + tf.math.log(1. - fake_output))\n",
        "      gen_loss =-tf.reduce_mean(tf.math.log(fake_output))\n",
        "      \n",
        "      #tf.print(disc_loss,gen_loss)\n",
        "      \n",
        "      if tf.math.is_nan(disc_loss) == False:\n",
        "        gradients_of_discriminator = disc_tape.gradient(disc_loss, discriminator.trainable_variables)\n",
        "        discriminator_optimizer.apply_gradients(zip(gradients_of_discriminator, discriminator.trainable_variables))\n",
        "    \n",
        "      if i == 4 and tf.math.is_nan(gen_loss) == False: \n",
        "        gradients_of_generator = gen_tape.gradient(gen_loss, generator.trainable_variables)\n",
        "        generator_optimizer.apply_gradients(zip(gradients_of_generator, generator.trainable_variables))\n",
        "\n"
      ],
      "execution_count": 0,
      "outputs": []
    },
    {
      "cell_type": "code",
      "metadata": {
        "id": "y82FQj3Jmvxx",
        "colab_type": "code",
        "colab": {}
      },
      "source": [
        "def creating_and_train_gan(epochs,n_steps, batch_size, SNR_level , n ):  #optional Leraning Rates\n",
        "  generator.trainable = True\n",
        "  train_gan(epochs, n_steps, batch_size, SNR_level)\n",
        "  #4 after GAN training\n",
        "  generator.trainable = False\n",
        "  #tf.print(generator.trainable)"
      ],
      "execution_count": 0,
      "outputs": []
    },
    {
      "cell_type": "code",
      "metadata": {
        "id": "dLTtFoV0IoPj",
        "colab_type": "code",
        "colab": {}
      },
      "source": [
        "def gan_Test_AE(data):\n",
        "    '''Calculate Bit Error for varying SNRs'''\n",
        "    snr_range = np.linspace(0, 15, 31)\n",
        "    bber_vec = [None] * len(snr_range)\n",
        "        \n",
        "    for db in range(len(snr_range)):           \n",
        "        noise_std = EbNo_to_noise(snr_range[db])\n",
        "        code_word = encoder(data)\n",
        "        rcvd_word = code_word + tf.random.normal(tf.shape(code_word), mean=0.0, stddev=noise_std)\n",
        "        dcoded_msg = decoder(rcvd_word)\n",
        "        bber_vec[db] = B_Ber_m(data, dcoded_msg)\n",
        "        if (db % 6 == 0) & (db > 0):\n",
        "            print(f'Progress: {db} of {30} parts')\n",
        "\n",
        "    return (snr_range, bber_vec)\n",
        "\n",
        "def Test_AE_rayleigh(data):\n",
        "    '''Calculate Bit Error for varying SNRs'''\n",
        "    snr_range = np.linspace(0, 15, 31)\n",
        "    bber_vec = [None] * len(snr_range)\n",
        "        \n",
        "    for db in range(len(snr_range)):           \n",
        "        noise_std = EbNo_to_noise(snr_range[db])\n",
        "        code_word = encoder(data)\n",
        "        rcvd_word = rayleigh_channel(code_word, noise_std)\n",
        "        dcoded_msg = decoder(rcvd_word)\n",
        "        bber_vec[db] = B_Ber_m(data, dcoded_msg)\n",
        "        if (db % 6 == 0) & (db > 0):\n",
        "            print(f'Progress: {db} of {30} parts')\n",
        "\n",
        "    return (snr_range, bber_vec)\n"
      ],
      "execution_count": 0,
      "outputs": []
    },
    {
      "cell_type": "markdown",
      "metadata": {
        "id": "VI0Tj40kzY6X",
        "colab_type": "text"
      },
      "source": [
        "# Resiver Training"
      ]
    },
    {
      "cell_type": "code",
      "metadata": {
        "id": "eS0X_xB4LBXa",
        "colab_type": "code",
        "colab": {}
      },
      "source": [
        "decoder = get_gan_decoder(M)\n",
        "encoder = get_gan_encoder(M)\n",
        "\n",
        "\n",
        "channel_layer = keras.layers.Lambda(lambda x: real_channel(x,noise_std))"
      ],
      "execution_count": 0,
      "outputs": []
    },
    {
      "cell_type": "markdown",
      "metadata": {
        "id": "_6ZV07BiRAlJ",
        "colab_type": "text"
      },
      "source": [
        "# Decoder Training"
      ]
    },
    {
      "cell_type": "code",
      "metadata": {
        "id": "d8-PiMpOTXqL",
        "colab_type": "code",
        "colab": {}
      },
      "source": [
        "data = random_sample(100)"
      ],
      "execution_count": 0,
      "outputs": []
    },
    {
      "cell_type": "code",
      "metadata": {
        "id": "xx0FiLdHQ2m-",
        "colab_type": "code",
        "colab": {}
      },
      "source": [
        "loss_object = tf.keras.losses.SparseCategoricalCrossentropy(from_logits=True)\n",
        "loss_object_a = tf.keras.losses.SparseCategoricalCrossentropy(from_logits=True)\n",
        "decoder_optimizer = tf.keras.optimizers.Adam()\n",
        "\n",
        "def decoder_loss(decoder, x, y):\n",
        "  x_ = encoder(x)\n",
        "  #y1= channel_layer(x_)\n",
        "  y1 = generator(x_)\n",
        "  y_ = decoder(y1)\n",
        "  return loss_object(y_true=y, y_pred=y_)\n",
        "\n",
        "#def decoder_loss2(decoder, x, y):\n",
        "#  x_ = encoder(x)\n",
        "#  y1 = generator(x_)\n",
        "#  y_ = decoder(y1)\n",
        "#  return loss_object(y_true=y, y_pred=y_)\n",
        "\n",
        "@tf.function\n",
        "def decoder_grad(model, inputs, targets):\n",
        "  with tf.GradientTape() as decoder_tape:\n",
        "    loss_value = decoder_loss(model, inputs, targets)\n",
        "  return loss_value, decoder_tape.gradient(loss_value, model.trainable_variables)\n",
        "\n",
        "#@tf.function\n",
        "#def decoder_grad2(model, inputs, targets):\n",
        "#  with tf.GradientTape() as decoder_tape:\n",
        "#    loss_value = decoder_loss2(model, inputs, targets)\n",
        "#  return loss_value, decoder_tape.gradient(loss_value, model.trainable_variables)\n",
        "\n"
      ],
      "execution_count": 0,
      "outputs": []
    },
    {
      "cell_type": "code",
      "metadata": {
        "id": "CJu-Y3eEQ4k3",
        "colab_type": "code",
        "colab": {}
      },
      "source": [
        "\n",
        "# Keep results for plotting\n",
        "train_loss_results = []\n",
        "train_accuracy_results = []\n",
        "\n",
        "def decoder_training(num_epochs,batch_size):\n",
        "  for epoch in range(num_epochs):\n",
        "    epoch_loss_avg = tf.keras.metrics.Mean()\n",
        "    epoch_accuracy = tf.keras.metrics.SparseCategoricalAccuracy()\n",
        "    data = random_sample(batch_size)\n",
        "    loss_value = decoder_step_training()\n",
        "    epoch_loss_avg(loss_value)  # Add current batch loss\n",
        "    # Compare predicted label to actual label\n",
        "    epoch_accuracy(data, decoder(channel_layer(encoder(data))))   \n",
        "    train_loss_results.append(epoch_loss_avg.result())\n",
        "    train_accuracy_results.append(epoch_accuracy.result())\n",
        "\n",
        "    if epoch % 500 == 0:\n",
        "      print(\"Epoch {:03d}: Loss: {:.3f}, Accuracy: {:.3%}\".format(epoch,\n",
        "                                                                epoch_loss_avg.result(),\n",
        "                                                                      epoch_accuracy.result()))\n",
        "@tf.function                                                                \n",
        "def decoder_step_training():\n",
        "  loss_value, decoder_grads = decoder_grad(decoder, data, data)\n",
        "  decoder_optimizer.apply_gradients(zip(decoder_grads, decoder.trainable_variables))\n",
        "  return loss_value  \n",
        "\n",
        "#@tf.function                                                                \n",
        "#def decoder_step_training2():\n",
        "#  loss_value, decoder_grads = decoder_grad2(decoder, data, data)\n",
        "#  decoder_optimizer.apply_gradients(zip(decoder_grads, decoder.trainable_variables))\n",
        "#  return loss_value  \n"
      ],
      "execution_count": 0,
      "outputs": []
    },
    {
      "cell_type": "markdown",
      "metadata": {
        "id": "dbAJL0v_sLUz",
        "colab_type": "text"
      },
      "source": [
        "# Transmitter Training"
      ]
    },
    {
      "cell_type": "code",
      "metadata": {
        "colab_type": "code",
        "id": "_u4AHItRcsT1",
        "colab": {}
      },
      "source": [
        "encoder_optimizer = tf.keras.optimizers.Adam(lr=0.0001)\n",
        "\n",
        "def encoder_loss(encoder, x, y):\n",
        "  x_ = encoder(x)\n",
        "  y1= generator(x_)\n",
        "  y_ = decoder(y1)\n",
        "  return loss_object_a(y_true=y, y_pred=y_)\n",
        "\n",
        "@tf.function\n",
        "def encoder_grad(model, inputs, targets):\n",
        "  with tf.GradientTape() as encoder_tape:\n",
        "    loss_value = encoder_loss(model, inputs, targets)\n",
        "  return loss_value, encoder_tape.gradient(loss_value, model.trainable_variables)\n",
        "\n"
      ],
      "execution_count": 0,
      "outputs": []
    },
    {
      "cell_type": "code",
      "metadata": {
        "id": "ZUxy6g9kEakF",
        "colab_type": "code",
        "outputId": "6e580750-2dc9-42f7-d2d0-3e776935ce39",
        "colab": {
          "base_uri": "https://localhost:8080/",
          "height": 54
        }
      },
      "source": [
        "loss_value, encoder_grads = encoder_grad(encoder,data, data)\n",
        "\n",
        "print(\"Step: {}, Initial Loss: {}\".format(encoder_optimizer.iterations.numpy(),\n",
        "                                          loss_value.numpy()))\n",
        "\n",
        "encoder_optimizer.apply_gradients(zip(encoder_grads, encoder.trainable_variables))\n",
        "\n",
        "print(\"Step: {},         Loss: {}\".format(encoder_optimizer.iterations.numpy(),\n",
        "                                          encoder_loss(encoder, data, data).numpy()))\n"
      ],
      "execution_count": 22,
      "outputs": [
        {
          "output_type": "stream",
          "text": [
            "Step: 0, Initial Loss: 2.772723913192749\n",
            "Step: 1,         Loss: 2.7727227210998535\n"
          ],
          "name": "stdout"
        }
      ]
    },
    {
      "cell_type": "code",
      "metadata": {
        "colab_type": "code",
        "id": "8buZRqXNdcZz",
        "colab": {}
      },
      "source": [
        "\n",
        "# Keep results for plotting\n",
        "train_loss_results = []\n",
        "train_accuracy_results = []\n",
        "\n",
        "def encoder_training(num_epochs, batch_size = 400):\n",
        "  for epoch in range(num_epochs):\n",
        "    epoch_loss_avg = tf.keras.metrics.Mean()\n",
        "    epoch_accuracy = tf.keras.metrics.SparseCategoricalAccuracy()\n",
        "    data = random_sample(batch_size)\n",
        "\n",
        "    loss_value = encoder_step_training()\n",
        "      #loss_value, encoder_grads = encoder_grad(encoder, data, data)\n",
        "      #encoder_optimizer.apply_gradients(zip(encoder_grads, encoder.trainable_variables))\n",
        "    epoch_loss_avg(loss_value)  # Add current batch loss\n",
        "    # Compare predicted label to actual label\n",
        "    epoch_accuracy(data, decoder(generator(encoder(data))))  \n",
        "   # train_loss_results.append(epoch_loss_avg.result())\n",
        "   # train_accuracy_results.append(epoch_accuracy.result())\n",
        "\n",
        "    if epoch % 500 == 0:\n",
        "      print(\"Epoch {:03d}: Loss: {:.3f}, Accuracy: {:.3%}\".format(epoch,\n",
        "                                                                epoch_loss_avg.result(),\n",
        "                                                                epoch_accuracy.result()))\n",
        "@tf.function\n",
        "def encoder_step_training():\n",
        "  loss_value, encoder_grads = encoder_grad(encoder, data, data)\n",
        "  encoder_optimizer.apply_gradients(zip(encoder_grads, encoder.trainable_variables))\n",
        "  return loss_value\n",
        "\n"
      ],
      "execution_count": 0,
      "outputs": []
    },
    {
      "cell_type": "markdown",
      "metadata": {
        "id": "3m0fQ6OXgPf1",
        "colab_type": "text"
      },
      "source": [
        "# GAN Training"
      ]
    },
    {
      "cell_type": "code",
      "metadata": {
        "id": "nNFwwZrcgOkn",
        "colab_type": "code",
        "outputId": "566244f6-d006-4898-c4c2-579e9db42d3b",
        "colab": {
          "base_uri": "https://localhost:8080/",
          "height": 1000
        }
      },
      "source": [
        "%%time\n",
        "generator_optimizer, discriminator_optimizer = gan_optimizers(gen_learning_rate=gen_learning_rate, disc_learning_rate = disc_learning_rate)\n",
        "start = time.time()\n",
        "\n",
        "for i in range(3):\n",
        "  test_encoding(M,n)\n",
        "  decoder_training(501, 100)\n",
        "  creating_and_train_gan(epochs= 2000,n_steps=5, batch_size =100, SNR_level = 7, n = n)\n",
        "  decoder_training(2001, 100)\n",
        "  #encoder_training(501,100)\n",
        "  test_encoding(M,n)\n",
        "  encoder_training(1501,100)\n",
        "  test_encoding(M,n)\n",
        "  creating_and_train_gan(epochs= 2000,n_steps=5, batch_size =100, SNR_level = 7, n = n)\n",
        "\n",
        "time_to_train_gan = time.time()-start\n",
        "tf.print ('Time for the training is {} sec,'.format( time.time()-start))"
      ],
      "execution_count": 24,
      "outputs": [
        {
          "output_type": "display_data",
          "data": {
            "image/png": "[encoded data removed]",
            "text/plain": [
              "<Figure size 288x288 with 1 Axes>"
            ]
          },
          "metadata": {
            "tags": []
          }
        },
        {
          "output_type": "stream",
          "text": [
            "Epoch 000: Loss: 2.773, Accuracy: 8.000%\n",
            "Epoch 500: Loss: 2.717, Accuracy: 4.000%\n",
            "counter 100:\n",
            "[0.00789868366 -0.111980908]\n",
            "Time for epoch 100,\n",
            "counter 200:\n",
            "[-0.0319707692 -0.255562365]\n",
            "Time for epoch 200,\n",
            "counter 300:\n",
            "[-0.132505715 -0.393277705]\n",
            "Time for epoch 300,\n",
            "counter 400:\n",
            "[-0.293909 -0.264461875]\n",
            "Time for epoch 400,\n",
            "counter 500:\n",
            "[-0.299279511 0.0547837466]\n",
            "Time for epoch 500,\n",
            "counter 600:\n",
            "[-0.18485938 0.216816157]\n",
            "Time for epoch 600,\n",
            "counter 700:\n",
            "[0.848186731 -0.378201187]\n",
            "Time for epoch 700,\n",
            "counter 800:\n",
            "[0.202871636 0.785408497]\n",
            "Time for epoch 800,\n",
            "counter 900:\n",
            "[1.10047328 0.1041006]\n",
            "Time for epoch 900,\n",
            "counter 1000:\n",
            "[0.749882519 0.372624427]\n",
            "Time for epoch 1000,\n",
            "counter 1100:\n",
            "[0.784199357 -0.136692435]\n",
            "Time for epoch 1100,\n",
            "counter 1200:\n",
            "[0.690393388 0.0452442765]\n",
            "Time for epoch 1200,\n",
            "counter 1300:\n",
            "[0.944294155 -0.123448677]\n",
            "Time for epoch 1300,\n",
            "counter 1400:\n",
            "[0.94646132 -0.117749222]\n",
            "Time for epoch 1400,\n",
            "counter 1500:\n",
            "[0.986179173 -0.299628735]\n",
            "Time for epoch 1500,\n",
            "counter 1600:\n",
            "[1.00061965 -0.399393797]\n",
            "Time for epoch 1600,\n",
            "counter 1700:\n",
            "[0.998545229 -0.477059335]\n",
            "Time for epoch 1700,\n",
            "counter 1800:\n",
            "[1.04048181 -0.765960634]\n",
            "Time for epoch 1800,\n",
            "counter 1900:\n",
            "[1.16245198 -0.902669251]\n",
            "Time for epoch 1900,\n",
            "counter 2000:\n",
            "[1.21664214 -0.976953924]\n",
            "Time for epoch 2000,\n",
            "WARNING:tensorflow:From /usr/local/lib/python3.6/dist-packages/tensorflow_core/python/ops/resource_variable_ops.py:1781: calling BaseResourceVariable.__init__ (from tensorflow.python.ops.resource_variable_ops) with constraint is deprecated and will be removed in a future version.\n",
            "Instructions for updating:\n",
            "If using Keras pass *_constraint arguments to layers.\n",
            "INFO:tensorflow:Assets written to: /tmp/saved_model/assets\n",
            "Time for the training is 11.067672491073608 sec,\n",
            "Epoch 000: Loss: 2.762, Accuracy: 6.000%\n",
            "Epoch 500: Loss: 2.690, Accuracy: 8.000%\n",
            "Epoch 1000: Loss: 2.688, Accuracy: 5.000%\n",
            "Epoch 1500: Loss: 2.639, Accuracy: 12.000%\n",
            "Epoch 2000: Loss: 2.505, Accuracy: 11.000%\n"
          ],
          "name": "stdout"
        },
        {
          "output_type": "display_data",
          "data": {
            "image/png": "[encoded data removed]",
            "text/plain": [
              "<Figure size 288x288 with 1 Axes>"
            ]
          },
          "metadata": {
            "tags": []
          }
        },
        {
          "output_type": "stream",
          "text": [
            "Epoch 000: Loss: 2.506, Accuracy: 28.000%\n",
            "Epoch 500: Loss: 2.485, Accuracy: 44.000%\n",
            "Epoch 1000: Loss: 2.485, Accuracy: 32.000%\n",
            "Epoch 1500: Loss: 2.481, Accuracy: 36.000%\n"
          ],
          "name": "stdout"
        },
        {
          "output_type": "display_data",
          "data": {
            "image/png": "[encoded data removed]",
            "text/plain": [
              "<Figure size 288x288 with 1 Axes>"
            ]
          },
          "metadata": {
            "tags": []
          }
        },
        {
          "output_type": "stream",
          "text": [
            "counter 100:\n",
            "[-0.107051007 -0.495622903]\n",
            "Time for epoch 100,\n",
            "counter 200:\n",
            "[-0.410747766 -0.595325589]\n",
            "Time for epoch 200,\n",
            "counter 300:\n",
            "[-0.328209966 -0.609816253]\n",
            "Time for epoch 300,\n",
            "counter 400:\n",
            "[-0.516312 -0.560915411]\n",
            "Time for epoch 400,\n",
            "counter 500:\n",
            "[-0.160703868 -0.649624527]\n",
            "Time for epoch 500,\n",
            "counter 600:\n",
            "[-0.303102732 -0.641532362]\n",
            "Time for epoch 600,\n",
            "counter 700:\n",
            "[-0.32447058 -0.514708579]\n",
            "Time for epoch 700,\n",
            "counter 800:\n",
            "[-0.517972589 -0.574447334]\n",
            "Time for epoch 800,\n",
            "counter 900:\n",
            "[-0.349812299 -0.552249312]\n",
            "Time for epoch 900,\n",
            "counter 1000:\n",
            "[-0.497134775 -0.593200326]\n",
            "Time for epoch 1000,\n",
            "counter 1100:\n",
            "[-0.180381417 -0.604092181]\n",
            "Time for epoch 1100,\n",
            "counter 1200:\n",
            "[-0.371047378 -0.66219]\n",
            "Time for epoch 1200,\n",
            "counter 1300:\n",
            "[-0.785820067 -0.15041256]\n",
            "Time for epoch 1300,\n",
            "counter 1400:\n",
            "[-0.158451468 -0.709515929]\n",
            "Time for epoch 1400,\n",
            "counter 1500:\n",
            "[-0.223535597 -0.509716749]\n",
            "Time for epoch 1500,\n",
            "counter 1600:\n",
            "[-0.211806297 -0.577253222]\n",
            "Time for epoch 1600,\n",
            "counter 1700:\n",
            "[-0.409751326 -0.496746868]\n",
            "Time for epoch 1700,\n",
            "counter 1800:\n",
            "[-0.478279471 -0.535069525]\n",
            "Time for epoch 1800,\n",
            "counter 1900:\n",
            "[-0.304561108 -0.790482044]\n",
            "Time for epoch 1900,\n",
            "counter 2000:\n",
            "[-0.553033888 -0.709122777]\n",
            "Time for epoch 2000,\n",
            "INFO:tensorflow:Assets written to: /tmp/saved_model/assets\n",
            "Time for the training is 6.419501066207886 sec,\n"
          ],
          "name": "stdout"
        },
        {
          "output_type": "display_data",
          "data": {
            "image/png": "[encoded data removed]",
            "text/plain": [
              "<Figure size 288x288 with 1 Axes>"
            ]
          },
          "metadata": {
            "tags": []
          }
        },
        {
          "output_type": "stream",
          "text": [
            "Epoch 000: Loss: 2.722, Accuracy: 26.000%\n",
            "Epoch 500: Loss: 2.410, Accuracy: 28.000%\n",
            "counter 100:\n",
            "[-0.977808356 -1.08107984]\n",
            "Time for epoch 100,\n",
            "counter 200:\n",
            "[-0.75894 -1.02372515]\n",
            "Time for epoch 200,\n",
            "counter 300:\n",
            "[-0.395256 -1.0815618]\n",
            "Time for epoch 300,\n",
            "counter 400:\n",
            "[-0.699174 -1.16303599]\n",
            "Time for epoch 400,\n",
            "counter 500:\n",
            "[-0.781370223 -1.02623618]\n",
            "Time for epoch 500,\n",
            "counter 600:\n",
            "[-0.421292275 -0.988834918]\n",
            "Time for epoch 600,\n",
            "counter 700:\n",
            "[-0.353841603 -1.15435731]\n",
            "Time for epoch 700,\n",
            "counter 800:\n",
            "[-0.4367 -1.25337875]\n",
            "Time for epoch 800,\n",
            "counter 900:\n",
            "[-0.657447398 -0.922176838]\n",
            "Time for epoch 900,\n",
            "counter 1000:\n",
            "[-0.787687778 -1.24237764]\n",
            "Time for epoch 1000,\n",
            "counter 1100:\n",
            "[-0.537422955 -1.21226823]\n",
            "Time for epoch 1100,\n",
            "counter 1200:\n",
            "[-0.749159873 -1.21184123]\n",
            "Time for epoch 1200,\n",
            "counter 1300:\n",
            "[-0.385051 -1.28197968]\n",
            "Time for epoch 1300,\n",
            "counter 1400:\n",
            "[-0.502141178 -1.13358355]\n",
            "Time for epoch 1400,\n",
            "counter 1500:\n",
            "[-0.560651958 -1.30985308]\n",
            "Time for epoch 1500,\n",
            "counter 1600:\n",
            "[-0.872769177 -0.861993134]\n",
            "Time for epoch 1600,\n",
            "counter 1700:\n",
            "[-0.199980646 -1.12127364]\n",
            "Time for epoch 1700,\n",
            "counter 1800:\n",
            "[-0.611552358 -1.25871027]\n",
            "Time for epoch 1800,\n",
            "counter 1900:\n",
            "[-0.538293064 -0.950514376]\n",
            "Time for epoch 1900,\n",
            "counter 2000:\n",
            "[-0.642940462 -1.1331135]\n",
            "Time for epoch 2000,\n",
            "INFO:tensorflow:Assets written to: /tmp/saved_model/assets\n",
            "Time for the training is 6.68799901008606 sec,\n",
            "Epoch 000: Loss: 2.483, Accuracy: 36.000%\n",
            "Epoch 500: Loss: 2.392, Accuracy: 39.000%\n",
            "Epoch 1000: Loss: 2.392, Accuracy: 48.000%\n",
            "Epoch 1500: Loss: 2.403, Accuracy: 34.000%\n",
            "Epoch 2000: Loss: 2.433, Accuracy: 43.000%\n"
          ],
          "name": "stdout"
        },
        {
          "output_type": "display_data",
          "data": {
            "image/png": "[encoded data removed]",
            "text/plain": [
              "<Figure size 288x288 with 1 Axes>"
            ]
          },
          "metadata": {
            "tags": []
          }
        },
        {
          "output_type": "stream",
          "text": [
            "Epoch 000: Loss: 2.426, Accuracy: 42.000%\n",
            "Epoch 500: Loss: 2.344, Accuracy: 53.000%\n",
            "Epoch 1000: Loss: 2.354, Accuracy: 36.000%\n",
            "Epoch 1500: Loss: 2.345, Accuracy: 47.000%\n"
          ],
          "name": "stdout"
        },
        {
          "output_type": "display_data",
          "data": {
            "image/png": "[encoded data removed]",
            "text/plain": [
              "<Figure size 288x288 with 1 Axes>"
            ]
          },
          "metadata": {
            "tags": []
          }
        },
        {
          "output_type": "stream",
          "text": [
            "counter 100:\n",
            "[0.200719237 -0.661587715]\n",
            "Time for epoch 100,\n",
            "counter 200:\n",
            "[0.377186477 -0.884827435]\n",
            "Time for epoch 200,\n",
            "counter 300:\n",
            "[0.117350295 -0.759282947]\n",
            "Time for epoch 300,\n",
            "counter 400:\n",
            "[0.0822986215 -0.670722425]\n",
            "Time for epoch 400,\n",
            "counter 500:\n",
            "[0.276236951 -0.856380045]\n",
            "Time for epoch 500,\n",
            "counter 600:\n",
            "[0.299747497 -0.785599291]\n",
            "Time for epoch 600,\n",
            "counter 700:\n",
            "[0.193367183 -0.862670302]\n",
            "Time for epoch 700,\n",
            "counter 800:\n",
            "[0.244310275 -0.601285934]\n",
            "Time for epoch 800,\n",
            "counter 900:\n",
            "[0.189461604 -0.720464647]\n",
            "Time for epoch 900,\n",
            "counter 1000:\n",
            "[0.456109822 -0.625015736]\n",
            "Time for epoch 1000,\n",
            "counter 1100:\n",
            "[-0.0579543076 -0.56145668]\n",
            "Time for epoch 1100,\n",
            "counter 1200:\n",
            "[0.289698869 -0.804127812]\n",
            "Time for epoch 1200,\n",
            "counter 1300:\n",
            "[0.219836786 -0.73034]\n",
            "Time for epoch 1300,\n",
            "counter 1400:\n",
            "[0.493205398 -0.813961]\n",
            "Time for epoch 1400,\n",
            "counter 1500:\n",
            "[0.343153507 -0.772948265]\n",
            "Time for epoch 1500,\n",
            "counter 1600:\n",
            "[0.262616158 -0.967006683]\n",
            "Time for epoch 1600,\n",
            "counter 1700:\n",
            "[0.280350626 -0.600247145]\n",
            "Time for epoch 1700,\n",
            "counter 1800:\n",
            "[0.31137085 -0.451605201]\n",
            "Time for epoch 1800,\n",
            "counter 1900:\n",
            "[0.377118289 -0.365794718]\n",
            "Time for epoch 1900,\n",
            "counter 2000:\n",
            "[0.224715918 -0.962424159]\n",
            "Time for epoch 2000,\n",
            "INFO:tensorflow:Assets written to: /tmp/saved_model/assets\n",
            "Time for the training is 6.499711275100708 sec,\n"
          ],
          "name": "stdout"
        },
        {
          "output_type": "display_data",
          "data": {
            "image/png": "[encoded data removed]",
            "text/plain": [
              "<Figure size 288x288 with 1 Axes>"
            ]
          },
          "metadata": {
            "tags": []
          }
        },
        {
          "output_type": "stream",
          "text": [
            "Epoch 000: Loss: 2.327, Accuracy: 46.000%\n",
            "Epoch 500: Loss: 2.314, Accuracy: 45.000%\n",
            "counter 100:\n",
            "[0.195433199 -0.243682742]\n",
            "Time for epoch 100,\n",
            "counter 200:\n",
            "[0.546271563 -0.0204431601]\n",
            "Time for epoch 200,\n",
            "counter 300:\n",
            "[0.742683768 -0.171850428]\n",
            "Time for epoch 300,\n",
            "counter 400:\n",
            "[0.663302243 -0.285624385]\n",
            "Time for epoch 400,\n",
            "counter 500:\n",
            "[0.801114857 -0.0902744532]\n",
            "Time for epoch 500,\n",
            "counter 600:\n",
            "[0.453746855 -0.0289775599]\n",
            "Time for epoch 600,\n",
            "counter 700:\n",
            "[0.424520493 -0.0145323323]\n",
            "Time for epoch 700,\n",
            "counter 800:\n",
            "[0.690945625 -0.0974878892]\n",
            "Time for epoch 800,\n",
            "counter 900:\n",
            "[0.587684572 -0.197804123]\n",
            "Time for epoch 900,\n",
            "counter 1000:\n",
            "[0.65689671 -0.0795123]\n",
            "Time for epoch 1000,\n",
            "counter 1100:\n",
            "[0.71195364 -0.283876032]\n",
            "Time for epoch 1100,\n",
            "counter 1200:\n",
            "[0.523183882 -0.2115]\n",
            "Time for epoch 1200,\n",
            "counter 1300:\n",
            "[0.282706797 -0.0121878395]\n",
            "Time for epoch 1300,\n",
            "counter 1400:\n",
            "[0.576879144 -0.137743518]\n",
            "Time for epoch 1400,\n",
            "counter 1500:\n",
            "[0.642480075 -0.299847573]\n",
            "Time for epoch 1500,\n",
            "counter 1600:\n",
            "[0.71865207 -0.168861687]\n",
            "Time for epoch 1600,\n",
            "counter 1700:\n",
            "[0.558443964 -0.206009209]\n",
            "Time for epoch 1700,\n",
            "counter 1800:\n",
            "[0.542056382 0.187397376]\n",
            "Time for epoch 1800,\n",
            "counter 1900:\n",
            "[0.557436228 -0.0633878261]\n",
            "Time for epoch 1900,\n",
            "counter 2000:\n",
            "[0.589184463 -0.0329090618]\n",
            "Time for epoch 2000,\n",
            "INFO:tensorflow:Assets written to: /tmp/saved_model/assets\n",
            "Time for the training is 6.7119460105896 sec,\n",
            "Epoch 000: Loss: 2.314, Accuracy: 47.000%\n",
            "Epoch 500: Loss: 2.326, Accuracy: 54.000%\n",
            "Epoch 1000: Loss: 2.260, Accuracy: 51.000%\n",
            "Epoch 1500: Loss: 2.260, Accuracy: 60.000%\n",
            "Epoch 2000: Loss: 2.260, Accuracy: 60.000%\n"
          ],
          "name": "stdout"
        },
        {
          "output_type": "display_data",
          "data": {
            "image/png": "[encoded data removed]",
            "text/plain": [
              "<Figure size 288x288 with 1 Axes>"
            ]
          },
          "metadata": {
            "tags": []
          }
        },
        {
          "output_type": "stream",
          "text": [
            "Epoch 000: Loss: 2.264, Accuracy: 47.000%\n",
            "Epoch 500: Loss: 2.243, Accuracy: 51.000%\n",
            "Epoch 1000: Loss: 2.251, Accuracy: 59.000%\n",
            "Epoch 1500: Loss: 2.245, Accuracy: 55.000%\n"
          ],
          "name": "stdout"
        },
        {
          "output_type": "display_data",
          "data": {
            "image/png": "[encoded data removed]",
            "text/plain": [
              "<Figure size 288x288 with 1 Axes>"
            ]
          },
          "metadata": {
            "tags": []
          }
        },
        {
          "output_type": "stream",
          "text": [
            "counter 100:\n",
            "[0.278193474 -1.15840697]\n",
            "Time for epoch 100,\n",
            "counter 200:\n",
            "[0.251828104 -0.983374298]\n",
            "Time for epoch 200,\n",
            "counter 300:\n",
            "[0.480487198 -0.848803818]\n",
            "Time for epoch 300,\n",
            "counter 400:\n",
            "[0.502243698 -0.919929]\n",
            "Time for epoch 400,\n",
            "counter 500:\n",
            "[0.244650617 -1.17379892]\n",
            "Time for epoch 500,\n",
            "counter 600:\n",
            "[0.152509838 -1.05289292]\n",
            "Time for epoch 600,\n",
            "counter 700:\n",
            "[0.256281585 -0.752986193]\n",
            "Time for epoch 700,\n",
            "counter 800:\n",
            "[0.595912576 -1.04655623]\n",
            "Time for epoch 800,\n",
            "counter 900:\n",
            "[0.419770598 -0.810609221]\n",
            "Time for epoch 900,\n",
            "counter 1000:\n",
            "[0.598723948 -0.932222307]\n",
            "Time for epoch 1000,\n",
            "counter 1100:\n",
            "[0.355772555 -0.756833375]\n",
            "Time for epoch 1100,\n",
            "counter 1200:\n",
            "[0.534080744 -1.18442595]\n",
            "Time for epoch 1200,\n",
            "counter 1300:\n",
            "[0.456302762 -0.659773827]\n",
            "Time for epoch 1300,\n",
            "counter 1400:\n",
            "[0.406327099 -1.15486646]\n",
            "Time for epoch 1400,\n",
            "counter 1500:\n",
            "[0.197769374 -0.988777578]\n",
            "Time for epoch 1500,\n",
            "counter 1600:\n",
            "[0.323849916 -1.02927315]\n",
            "Time for epoch 1600,\n",
            "counter 1700:\n",
            "[0.502447367 -1.26165426]\n",
            "Time for epoch 1700,\n",
            "counter 1800:\n",
            "[0.105819046 -0.921694636]\n",
            "Time for epoch 1800,\n",
            "counter 1900:\n",
            "[0.488657504 -1.15226281]\n",
            "Time for epoch 1900,\n",
            "counter 2000:\n",
            "[0.292527974 -0.813328087]\n",
            "Time for epoch 2000,\n",
            "INFO:tensorflow:Assets written to: /tmp/saved_model/assets\n",
            "Time for the training is 6.484700918197632 sec,\n",
            "Time for the training is 239.0514919757843 sec,\n",
            "CPU times: user 4min 28s, sys: 3.58 s, total: 4min 31s\n",
            "Wall time: 3min 59s\n"
          ],
          "name": "stdout"
        }
      ]
    },
    {
      "cell_type": "code",
      "metadata": {
        "id": "MUbnLX0y_p6E",
        "colab_type": "code",
        "outputId": "0bcbc665-d7f1-4427-d9e2-10908138c070",
        "colab": {
          "base_uri": "https://localhost:8080/",
          "height": 734
        }
      },
      "source": [
        "%%time\n",
        "generator.trainable =False\n",
        "encoder.trainable = True\n",
        "decoder.trainable = True\n",
        "gan_AE = tf.keras.models.Sequential([encoder,generator,decoder])\n",
        "data = random_sample(10000000)\n",
        "start = time.time()\n",
        "gan_AE.compile(optimizer=keras.optimizers.Nadam(lr=0.0005),loss='sparse_categorical_crossentropy',metrics=['accuracy'])\n",
        "history = gan_AE.fit(data, data, batch_size=500,steps_per_epoch=200, epochs=20)\n",
        "\n",
        "test_encoding(M,n)"
      ],
      "execution_count": 25,
      "outputs": [
        {
          "output_type": "stream",
          "text": [
            "Train on 10000000 samples\n",
            "Epoch 1/20\n",
            "   97000/10000000 [..............................] - ETA: 5:52 - loss: 7.2661 - accuracy: 0.5477Epoch 2/20\n",
            "   98500/10000000 [..............................] - ETA: 1:52 - loss: 1.2812 - accuracy: 0.6873Epoch 3/20\n",
            "   96500/10000000 [..............................] - ETA: 1:52 - loss: 0.4754 - accuracy: 0.8321Epoch 4/20\n",
            "   99000/10000000 [..............................] - ETA: 1:51 - loss: 0.3900 - accuracy: 0.8758Epoch 5/20\n",
            "  100000/10000000 [..............................] - ETA: 1:49 - loss: 0.3345 - accuracy: 0.8973Epoch 6/20\n",
            "   96000/10000000 [..............................] - ETA: 1:49 - loss: 0.2938 - accuracy: 0.9077Epoch 7/20\n",
            "   96000/10000000 [..............................] - ETA: 1:49 - loss: 0.2631 - accuracy: 0.9177Epoch 8/20\n",
            "   98500/10000000 [..............................] - ETA: 1:50 - loss: 0.2353 - accuracy: 0.9267Epoch 9/20\n",
            "   98000/10000000 [..............................] - ETA: 1:52 - loss: 0.2186 - accuracy: 0.9302Epoch 10/20\n",
            "   98000/10000000 [..............................] - ETA: 1:53 - loss: 0.2021 - accuracy: 0.9342Epoch 11/20\n",
            "   95500/10000000 [..............................] - ETA: 1:50 - loss: 0.1953 - accuracy: 0.9356Epoch 12/20\n",
            "  100000/10000000 [..............................] - ETA: 1:51 - loss: 0.1838 - accuracy: 0.9381Epoch 13/20\n",
            "   96500/10000000 [..............................] - ETA: 1:49 - loss: 0.1808 - accuracy: 0.9395Epoch 14/20\n",
            "  100000/10000000 [..............................] - ETA: 1:50 - loss: 0.1735 - accuracy: 0.9413Epoch 15/20\n",
            "   97500/10000000 [..............................] - ETA: 1:53 - loss: 0.1704 - accuracy: 0.9416Epoch 16/20\n",
            "  100000/10000000 [..............................] - ETA: 1:50 - loss: 0.1720 - accuracy: 0.9402Epoch 17/20\n",
            "   98000/10000000 [..............................] - ETA: 1:53 - loss: 0.1681 - accuracy: 0.9420Epoch 18/20\n",
            "   98500/10000000 [..............................] - ETA: 1:52 - loss: 0.1666 - accuracy: 0.9419Epoch 19/20\n",
            "   99000/10000000 [..............................] - ETA: 1:52 - loss: 0.1636 - accuracy: 0.9425Epoch 20/20\n",
            "   96000/10000000 [..............................] - ETA: 1:50 - loss: 0.1632 - accuracy: 0.9420"
          ],
          "name": "stdout"
        },
        {
          "output_type": "display_data",
          "data": {
            "image/png": "[encoded data removed]",
            "text/plain": [
              "<Figure size 288x288 with 1 Axes>"
            ]
          },
          "metadata": {
            "tags": []
          }
        },
        {
          "output_type": "stream",
          "text": [
            "CPU times: user 31.5 s, sys: 1.04 s, total: 32.5 s\n",
            "Wall time: 25.3 s\n"
          ],
          "name": "stdout"
        }
      ]
    },
    {
      "cell_type": "markdown",
      "metadata": {
        "id": "6GW2opX7SwMo",
        "colab_type": "text"
      },
      "source": [
        "\n",
        "# AE training"
      ]
    },
    {
      "cell_type": "code",
      "metadata": {
        "id": "ukO76l6yIoPc",
        "colab_type": "code",
        "colab": {}
      },
      "source": [
        "# test msg sequence for normal encoding\n",
        "N_test = 500000\n",
        "test_msg = np.random.randint(M, size=N_test)"
      ],
      "execution_count": 0,
      "outputs": []
    },
    {
      "cell_type": "markdown",
      "metadata": {
        "id": "PK5wA-zzHScv",
        "colab_type": "text"
      },
      "source": [
        "### Comparison"
      ]
    },
    {
      "cell_type": "code",
      "metadata": {
        "id": "7M-S0sbhIoPw",
        "colab_type": "code",
        "outputId": "7a7261ae-816a-4fa9-aa66-c39116b6210e",
        "colab": {
          "base_uri": "https://localhost:8080/",
          "height": 108
        }
      },
      "source": [
        "gan_bber_data = gan_Test_AE(test_msg)"
      ],
      "execution_count": 27,
      "outputs": [
        {
          "output_type": "stream",
          "text": [
            "Progress: 6 of 30 parts\n",
            "Progress: 12 of 30 parts\n",
            "Progress: 18 of 30 parts\n",
            "Progress: 24 of 30 parts\n",
            "Progress: 30 of 30 parts\n"
          ],
          "name": "stdout"
        }
      ]
    },
    {
      "cell_type": "code",
      "metadata": {
        "id": "UYdEm0eQIoP2",
        "colab_type": "code",
        "outputId": "7fa53f13-5a58-4954-a7c0-12b82da97f93",
        "colab": {
          "base_uri": "https://localhost:8080/",
          "height": 352
        }
      },
      "source": [
        "# Approximate 16 QAM Error\n",
        "def SIXT_QAM_sim(ebno):\n",
        "    return (3.0/2)*special.erfc(np.sqrt((4.0/10)*10.**(ebno/10)))\n",
        "\n",
        "ebnodbs = np.linspace(0,15,16)\n",
        "fig = plt.figure(figsize=(8, 5))\n",
        "plt.semilogy(gan_bber_data[0], gan_bber_data[1], '^-')\n",
        "plt.semilogy(ebnodbs, SIXT_QAM_sim(ebnodbs), '*-');\n",
        "plt.gca().set_ylim(1e-5, 1)\n",
        "plt.gca().set_xlim(0, 15)\n",
        "plt.ylabel(\"Batch Symbol Error Rate\", fontsize=14, rotation=90)\n",
        "plt.xlabel(\"SNR [dB]\", fontsize=18)\n",
        "plt.legend(['AE with GAN', '16QAM'],\n",
        "           prop={'size': 14}, loc='upper right');\n",
        "plt.grid(True, which=\"both\")\n",
        "#print('time to train the AE Model with GAN',time_to_train_gan)\n"
      ],
      "execution_count": 28,
      "outputs": [
        {
          "output_type": "display_data",
          "data": {
            "image/png": "[encoded data removed]",
            "text/plain": [
              "<Figure size 576x360 with 1 Axes>"
            ]
          },
          "metadata": {
            "tags": []
          }
        }
      ]
    },
    {
      "cell_type": "code",
      "metadata": {
        "id": "bBes21qLlcS8",
        "colab_type": "code",
        "colab": {
          "base_uri": "https://localhost:8080/",
          "height": 108
        },
        "outputId": "fc6c248e-105d-4748-dfed-2eb88d39ddda"
      },
      "source": [
        "bber_data_rayleigh = Test_AE_rayleigh(test_msg)"
      ],
      "execution_count": 29,
      "outputs": [
        {
          "output_type": "stream",
          "text": [
            "Progress: 6 of 30 parts\n",
            "Progress: 12 of 30 parts\n",
            "Progress: 18 of 30 parts\n",
            "Progress: 24 of 30 parts\n",
            "Progress: 30 of 30 parts\n"
          ],
          "name": "stdout"
        }
      ]
    },
    {
      "cell_type": "code",
      "metadata": {
        "id": "q60pg9b9Rz7C",
        "colab_type": "code",
        "outputId": "1375d014-bba6-4e60-9180-4fa1affea26d",
        "colab": {
          "base_uri": "https://localhost:8080/",
          "height": 352
        }
      },
      "source": [
        "def SIXT_QAM_sim(ebno):\n",
        "    return (3.0/2)*special.erfc(np.sqrt((4.0/10)*10.**(ebno/10)))\n",
        "\n",
        "ebnodbs = np.linspace(0,15,16)\n",
        "fig = plt.figure(figsize=(8, 5))\n",
        "plt.semilogy(gan_bber_data[0], gan_bber_data[1], 'o-')\n",
        "plt.semilogy(bber_data_rayleigh[0], bber_data_rayleigh[1], '+-')\n",
        "#plt.semilogy(ebnodbs, SIXT_QAM_sim(ebnodbs), '^-');\n",
        "plt.gca().set_ylim(1e-5, 1)\n",
        "plt.gca().set_xlim(0, 15)\n",
        "plt.ylabel(\"Batch Symbol Error Rate\", fontsize=14, rotation=90)\n",
        "plt.xlabel(\"SNR [dB]\", fontsize=18)\n",
        "plt.legend(['BLER for Gauss','BLER for Rayleigh'],\n",
        "           prop={'size': 14}, loc='upper right');\n",
        "plt.grid(True, which=\"both\")\n",
        "#plt.savefig('home/ben/Downloads/MineRayleigh.eps', format='eps')"
      ],
      "execution_count": 30,
      "outputs": [
        {
          "output_type": "display_data",
          "data": {
            "image/png": "[encoded data removed]",
            "text/plain": [
              "<Figure size 576x360 with 1 Axes>"
            ]
          },
          "metadata": {
            "tags": []
          }
        }
      ]
    },
    {
      "cell_type": "code",
      "metadata": {
        "id": "xR1kh-fxcASt",
        "colab_type": "code",
        "colab": {}
      },
      "source": [
        ""
      ],
      "execution_count": 0,
      "outputs": []
    }
  ]
}