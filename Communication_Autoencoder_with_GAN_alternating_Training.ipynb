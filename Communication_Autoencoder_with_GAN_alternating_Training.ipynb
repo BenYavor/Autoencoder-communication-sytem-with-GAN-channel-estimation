{
  "nbformat": 4,
  "nbformat_minor": 0,
  "metadata": {
    "colab": {
      "name": "Communication Autoencoder with GAN alternating Training.ipynb",
      "provenance": [],
      "collapsed_sections": [],
      "include_colab_link": true
    },
    "kernelspec": {
      "name": "python3",
      "display_name": "Python 3"
    }
  },
  "cells": [
    {
      "cell_type": "markdown",
      "metadata": {
        "id": "view-in-github",
        "colab_type": "text"
      },
      "source": [
        "<a href=\"https://colab.research.google.com/github/BenYavor/Autoencoder_communication_sytem_with_GAN_channel-estimation/blob/master/Communication_Autoencoder_with_GAN_alternating_Training.ipynb\" target=\"_parent\"><img src=\"https://colab.research.google.com/assets/colab-badge.svg\" alt=\"Open In Colab\"/></a>"
      ]
    },
    {
      "cell_type": "code",
      "metadata": {
        "id": "Y3Mvn1V30ejH",
        "colab_type": "code",
        "outputId": "ad92723c-28ca-45f5-8bef-1687783f2f81",
        "colab": {
          "base_uri": "https://localhost:8080/",
          "height": 644
        }
      },
      "source": [
        "!pip install tensorflow==2.0.0\n",
        "import numpy as np\n",
        "%matplotlib inline\n",
        "import matplotlib.pyplot as plt   \n",
        "import warnings\n",
        "with warnings.catch_warnings():\n",
        "    warnings.filterwarnings(\"ignore\",category=FutureWarning)\n",
        "    import tensorflow as tf\n",
        "import os\n",
        "tf.__version__\n",
        "from tensorflow import keras\n",
        "import time\n",
        "from __future__ import absolute_import, division, print_function, unicode_literals\n",
        "import pandas as pd\n",
        "import sys\n",
        "assert sys.version_info >= (3, 5)\n",
        "%matplotlib inline\n",
        "import matplotlib as mpl\n",
        "mpl.rc('axes', labelsize=14)\n",
        "mpl.rc('xtick', labelsize=12)\n",
        "mpl.rc('ytick', labelsize=12)\n",
        "import tensorflow as tf\n",
        "from tensorflow import keras\n",
        "from sklearn.preprocessing import OneHotEncoder\n",
        "import pandas as pd\n",
        "from scipy import special\n",
        "from tensorflow.keras import layers\n",
        "np.random.seed(42)\n",
        "tf.random.set_seed(42)"
      ],
      "execution_count": 1,
      "outputs": [
        {
          "output_type": "stream",
          "text": [
            "Requirement already satisfied: tensorflow==2.0.0 in /usr/local/lib/python3.6/dist-packages (2.0.0)\n",
            "Requirement already satisfied: astor>=0.6.0 in /usr/local/lib/python3.6/dist-packages (from tensorflow==2.0.0) (0.8.1)\n",
            "Requirement already satisfied: six>=1.10.0 in /usr/local/lib/python3.6/dist-packages (from tensorflow==2.0.0) (1.12.0)\n",
            "Requirement already satisfied: tensorflow-estimator<2.1.0,>=2.0.0 in /usr/local/lib/python3.6/dist-packages (from tensorflow==2.0.0) (2.0.1)\n",
            "Requirement already satisfied: wheel>=0.26 in /usr/local/lib/python3.6/dist-packages (from tensorflow==2.0.0) (0.33.6)\n",
            "Requirement already satisfied: google-pasta>=0.1.6 in /usr/local/lib/python3.6/dist-packages (from tensorflow==2.0.0) (0.1.8)\n",
            "Requirement already satisfied: keras-preprocessing>=1.0.5 in /usr/local/lib/python3.6/dist-packages (from tensorflow==2.0.0) (1.1.0)\n",
            "Requirement already satisfied: numpy<2.0,>=1.16.0 in /usr/local/lib/python3.6/dist-packages (from tensorflow==2.0.0) (1.17.4)\n",
            "Requirement already satisfied: grpcio>=1.8.6 in /usr/local/lib/python3.6/dist-packages (from tensorflow==2.0.0) (1.15.0)\n",
            "Requirement already satisfied: gast==0.2.2 in /usr/local/lib/python3.6/dist-packages (from tensorflow==2.0.0) (0.2.2)\n",
            "Requirement already satisfied: opt-einsum>=2.3.2 in /usr/local/lib/python3.6/dist-packages (from tensorflow==2.0.0) (3.1.0)\n",
            "Requirement already satisfied: tensorboard<2.1.0,>=2.0.0 in /usr/local/lib/python3.6/dist-packages (from tensorflow==2.0.0) (2.0.2)\n",
            "Requirement already satisfied: wrapt>=1.11.1 in /usr/local/lib/python3.6/dist-packages (from tensorflow==2.0.0) (1.11.2)\n",
            "Requirement already satisfied: keras-applications>=1.0.8 in /usr/local/lib/python3.6/dist-packages (from tensorflow==2.0.0) (1.0.8)\n",
            "Requirement already satisfied: protobuf>=3.6.1 in /usr/local/lib/python3.6/dist-packages (from tensorflow==2.0.0) (3.10.0)\n",
            "Requirement already satisfied: termcolor>=1.1.0 in /usr/local/lib/python3.6/dist-packages (from tensorflow==2.0.0) (1.1.0)\n",
            "Requirement already satisfied: absl-py>=0.7.0 in /usr/local/lib/python3.6/dist-packages (from tensorflow==2.0.0) (0.8.1)\n",
            "Requirement already satisfied: google-auth<2,>=1.6.3 in /usr/local/lib/python3.6/dist-packages (from tensorboard<2.1.0,>=2.0.0->tensorflow==2.0.0) (1.10.0)\n",
            "Requirement already satisfied: werkzeug>=0.11.15 in /usr/local/lib/python3.6/dist-packages (from tensorboard<2.1.0,>=2.0.0->tensorflow==2.0.0) (0.16.0)\n",
            "Requirement already satisfied: google-auth-oauthlib<0.5,>=0.4.1 in /usr/local/lib/python3.6/dist-packages (from tensorboard<2.1.0,>=2.0.0->tensorflow==2.0.0) (0.4.1)\n",
            "Requirement already satisfied: markdown>=2.6.8 in /usr/local/lib/python3.6/dist-packages (from tensorboard<2.1.0,>=2.0.0->tensorflow==2.0.0) (3.1.1)\n",
            "Requirement already satisfied: setuptools>=41.0.0 in /usr/local/lib/python3.6/dist-packages (from tensorboard<2.1.0,>=2.0.0->tensorflow==2.0.0) (42.0.2)\n",
            "Requirement already satisfied: requests<3,>=2.21.0 in /usr/local/lib/python3.6/dist-packages (from tensorboard<2.1.0,>=2.0.0->tensorflow==2.0.0) (2.21.0)\n",
            "Requirement already satisfied: h5py in /usr/local/lib/python3.6/dist-packages (from keras-applications>=1.0.8->tensorflow==2.0.0) (2.8.0)\n",
            "Requirement already satisfied: cachetools<5.0,>=2.0.0 in /usr/local/lib/python3.6/dist-packages (from google-auth<2,>=1.6.3->tensorboard<2.1.0,>=2.0.0->tensorflow==2.0.0) (4.0.0)\n",
            "Requirement already satisfied: rsa<4.1,>=3.1.4 in /usr/local/lib/python3.6/dist-packages (from google-auth<2,>=1.6.3->tensorboard<2.1.0,>=2.0.0->tensorflow==2.0.0) (4.0)\n",
            "Requirement already satisfied: pyasn1-modules>=0.2.1 in /usr/local/lib/python3.6/dist-packages (from google-auth<2,>=1.6.3->tensorboard<2.1.0,>=2.0.0->tensorflow==2.0.0) (0.2.7)\n",
            "Requirement already satisfied: requests-oauthlib>=0.7.0 in /usr/local/lib/python3.6/dist-packages (from google-auth-oauthlib<0.5,>=0.4.1->tensorboard<2.1.0,>=2.0.0->tensorflow==2.0.0) (1.3.0)\n",
            "Requirement already satisfied: urllib3<1.25,>=1.21.1 in /usr/local/lib/python3.6/dist-packages (from requests<3,>=2.21.0->tensorboard<2.1.0,>=2.0.0->tensorflow==2.0.0) (1.24.3)\n",
            "Requirement already satisfied: chardet<3.1.0,>=3.0.2 in /usr/local/lib/python3.6/dist-packages (from requests<3,>=2.21.0->tensorboard<2.1.0,>=2.0.0->tensorflow==2.0.0) (3.0.4)\n",
            "Requirement already satisfied: certifi>=2017.4.17 in /usr/local/lib/python3.6/dist-packages (from requests<3,>=2.21.0->tensorboard<2.1.0,>=2.0.0->tensorflow==2.0.0) (2019.11.28)\n",
            "Requirement already satisfied: idna<2.9,>=2.5 in /usr/local/lib/python3.6/dist-packages (from requests<3,>=2.21.0->tensorboard<2.1.0,>=2.0.0->tensorflow==2.0.0) (2.8)\n",
            "Requirement already satisfied: pyasn1>=0.1.3 in /usr/local/lib/python3.6/dist-packages (from rsa<4.1,>=3.1.4->google-auth<2,>=1.6.3->tensorboard<2.1.0,>=2.0.0->tensorflow==2.0.0) (0.4.8)\n",
            "Requirement already satisfied: oauthlib>=3.0.0 in /usr/local/lib/python3.6/dist-packages (from requests-oauthlib>=0.7.0->google-auth-oauthlib<0.5,>=0.4.1->tensorboard<2.1.0,>=2.0.0->tensorflow==2.0.0) (3.1.0)\n"
          ],
          "name": "stdout"
        }
      ]
    },
    {
      "cell_type": "markdown",
      "metadata": {
        "id": "1wlZswcMF7Rt",
        "colab_type": "text"
      },
      "source": [
        "#### Vergleich\n",
        "Als erstes für feste $k$ und $n$, was sich ändert ist die Samplesize, Anzahl der Samples und SNR"
      ]
    },
    {
      "cell_type": "markdown",
      "metadata": {
        "id": "4qpY-gawAf-9",
        "colab_type": "text"
      },
      "source": [
        "###Systemparameter\n",
        "ACHTUNG: CHANNELANZAHL WURDE UNTERSCHIEDLICH VERWENDET \\\\\n",
        "$k$ - die Anzhal der bits \\\\\n",
        "$M$ - Anzahl der unterschiedlichen Nachrichten \\\\\n",
        "$n$ - channel uses\\\\\n",
        "$N$ - Länge des Rauschvektors"
      ]
    },
    {
      "cell_type": "code",
      "metadata": {
        "colab_type": "code",
        "id": "czeNNfpY1qc2",
        "outputId": "15ae8113-f913-4799-84d7-15e5f98d71c8",
        "colab": {
          "base_uri": "https://localhost:8080/",
          "height": 35
        }
      },
      "source": [
        "k = 4      # Number of information bits per message, i.e., M=2**k\n",
        "M = 2**k\n",
        "n = 2    # Number of real channel uses per message\n",
        "#k = int(np.log2(M))\n",
        "#n = 2\n",
        "print(M)\n",
        "\n",
        "SNR = 7\n"
      ],
      "execution_count": 2,
      "outputs": [
        {
          "output_type": "stream",
          "text": [
            "16\n"
          ],
          "name": "stdout"
        }
      ]
    },
    {
      "cell_type": "markdown",
      "metadata": {
        "id": "BA4TqJBOXXIg",
        "colab_type": "text"
      },
      "source": [
        "## Training Parameter"
      ]
    },
    {
      "cell_type": "code",
      "metadata": {
        "id": "aJZ_cnp9V-Q6",
        "colab_type": "code",
        "colab": {}
      },
      "source": [
        "gen_learning_rate=0.0001 \n",
        "disc_learning_rate = 0.0001                  # 0.0001  "
      ],
      "execution_count": 0,
      "outputs": []
    },
    {
      "cell_type": "markdown",
      "metadata": {
        "id": "tb-DiBwSN255",
        "colab_type": "text"
      },
      "source": [
        "### Different Layers"
      ]
    },
    {
      "cell_type": "code",
      "metadata": {
        "id": "hFMMLrY0LthL",
        "colab_type": "code",
        "colab": {}
      },
      "source": [
        "randN_initial = keras.initializers.RandomNormal(mean=0.0, stddev=0.05, seed=None)\n",
        "\n",
        "EncIn = tf.keras.layers.Input(shape=(M,))#, dtype= tf.int32)\n",
        "e1 = tf.keras.layers.Dense(2*n, activation=None)\n",
        "e2 = tf.keras.layers.Lambda(lambda x:tf.reshape(x, shape=[-1,int(n/2),2]))\n",
        "EncOut = tf.keras.layers.Lambda(lambda x: x/tf.sqrt(2*tf.reduce_mean(tf.square(x))))\n",
        "GenIn = tf.keras.layers.Lambda(lambda x:tf.reshape(x,(tf.shape(x)[0],-1)))\n",
        "# = tf.keras.layers.Lambda(generator)\n",
        "DecIn = tf.keras.layers.Lambda(lambda x:tf.reshape(x, shape=[-1,int(n/2),2]))\n",
        "d1 = tf.keras.layers.Lambda(lambda x:tf.reshape(x, shape=[-1,n]))\n",
        "d2 = tf.keras.layers.Dense(M, activation='relu')\n",
        "DecOut = tf.keras.layers.Dense(M, activation='softmax')\n",
        "\n",
        "\n",
        "#noise_std = EbNo_to_noise(TRAINING_SNR)\n",
        "# custom functions / layers without weights\n",
        "norm_layer = keras.layers.Lambda(lambda x: tf.divide(x,tf.sqrt(2*tf.reduce_mean(tf.square(x)))))\n",
        "shape_layer = keras.layers.Lambda(lambda x: tf.reshape(x, shape=[-1,2,n]))\n",
        "shape_layer2 = keras.layers.Lambda(lambda x: tf.reshape(x, shape=[-1,n]))\n",
        "channel_layer = keras.layers.Lambda(lambda x: x + tf.random.normal(tf.shape(x), mean=0.0, stddev=noise_std))"
      ],
      "execution_count": 0,
      "outputs": []
    },
    {
      "cell_type": "markdown",
      "metadata": {
        "id": "7J96hJhKO9VJ",
        "colab_type": "text"
      },
      "source": [
        "### Help functions"
      ]
    },
    {
      "cell_type": "code",
      "metadata": {
        "id": "uV7pjryDv4M4",
        "colab_type": "code",
        "outputId": "9c4836ff-afc0-477f-ee8d-94431abca4f7",
        "colab": {
          "base_uri": "https://localhost:8080/",
          "height": 53
        }
      },
      "source": [
        "def EbNo2Sigma(ebnodb):\n",
        "    '''Convert Eb/No in dB to noise standard deviation'''\n",
        "    ebno = 10**(ebnodb/10)\n",
        "    return 1/np.sqrt(2*(2*k/n)*ebno)\n",
        "\n",
        "def EbNo_to_noise(ebnodb):\n",
        "    '''Transform EbNo[dB]/snr to noise power'''\n",
        "    ebno = 10**(ebnodb/10)\n",
        "    noise_std = 1/np.sqrt(2*(2*k/n)*ebno) \n",
        "    return noise_std\n",
        "\n",
        "\n",
        "def real_channel(x,noise_std):\n",
        "    # Black-box Channel\n",
        "    #AWGN\n",
        "    return x + tf.random.normal(tf.shape(x), mean=0.0, stddev=noise_std)\n",
        "\n",
        "    #Rayleigh\n",
        "    #return x + tf.sqrt(tf.square(tf.random_normal(tf.shape(x), mean=0.0, stddev=noise_std)) + tf.square(tf.random_normal(tf.shape(x), mean=0.0, stddev=noise_std)))\n",
        "    \n",
        "    #Uniform U(-3;3)    \n",
        "    #return x + tf.random_uniform(tf.shape(x), minval=-2, maxval=2)\n",
        "\n",
        "def B_Ber(input_msg, msg):\n",
        "    '''Calculate the Batch Bit Error Rate'''\n",
        "    pred_error = tf.not_equal(tf.argmax(msg, 1), tf.argmax(input_msg, 1))\n",
        "    bber = tf.reduce_mean(tf.cast(pred_error, tf.float32))\n",
        "    return bber\n",
        "\n",
        "def random_sample(batch_size=32):\n",
        "    msg = np.random.randint(M, size=batch_size)\n",
        "    return msg\n",
        "\n",
        "\n",
        "\n",
        "\n",
        "def B_Ber_m(input_msg, msg):\n",
        "    '''Calculate the Batch Bit Error Rate'''\n",
        "    pred_error = tf.not_equal(input_msg, tf.argmax(msg, 1))      \n",
        "    bber = tf.reduce_mean(tf.cast(pred_error, tf.float32))\n",
        "    return bber\n",
        "\n",
        "def SNR_to_noise(snrdb):\n",
        "    '''Transform EbNo[dB]/snr to noise power'''\n",
        "    snr = 10**(snrdb/10)\n",
        "    noise_std = 1/np.sqrt(2*snr)\n",
        "    return noise_std\n",
        "\n",
        "noise_std = EbNo2Sigma(SNR)\n",
        "\n",
        "print(EbNo2Sigma(SNR))\n",
        "print(EbNo_to_noise(SNR))"
      ],
      "execution_count": 5,
      "outputs": [
        {
          "output_type": "stream",
          "text": [
            "0.15792649852735607\n",
            "0.15792649852735607\n"
          ],
          "name": "stdout"
        }
      ]
    },
    {
      "cell_type": "code",
      "metadata": {
        "id": "OBGMgdDEh7uX",
        "colab_type": "code",
        "colab": {}
      },
      "source": [
        "def test_encoding(M=16, n=1):\n",
        "    inp = np.arange(0,M)\n",
        "    coding = encoder.predict(inp)\n",
        "    fig = plt.figure(figsize=(4,4))\n",
        "    plt.plot(coding[:,0], coding[:, 1], \"b.\")\n",
        "    plt.xlabel(\"$x_1$\", fontsize=18)\n",
        "    plt.ylabel(\"$x_2$\", fontsize=18, rotation=0)\n",
        "    plt.grid(True)\n",
        "    plt.gca().set_ylim(-2, 2)\n",
        "    plt.gca().set_xlim(-2, 2)\n",
        "    plt.show()\n",
        "  \n"
      ],
      "execution_count": 0,
      "outputs": []
    },
    {
      "cell_type": "markdown",
      "metadata": {
        "id": "AOoYuK_jR9rH",
        "colab_type": "text"
      },
      "source": [
        "# Models"
      ]
    },
    {
      "cell_type": "markdown",
      "metadata": {
        "id": "PQxhmgOa0_7c",
        "colab_type": "text"
      },
      "source": [
        "#### Generator Model"
      ]
    },
    {
      "cell_type": "code",
      "metadata": {
        "id": "LXbS5lM9Tb9B",
        "colab_type": "code",
        "colab": {}
      },
      "source": [
        "def get_generator(n):\n",
        "  input1 = tf.keras.layers.Input(shape=(n,))\n",
        "  x1 = tf.keras.layers.Dense(n)(input1)\n",
        "  input2 =tf.random.normal(shape=tf.shape(input1))\n",
        "  #input2 =tf.random.normal([tf.shape(input1)[0],n])\n",
        "  x2 = tf.keras.layers.Dense(n)(input2)\n",
        "  subtracted = tf.keras.layers.Concatenate(1)([x1, x2])\n",
        "  h1 = tf.keras.layers.Dense(64,use_bias=True, kernel_initializer=randN_initial, activation='relu')(subtracted)\n",
        "  h2 = tf.keras.layers.Dense(64,use_bias=True,kernel_initializer=randN_initial, activation='relu')(h1)\n",
        "  out = tf.keras.layers.Dense(n, use_bias= True,kernel_initializer=randN_initial, activation='linear')(h2)\n",
        "  generator = tf.keras.models.Model(inputs=[input1], outputs=out)\n",
        "  return generator\n"
      ],
      "execution_count": 0,
      "outputs": []
    },
    {
      "cell_type": "markdown",
      "metadata": {
        "id": "Vt2rTP7hSFt4",
        "colab_type": "text"
      },
      "source": [
        "#### Discriminator Model "
      ]
    },
    {
      "cell_type": "code",
      "metadata": {
        "id": "97h2eMLeXS68",
        "colab_type": "code",
        "colab": {}
      },
      "source": [
        "def get_discriminator(n):\n",
        "  model = tf.keras.Sequential()\n",
        "  model.add(tf.keras.layers.Dense(32,use_bias=True, kernel_initializer=randN_initial,activation='relu',input_shape=((2*n,))))\n",
        "  model.add(tf.keras.layers.Dense(32,use_bias=True, kernel_initializer=randN_initial, activation='relu'))\n",
        "  model.add(tf.keras.layers.Dense(1,use_bias=False, activation='sigmoid'))\n",
        "  return model\n",
        "  "
      ],
      "execution_count": 0,
      "outputs": []
    },
    {
      "cell_type": "code",
      "metadata": {
        "id": "CUkLPv0gvn-o",
        "colab_type": "code",
        "colab": {}
      },
      "source": [
        "generator = get_generator(n)\n",
        "discriminator=get_discriminator(n)"
      ],
      "execution_count": 0,
      "outputs": []
    },
    {
      "cell_type": "markdown",
      "metadata": {
        "id": "lcIzLZj5Seh9",
        "colab_type": "text"
      },
      "source": [
        "## Encoder Model"
      ]
    },
    {
      "cell_type": "code",
      "metadata": {
        "id": "sNHtzAC4SPBq",
        "colab_type": "code",
        "colab": {}
      },
      "source": [
        "def get_gan_encoder(M):\n",
        "  model = keras.models.Sequential([\n",
        "            keras.layers.Embedding(M, M, embeddings_initializer='glorot_normal'),\n",
        "            keras.layers.Dense(M*2, kernel_initializer=randN_initial,activation=\"elu\"),\n",
        "            keras.layers.Dense(M*2,kernel_initializer=randN_initial, activation=\"elu\"),\n",
        "            keras.layers.Dense(n, kernel_initializer=randN_initial, activation=None),\n",
        "            e2,\n",
        "            EncOut,\n",
        "            GenIn])\n",
        "  return model"
      ],
      "execution_count": 0,
      "outputs": []
    },
    {
      "cell_type": "markdown",
      "metadata": {
        "id": "G5iCDE4dSL35",
        "colab_type": "text"
      },
      "source": [
        "## Decoder Model"
      ]
    },
    {
      "cell_type": "code",
      "metadata": {
        "id": "C5KjEhDvSWQR",
        "colab_type": "code",
        "colab": {}
      },
      "source": [
        "def get_gan_decoder(M):\n",
        "   model= keras.models.Sequential([\n",
        "                #DecIn,\n",
        "                #d1,\n",
        "                keras.layers.Input(shape=(n,)),\n",
        "                keras.layers.Dense(M*2,kernel_initializer=randN_initial, activation=\"elu\"),\n",
        "                keras.layers.Dense(M*2,kernel_initializer=randN_initial, activation=\"elu\"),\n",
        "                keras.layers.Dense(M,kernel_initializer=randN_initial, activation=\"softmax\")\n",
        "                ])\n",
        "   return model"
      ],
      "execution_count": 0,
      "outputs": []
    },
    {
      "cell_type": "markdown",
      "metadata": {
        "id": "s-t76sYBtlP1",
        "colab_type": "text"
      },
      "source": [
        "### GAN Training functions"
      ]
    },
    {
      "cell_type": "code",
      "metadata": {
        "id": "n15AvPFO05gd",
        "colab_type": "code",
        "colab": {}
      },
      "source": [
        "def gan_optimizers(gen_learning_rate  ,disc_learning_rate):\n",
        "  generator_optimizer = tf.keras.optimizers.RMSprop(gen_learning_rate)      #RMSprop   in oreder to test where the error comes from\n",
        "  discriminator_optimizer = tf.keras.optimizers.RMSprop(disc_learning_rate) \n",
        "  return generator_optimizer, discriminator_optimizer"
      ],
      "execution_count": 0,
      "outputs": []
    },
    {
      "cell_type": "code",
      "metadata": {
        "id": "ooDukkHvmduJ",
        "colab_type": "code",
        "outputId": "2b441930-c42c-4424-f1a6-827625cbaba0",
        "colab": {
          "base_uri": "https://localhost:8080/",
          "height": 53
        }
      },
      "source": [
        "%%time\n",
        "def train_gan(epochs,n_steps, batch_size, SNR_level):\n",
        "  noise_std = EbNo2Sigma(SNR_level)\n",
        "  start = time.time()\n",
        "  x = tf.random.normal((batch_size,n),dtype=tf.dtypes.float32) \n",
        "  x = x/tf.sqrt(2*tf.reduce_mean(tf.square(x)))\n",
        "  counter = 0\n",
        "  epoch = 0\n",
        "  for epoch in range(epochs):\n",
        "    counter += 1\n",
        "    train_step(noise_std, n_steps,batch_size)\n",
        "    if counter%100==0:\n",
        "      tf.print(\"counter %d:\" % (counter))\n",
        "      fake_c = generator(x)\n",
        "      tf.print(fake_c[0])\n",
        "    #print ('Time for epoch {} is {} sec,'.format(epoch + 1, time.time()-start))\n",
        "      tf.print ('Time for epoch {},'.format(epoch + 1))\n",
        "      \n",
        "  tf.saved_model.save(generator,'/tmp/saved_model/')\n",
        "  tf.print ('Time for the training is {} sec,'.format( time.time()-start))\n",
        "    "
      ],
      "execution_count": 13,
      "outputs": [
        {
          "output_type": "stream",
          "text": [
            "CPU times: user 4 µs, sys: 0 ns, total: 4 µs\n",
            "Wall time: 6.68 µs\n"
          ],
          "name": "stdout"
        }
      ]
    },
    {
      "cell_type": "code",
      "metadata": {
        "colab_type": "code",
        "id": "WE_JS7kgA1W-",
        "colab": {}
      },
      "source": [
        "@tf.function\n",
        "def train_step(noise_std,n_steps,batch_size):\n",
        "  x = tf.random.normal((batch_size,n),dtype=tf.dtypes.float32) \n",
        "  x = x/tf.sqrt(2*tf.reduce_mean(tf.square(x)))\n",
        "  m =random_sample(batch_size)\n",
        "  r = encoder(m)\n",
        "  for i in range(n_steps):\n",
        "    with tf.GradientTape() as gen_tape, tf.GradientTape() as disc_tape:\n",
        "      real_training_data = tf.concat(values=[real_channel(r,noise_std), r], axis=1)\n",
        "      fake_training_data = tf.concat(values=[generator(r),r], axis=1)\n",
        "      real_output = discriminator(real_training_data)\n",
        "      fake_output = discriminator(fake_training_data)\n",
        "      \n",
        "      \n",
        "      disc_loss = -tf.reduce_mean(tf.math.log(real_output) + tf.math.log(1. - fake_output))\n",
        "      gen_loss =-tf.reduce_mean(tf.math.log(fake_output))\n",
        "      \n",
        "      #tf.print(disc_loss,gen_loss)\n",
        "      \n",
        "      if tf.math.is_nan(disc_loss) == False:\n",
        "        gradients_of_discriminator = disc_tape.gradient(disc_loss, discriminator.trainable_variables)\n",
        "        discriminator_optimizer.apply_gradients(zip(gradients_of_discriminator, discriminator.trainable_variables))\n",
        "    \n",
        "      if i == 4:  \n",
        "        gradients_of_generator = gen_tape.gradient(gen_loss, generator.trainable_variables)\n",
        "        generator_optimizer.apply_gradients(zip(gradients_of_generator, generator.trainable_variables))\n",
        "\n"
      ],
      "execution_count": 0,
      "outputs": []
    },
    {
      "cell_type": "code",
      "metadata": {
        "id": "y82FQj3Jmvxx",
        "colab_type": "code",
        "colab": {}
      },
      "source": [
        "def creating_and_train_gan(epochs,n_steps, batch_size, SNR_level , n ):  #optional Leraning Rates\n",
        "  generator.trainable = True\n",
        "  train_gan(epochs, n_steps, batch_size, SNR_level)\n",
        "  #4 after GAN training\n",
        "  generator.trainable = False\n",
        "  #tf.print(generator.trainable)"
      ],
      "execution_count": 0,
      "outputs": []
    },
    {
      "cell_type": "code",
      "metadata": {
        "id": "dLTtFoV0IoPj",
        "colab_type": "code",
        "colab": {}
      },
      "source": [
        "def gan_Test_AE(data):\n",
        "    '''Calculate Bit Error for varying SNRs'''\n",
        "    snr_range = np.linspace(0, 15, 31)\n",
        "    bber_vec = [None] * len(snr_range)\n",
        "        \n",
        "    for db in range(len(snr_range)):           \n",
        "        noise_std = EbNo_to_noise(snr_range[db])\n",
        "        code_word = encoder(data)\n",
        "        rcvd_word = code_word + tf.random.normal(tf.shape(code_word), mean=0.0, stddev=noise_std)\n",
        "        dcoded_msg = decoder(rcvd_word)\n",
        "        bber_vec[db] = B_Ber_m(data, dcoded_msg)\n",
        "        if (db % 6 == 0) & (db > 0):\n",
        "            print(f'Progress: {db} of {30} parts')\n",
        "\n",
        "    return (snr_range, bber_vec)\n",
        "\n",
        "def w_gan_Test_AE(data):\n",
        "    '''Calculate Bit Error for varying SNRs'''\n",
        "    snr_range = np.linspace(0, 15, 31)\n",
        "    bber_vec = [None] * len(snr_range)\n",
        "        \n",
        "    for db in range(len(snr_range)):           \n",
        "        noise_std = EbNo_to_noise(snr_range[db])\n",
        "        code_word = w_gan_encoder(data)\n",
        "        rcvd_word = code_word + tf.random.normal(tf.shape(code_word), mean=0.0, stddev=noise_std)\n",
        "        dcoded_msg = w_gan_decoder(rcvd_word)\n",
        "        bber_vec[db] = B_Ber_m(data, dcoded_msg)\n",
        "        if (db % 6 == 0) & (db > 0):\n",
        "            print(f'Progress: {db} of {30} parts')\n",
        "\n",
        "    return (snr_range, bber_vec)\n"
      ],
      "execution_count": 0,
      "outputs": []
    },
    {
      "cell_type": "markdown",
      "metadata": {
        "id": "VI0Tj40kzY6X",
        "colab_type": "text"
      },
      "source": [
        "# Resiver Training"
      ]
    },
    {
      "cell_type": "code",
      "metadata": {
        "id": "eS0X_xB4LBXa",
        "colab_type": "code",
        "colab": {}
      },
      "source": [
        "decoder = get_gan_decoder(M)\n",
        "encoder = get_gan_encoder(M)\n",
        "\n",
        "\n",
        "channel_layer = keras.layers.Lambda(lambda x: real_channel(x,noise_std))"
      ],
      "execution_count": 0,
      "outputs": []
    },
    {
      "cell_type": "markdown",
      "metadata": {
        "id": "_6ZV07BiRAlJ",
        "colab_type": "text"
      },
      "source": [
        "# Decoder Training"
      ]
    },
    {
      "cell_type": "code",
      "metadata": {
        "id": "d8-PiMpOTXqL",
        "colab_type": "code",
        "colab": {}
      },
      "source": [
        "data = random_sample(100)"
      ],
      "execution_count": 0,
      "outputs": []
    },
    {
      "cell_type": "code",
      "metadata": {
        "id": "xx0FiLdHQ2m-",
        "colab_type": "code",
        "colab": {}
      },
      "source": [
        "loss_object = tf.keras.losses.SparseCategoricalCrossentropy(from_logits=True)\n",
        "loss_object_a = tf.keras.losses.SparseCategoricalCrossentropy(from_logits=True)\n",
        "decoder_optimizer = tf.keras.optimizers.Nadam(learning_rate=0.0005)\n",
        "\n",
        "def decoder_loss(decoder, x, y):\n",
        "  x_ = encoder(x)\n",
        "  y1= channel_layer(x_)\n",
        "  y_ = decoder(y1)\n",
        "  return loss_object(y_true=y, y_pred=y_)\n",
        "\n",
        "@tf.function\n",
        "def decoder_grad(model, inputs, targets):\n",
        "  with tf.GradientTape() as decoder_tape:\n",
        "    loss_value = decoder_loss(model, inputs, targets)\n",
        "  return loss_value, decoder_tape.gradient(loss_value, model.trainable_variables)\n",
        "\n"
      ],
      "execution_count": 0,
      "outputs": []
    },
    {
      "cell_type": "code",
      "metadata": {
        "id": "CJu-Y3eEQ4k3",
        "colab_type": "code",
        "colab": {}
      },
      "source": [
        "\n",
        "# Keep results for plotting\n",
        "train_loss_results = []\n",
        "train_accuracy_results = []\n",
        "\n",
        "def decoder_training(num_epochs, batch_size = 400):\n",
        "  for epoch in range(num_epochs):\n",
        "    epoch_loss_avg = tf.keras.metrics.Mean()\n",
        "    epoch_accuracy = tf.keras.metrics.SparseCategoricalAccuracy()\n",
        "    data = random_sample(batch_size)\n",
        "    loss_value = decoder_step_training()\n",
        "    epoch_loss_avg(loss_value)  # Add current batch loss\n",
        "    # Compare predicted label to actual label\n",
        "    epoch_accuracy(data, decoder(channel_layer(encoder(data))))   \n",
        "    train_loss_results.append(epoch_loss_avg.result())\n",
        "    train_accuracy_results.append(epoch_accuracy.result())\n",
        "\n",
        "    if epoch % 500 == 0:\n",
        "      print(\"Epoch {:03d}: Loss: {:.3f}, Accuracy: {:.3%}\".format(epoch,\n",
        "                                                                epoch_loss_avg.result(),\n",
        "                                                                      epoch_accuracy.result()))\n",
        "@tf.function                                                                \n",
        "def decoder_step_training():\n",
        "  loss_value, decoder_grads = decoder_grad(decoder, data, data)\n",
        "  decoder_optimizer.apply_gradients(zip(decoder_grads, decoder.trainable_variables))\n",
        "  return loss_value  \n"
      ],
      "execution_count": 0,
      "outputs": []
    },
    {
      "cell_type": "markdown",
      "metadata": {
        "id": "dbAJL0v_sLUz",
        "colab_type": "text"
      },
      "source": [
        "# Transmitter Training"
      ]
    },
    {
      "cell_type": "code",
      "metadata": {
        "colab_type": "code",
        "id": "_u4AHItRcsT1",
        "colab": {}
      },
      "source": [
        "encoder_optimizer = tf.keras.optimizers.Nadam(learning_rate=0.0005)\n",
        "\n",
        "def encoder_loss(encoder, x, y):\n",
        "  x_ = encoder(x)\n",
        "  y1= generator(x_)\n",
        "  y_ = decoder(y1)\n",
        "  return loss_object_a(y_true=y, y_pred=y_)\n",
        "\n",
        "@tf.function\n",
        "def encoder_grad(model, inputs, targets):\n",
        "  with tf.GradientTape() as encoder_tape:\n",
        "    loss_value = encoder_loss(model, inputs, targets)\n",
        "  return loss_value, encoder_tape.gradient(loss_value, model.trainable_variables)\n",
        "\n"
      ],
      "execution_count": 0,
      "outputs": []
    },
    {
      "cell_type": "code",
      "metadata": {
        "id": "ZUxy6g9kEakF",
        "colab_type": "code",
        "colab": {
          "base_uri": "https://localhost:8080/",
          "height": 53
        },
        "outputId": "436d2beb-8628-41b2-e58a-52300f9e2191"
      },
      "source": [
        "loss_value, encoder_grads = encoder_grad(encoder,data, data)\n",
        "\n",
        "print(\"Step: {}, Initial Loss: {}\".format(encoder_optimizer.iterations.numpy(),\n",
        "                                          loss_value.numpy()))\n",
        "\n",
        "encoder_optimizer.apply_gradients(zip(encoder_grads, encoder.trainable_variables))\n",
        "\n",
        "print(\"Step: {},         Loss: {}\".format(encoder_optimizer.iterations.numpy(),\n",
        "                                          encoder_loss(encoder, data, data).numpy()))\n"
      ],
      "execution_count": 22,
      "outputs": [
        {
          "output_type": "stream",
          "text": [
            "Step: 0, Initial Loss: 2.7725884914398193\n",
            "Step: 1,         Loss: 2.7725887298583984\n"
          ],
          "name": "stdout"
        }
      ]
    },
    {
      "cell_type": "code",
      "metadata": {
        "colab_type": "code",
        "id": "8buZRqXNdcZz",
        "colab": {}
      },
      "source": [
        "\n",
        "# Keep results for plotting\n",
        "train_loss_results = []\n",
        "train_accuracy_results = []\n",
        "\n",
        "def encoder_training(num_epochs, batch_size = 400):\n",
        "  for epoch in range(num_epochs):\n",
        "    epoch_loss_avg = tf.keras.metrics.Mean()\n",
        "    epoch_accuracy = tf.keras.metrics.SparseCategoricalAccuracy()\n",
        "    data = random_sample(batch_size)\n",
        "\n",
        "    loss_value = encoder_step_training()\n",
        "      #loss_value, encoder_grads = encoder_grad(encoder, data, data)\n",
        "      #encoder_optimizer.apply_gradients(zip(encoder_grads, encoder.trainable_variables))\n",
        "    epoch_loss_avg(loss_value)  # Add current batch loss\n",
        "    # Compare predicted label to actual label\n",
        "    epoch_accuracy(data, decoder(generator(encoder(data))))  \n",
        "   # train_loss_results.append(epoch_loss_avg.result())\n",
        "   # train_accuracy_results.append(epoch_accuracy.result())\n",
        "\n",
        "    if epoch % 500 == 0:\n",
        "      print(\"Epoch {:03d}: Loss: {:.3f}, Accuracy: {:.3%}\".format(epoch,\n",
        "                                                                epoch_loss_avg.result(),\n",
        "                                                                epoch_accuracy.result()))\n",
        "@tf.function\n",
        "def encoder_step_training():\n",
        "  loss_value, encoder_grads = encoder_grad(encoder, data, data)\n",
        "  encoder_optimizer.apply_gradients(zip(encoder_grads, encoder.trainable_variables))\n",
        "  return loss_value\n",
        "\n"
      ],
      "execution_count": 0,
      "outputs": []
    },
    {
      "cell_type": "markdown",
      "metadata": {
        "id": "3m0fQ6OXgPf1",
        "colab_type": "text"
      },
      "source": [
        "# GAN Training"
      ]
    },
    {
      "cell_type": "code",
      "metadata": {
        "id": "nNFwwZrcgOkn",
        "colab_type": "code",
        "outputId": "25a93307-ea6c-4945-bd2e-6dceab22d2a7",
        "colab": {
          "base_uri": "https://localhost:8080/",
          "height": 1000
        }
      },
      "source": [
        "%%time\n",
        "generator_optimizer, discriminator_optimizer = gan_optimizers(gen_learning_rate=gen_learning_rate, disc_learning_rate = disc_learning_rate)\n",
        "start = time.time()\n",
        "decoder_training(2001, 100)\n",
        "encoder_training(101, 100)\n",
        "test_encoding(M,n)\n",
        "creating_and_train_gan(epochs= 4000,n_steps=5, batch_size =100, SNR_level = 7, n = n)\n",
        "encoder_training(2001, 100)\n",
        "test_encoding(M,n)\n",
        "creating_and_train_gan(epochs= 4000,n_steps=5, batch_size =100, SNR_level = 7, n = n)\n",
        "encoder_training(2000, 100)\n",
        "test_encoding(M,n)\n",
        "decoder_training(2001, 100)\n",
        "creating_and_train_gan(epochs= 4000,n_steps=5, batch_size =100, SNR_level = 7, n = n)\n",
        "encoder_training(500, 100)\n",
        "test_encoding(M,n)\n",
        "decoder_training(2001, 100)\n",
        "creating_and_train_gan(epochs= 4000,n_steps=5, batch_size =100, SNR_level = 7, n = n)\n",
        "encoder_training(2000, 100)\n",
        "decoder_training(2001, 100)\n",
        "creating_and_train_gan(epochs= 4000,n_steps=5, batch_size =100, SNR_level = 7, n = n)\n",
        "encoder_training(2000, 100)\n",
        "test_encoding(M,n)\n",
        "creating_and_train_gan(epochs= 4000,n_steps=5, batch_size =100, SNR_level = 7, n = n)\n",
        "time_to_train_gan = time.time()-start\n",
        "tf.print ('Time for the training is {} sec,'.format( time.time()-start))"
      ],
      "execution_count": 24,
      "outputs": [
        {
          "output_type": "stream",
          "text": [
            "Epoch 000: Loss: 2.773, Accuracy: 10.000%\n",
            "Epoch 500: Loss: 2.504, Accuracy: 35.000%\n",
            "Epoch 1000: Loss: 2.426, Accuracy: 61.000%\n",
            "Epoch 1500: Loss: 2.396, Accuracy: 50.000%\n",
            "Epoch 2000: Loss: 2.402, Accuracy: 53.000%\n",
            "Epoch 000: Loss: 2.788, Accuracy: 8.000%\n"
          ],
          "name": "stdout"
        },
        {
          "output_type": "display_data",
          "data": {
            "image/png": "[encoded data removed]",
            "text/plain": [
              "<Figure size 288x288 with 1 Axes>"
            ]
          },
          "metadata": {
            "tags": []
          }
        },
        {
          "output_type": "stream",
          "text": [
            "counter 100:\n",
            "[-0.0338680446 -0.0262110867]\n",
            "Time for epoch 100,\n",
            "counter 200:\n",
            "[-0.0759057328 -0.0241536163]\n",
            "Time for epoch 200,\n",
            "counter 300:\n",
            "[-0.0570387356 -0.0190118533]\n",
            "Time for epoch 300,\n",
            "counter 400:\n",
            "[0.280034274 -0.145138189]\n",
            "Time for epoch 400,\n",
            "counter 500:\n",
            "[-0.060001187 -0.105502494]\n",
            "Time for epoch 500,\n",
            "counter 600:\n",
            "[0.0278535113 -0.406077474]\n",
            "Time for epoch 600,\n",
            "counter 700:\n",
            "[0.144187689 0.0725884214]\n",
            "Time for epoch 700,\n",
            "counter 800:\n",
            "[0.813941717 -0.69467175]\n",
            "Time for epoch 800,\n",
            "counter 900:\n",
            "[0.784265816 -0.369710684]\n",
            "Time for epoch 900,\n",
            "counter 1000:\n",
            "[0.841565788 -0.6781618]\n",
            "Time for epoch 1000,\n",
            "counter 1100:\n",
            "[1.40160429 -0.845050812]\n",
            "Time for epoch 1100,\n",
            "counter 1200:\n",
            "[1.29990697 -0.54653883]\n",
            "Time for epoch 1200,\n",
            "counter 1300:\n",
            "[0.996227086 -0.659106135]\n",
            "Time for epoch 1300,\n",
            "counter 1400:\n",
            "[0.545277655 -0.755126894]\n",
            "Time for epoch 1400,\n",
            "counter 1500:\n",
            "[0.96983391 -0.568605781]\n",
            "Time for epoch 1500,\n",
            "counter 1600:\n",
            "[0.364972651 -0.075308077]\n",
            "Time for epoch 1600,\n",
            "counter 1700:\n",
            "[0.957103133 -0.624576032]\n",
            "Time for epoch 1700,\n",
            "counter 1800:\n",
            "[1.07302654 -0.613853753]\n",
            "Time for epoch 1800,\n",
            "counter 1900:\n",
            "[0.810752392 -0.323126465]\n",
            "Time for epoch 1900,\n",
            "counter 2000:\n",
            "[0.40835771 -0.711515]\n",
            "Time for epoch 2000,\n",
            "counter 2100:\n",
            "[0.857832253 -0.528286099]\n",
            "Time for epoch 2100,\n",
            "counter 2200:\n",
            "[0.762443 -0.513619959]\n",
            "Time for epoch 2200,\n",
            "counter 2300:\n",
            "[0.893487453 -0.553714812]\n",
            "Time for epoch 2300,\n",
            "counter 2400:\n",
            "[0.840408444 -0.387933493]\n",
            "Time for epoch 2400,\n",
            "counter 2500:\n",
            "[0.42569229 -0.610786855]\n",
            "Time for epoch 2500,\n",
            "counter 2600:\n",
            "[1.01652431 -0.718141794]\n",
            "Time for epoch 2600,\n",
            "counter 2700:\n",
            "[0.949192047 -0.528386056]\n",
            "Time for epoch 2700,\n",
            "counter 2800:\n",
            "[0.875090957 -0.558595657]\n",
            "Time for epoch 2800,\n",
            "counter 2900:\n",
            "[0.949107051 -0.520055175]\n",
            "Time for epoch 2900,\n",
            "counter 3000:\n",
            "[0.844842672 -0.317352414]\n",
            "Time for epoch 3000,\n",
            "counter 3100:\n",
            "[1.1464895 -0.404467881]\n",
            "Time for epoch 3100,\n",
            "counter 3200:\n",
            "[0.831722856 -0.631662786]\n",
            "Time for epoch 3200,\n",
            "counter 3300:\n",
            "[0.726577878 -0.397552311]\n",
            "Time for epoch 3300,\n",
            "counter 3400:\n",
            "[0.722794294 -0.551530838]\n",
            "Time for epoch 3400,\n",
            "counter 3500:\n",
            "[0.809596539 -0.626714349]\n",
            "Time for epoch 3500,\n",
            "counter 3600:\n",
            "[1.07946384 -0.521870613]\n",
            "Time for epoch 3600,\n",
            "counter 3700:\n",
            "[0.996489167 -0.401569128]\n",
            "Time for epoch 3700,\n",
            "counter 3800:\n",
            "[0.527845323 -0.573807061]\n",
            "Time for epoch 3800,\n",
            "counter 3900:\n",
            "[0.929910839 -0.668409109]\n",
            "Time for epoch 3900,\n",
            "counter 4000:\n",
            "[1.09150326 -0.575759947]\n",
            "Time for epoch 4000,\n",
            "WARNING:tensorflow:From /usr/local/lib/python3.6/dist-packages/tensorflow_core/python/ops/resource_variable_ops.py:1781: calling BaseResourceVariable.__init__ (from tensorflow.python.ops.resource_variable_ops) with constraint is deprecated and will be removed in a future version.\n",
            "Instructions for updating:\n",
            "If using Keras pass *_constraint arguments to layers.\n",
            "INFO:tensorflow:Assets written to: /tmp/saved_model/assets\n",
            "Time for the training is 15.219549417495728 sec,\n",
            "Epoch 000: Loss: 2.861, Accuracy: 4.000%\n",
            "Epoch 500: Loss: 2.680, Accuracy: 19.000%\n",
            "Epoch 1000: Loss: 2.636, Accuracy: 25.000%\n",
            "Epoch 1500: Loss: 2.668, Accuracy: 21.000%\n",
            "Epoch 2000: Loss: 2.675, Accuracy: 15.000%\n"
          ],
          "name": "stdout"
        },
        {
          "output_type": "display_data",
          "data": {
            "image/png": "[encoded data removed]",
            "text/plain": [
              "<Figure size 288x288 with 1 Axes>"
            ]
          },
          "metadata": {
            "tags": []
          }
        },
        {
          "output_type": "stream",
          "text": [
            "counter 100:\n",
            "[0.246452779 -0.214264646]\n",
            "Time for epoch 100,\n",
            "counter 200:\n",
            "[0.373433232 -0.196188793]\n",
            "Time for epoch 200,\n",
            "counter 300:\n",
            "[-0.150818944 -0.0784258619]\n",
            "Time for epoch 300,\n",
            "counter 400:\n",
            "[0.320035279 -0.0761097744]\n",
            "Time for epoch 400,\n",
            "counter 500:\n",
            "[0.0145780556 -0.229499608]\n",
            "Time for epoch 500,\n",
            "counter 600:\n",
            "[0.352762 0.276369393]\n",
            "Time for epoch 600,\n",
            "counter 700:\n",
            "[0.0325318761 -0.105316967]\n",
            "Time for epoch 700,\n",
            "counter 800:\n",
            "[0.226044387 0.0374112315]\n",
            "Time for epoch 800,\n",
            "counter 900:\n",
            "[0.225851044 0.0418643802]\n",
            "Time for epoch 900,\n",
            "counter 1000:\n",
            "[0.20469825 0.185937822]\n",
            "Time for epoch 1000,\n",
            "counter 1100:\n",
            "[0.0973945409 0.235228181]\n",
            "Time for epoch 1100,\n",
            "counter 1200:\n",
            "[0.142513081 0.254316539]\n",
            "Time for epoch 1200,\n",
            "counter 1300:\n",
            "[0.223735631 0.143618613]\n",
            "Time for epoch 1300,\n",
            "counter 1400:\n",
            "[0.0937580764 0.138557374]\n",
            "Time for epoch 1400,\n",
            "counter 1500:\n",
            "[0.141108096 0.0268181749]\n",
            "Time for epoch 1500,\n",
            "counter 1600:\n",
            "[0.182506964 -0.0428198054]\n",
            "Time for epoch 1600,\n",
            "counter 1700:\n",
            "[0.0989356637 0.00392325642]\n",
            "Time for epoch 1700,\n",
            "counter 1800:\n",
            "[0.252356023 -0.0354012549]\n",
            "Time for epoch 1800,\n",
            "counter 1900:\n",
            "[0.237806082 0.00888294913]\n",
            "Time for epoch 1900,\n",
            "counter 2000:\n",
            "[-0.10714604 -0.0892878175]\n",
            "Time for epoch 2000,\n",
            "counter 2100:\n",
            "[-0.247545987 0.443774521]\n",
            "Time for epoch 2100,\n",
            "counter 2200:\n",
            "[0.350118548 0.386615247]\n",
            "Time for epoch 2200,\n",
            "counter 2300:\n",
            "[0.208717436 -0.171840951]\n",
            "Time for epoch 2300,\n",
            "counter 2400:\n",
            "[0.231039315 0.0826892406]\n",
            "Time for epoch 2400,\n",
            "counter 2500:\n",
            "[0.286992252 0.210917115]\n",
            "Time for epoch 2500,\n",
            "counter 2600:\n",
            "[0.169757217 0.112651706]\n",
            "Time for epoch 2600,\n",
            "counter 2700:\n",
            "[0.551117301 0.365269482]\n",
            "Time for epoch 2700,\n",
            "counter 2800:\n",
            "[0.137732357 0.167148933]\n",
            "Time for epoch 2800,\n",
            "counter 2900:\n",
            "[0.409603894 0.279924035]\n",
            "Time for epoch 2900,\n",
            "counter 3000:\n",
            "[0.172422826 0.152361214]\n",
            "Time for epoch 3000,\n",
            "counter 3100:\n",
            "[0.0533068478 0.089816235]\n",
            "Time for epoch 3100,\n",
            "counter 3200:\n",
            "[0.0861881226 0.172430694]\n",
            "Time for epoch 3200,\n",
            "counter 3300:\n",
            "[0.263569623 0.235330775]\n",
            "Time for epoch 3300,\n",
            "counter 3400:\n",
            "[0.312005877 0.153413936]\n",
            "Time for epoch 3400,\n",
            "counter 3500:\n",
            "[0.16566056 0.21609962]\n",
            "Time for epoch 3500,\n",
            "counter 3600:\n",
            "[0.211939871 0.166178316]\n",
            "Time for epoch 3600,\n",
            "counter 3700:\n",
            "[0.118569314 0.143329382]\n",
            "Time for epoch 3700,\n",
            "counter 3800:\n",
            "[-0.210071266 0.663536191]\n",
            "Time for epoch 3800,\n",
            "counter 3900:\n",
            "[0.383055449 0.0867685154]\n",
            "Time for epoch 3900,\n",
            "counter 4000:\n",
            "[-0.083952494 -0.16353476]\n",
            "Time for epoch 4000,\n",
            "INFO:tensorflow:Assets written to: /tmp/saved_model/assets\n",
            "Time for the training is 11.43855333328247 sec,\n",
            "Epoch 000: Loss: 2.653, Accuracy: 24.000%\n",
            "Epoch 500: Loss: 2.645, Accuracy: 19.000%\n",
            "Epoch 1000: Loss: 2.656, Accuracy: 26.000%\n",
            "Epoch 1500: Loss: 2.634, Accuracy: 21.000%\n"
          ],
          "name": "stdout"
        },
        {
          "output_type": "display_data",
          "data": {
            "image/png": "[encoded data removed]",
            "text/plain": [
              "<Figure size 288x288 with 1 Axes>"
            ]
          },
          "metadata": {
            "tags": []
          }
        },
        {
          "output_type": "stream",
          "text": [
            "Epoch 000: Loss: 2.672, Accuracy: 20.000%\n",
            "Epoch 500: Loss: 2.643, Accuracy: 22.000%\n",
            "Epoch 1000: Loss: 2.628, Accuracy: 24.000%\n",
            "Epoch 1500: Loss: 2.629, Accuracy: 26.000%\n",
            "Epoch 2000: Loss: 2.628, Accuracy: 26.000%\n",
            "counter 100:\n",
            "[0.035664171 0.124103352]\n",
            "Time for epoch 100,\n",
            "counter 200:\n",
            "[0.117873251 0.244908825]\n",
            "Time for epoch 200,\n",
            "counter 300:\n",
            "[-0.0823011622 -0.112259194]\n",
            "Time for epoch 300,\n",
            "counter 400:\n",
            "[-0.237354502 -0.00155286677]\n",
            "Time for epoch 400,\n",
            "counter 500:\n",
            "[0.100326642 0.105327696]\n",
            "Time for epoch 500,\n",
            "counter 600:\n",
            "[-0.0268536378 0.20832102]\n",
            "Time for epoch 600,\n",
            "counter 700:\n",
            "[0.235295385 0.0185813811]\n",
            "Time for epoch 700,\n",
            "counter 800:\n",
            "[-0.36444056 -0.00168022187]\n",
            "Time for epoch 800,\n",
            "counter 900:\n",
            "[0.0362655818 0.554163039]\n",
            "Time for epoch 900,\n",
            "counter 1000:\n",
            "[0.0376389287 0.403662145]\n",
            "Time for epoch 1000,\n",
            "counter 1100:\n",
            "[0.0343756154 0.331653088]\n",
            "Time for epoch 1100,\n",
            "counter 1200:\n",
            "[0.360223204 0.49715206]\n",
            "Time for epoch 1200,\n",
            "counter 1300:\n",
            "[0.540384591 0.236621156]\n",
            "Time for epoch 1300,\n",
            "counter 1400:\n",
            "[0.119934529 0.270978332]\n",
            "Time for epoch 1400,\n",
            "counter 1500:\n",
            "[0.110444784 0.185762987]\n",
            "Time for epoch 1500,\n",
            "counter 1600:\n",
            "[0.305222124 0.319844782]\n",
            "Time for epoch 1600,\n",
            "counter 1700:\n",
            "[0.0411943756 0.201801389]\n",
            "Time for epoch 1700,\n",
            "counter 1800:\n",
            "[-0.00938212872 0.510217071]\n",
            "Time for epoch 1800,\n",
            "counter 1900:\n",
            "[0.427668095 0.317256302]\n",
            "Time for epoch 1900,\n",
            "counter 2000:\n",
            "[0.0241684355 0.290945262]\n",
            "Time for epoch 2000,\n",
            "counter 2100:\n",
            "[0.28388226 0.233637825]\n",
            "Time for epoch 2100,\n",
            "counter 2200:\n",
            "[-0.0216941796 0.553989649]\n",
            "Time for epoch 2200,\n",
            "counter 2300:\n",
            "[0.0831464306 0.396779776]\n",
            "Time for epoch 2300,\n",
            "counter 2400:\n",
            "[0.0572945029 0.391993701]\n",
            "Time for epoch 2400,\n",
            "counter 2500:\n",
            "[0.0216428787 0.319871813]\n",
            "Time for epoch 2500,\n",
            "counter 2600:\n",
            "[-0.0188579168 0.457296342]\n",
            "Time for epoch 2600,\n",
            "counter 2700:\n",
            "[0.328772783 0.475141078]\n",
            "Time for epoch 2700,\n",
            "counter 2800:\n",
            "[-0.0328709781 0.706196368]\n",
            "Time for epoch 2800,\n",
            "counter 2900:\n",
            "[0.103853166 0.216212392]\n",
            "Time for epoch 2900,\n",
            "counter 3000:\n",
            "[0.218143955 0.386422843]\n",
            "Time for epoch 3000,\n",
            "counter 3100:\n",
            "[0.300410151 0.356833369]\n",
            "Time for epoch 3100,\n",
            "counter 3200:\n",
            "[0.0488206483 0.524604142]\n",
            "Time for epoch 3200,\n",
            "counter 3300:\n",
            "[0.410016894 0.455429971]\n",
            "Time for epoch 3300,\n",
            "counter 3400:\n",
            "[-0.00392485783 0.378366083]\n",
            "Time for epoch 3400,\n",
            "counter 3500:\n",
            "[0.191334009 0.728378594]\n",
            "Time for epoch 3500,\n",
            "counter 3600:\n",
            "[0.16460678 0.306335539]\n",
            "Time for epoch 3600,\n",
            "counter 3700:\n",
            "[0.350655615 0.478552967]\n",
            "Time for epoch 3700,\n",
            "counter 3800:\n",
            "[0.0793912783 0.402422041]\n",
            "Time for epoch 3800,\n",
            "counter 3900:\n",
            "[0.00058873 0.382069528]\n",
            "Time for epoch 3900,\n",
            "counter 4000:\n",
            "[0.151471421 0.419913322]\n",
            "Time for epoch 4000,\n",
            "INFO:tensorflow:Assets written to: /tmp/saved_model/assets\n",
            "Time for the training is 11.329348087310791 sec,\n",
            "Epoch 000: Loss: 2.633, Accuracy: 30.000%\n"
          ],
          "name": "stdout"
        },
        {
          "output_type": "display_data",
          "data": {
            "image/png": "[encoded data removed]",
            "text/plain": [
              "<Figure size 288x288 with 1 Axes>"
            ]
          },
          "metadata": {
            "tags": []
          }
        },
        {
          "output_type": "stream",
          "text": [
            "Epoch 000: Loss: 2.626, Accuracy: 18.000%\n",
            "Epoch 500: Loss: 2.625, Accuracy: 25.000%\n",
            "Epoch 1000: Loss: 2.624, Accuracy: 24.000%\n",
            "Epoch 1500: Loss: 2.625, Accuracy: 29.000%\n",
            "Epoch 2000: Loss: 2.624, Accuracy: 22.000%\n",
            "counter 100:\n",
            "[0.315612733 -1.02429152]\n",
            "Time for epoch 100,\n",
            "counter 200:\n",
            "[0.332114428 -0.744641]\n",
            "Time for epoch 200,\n",
            "counter 300:\n",
            "[0.265648812 -0.891668081]\n",
            "Time for epoch 300,\n",
            "counter 400:\n",
            "[0.455155045 -0.845303655]\n",
            "Time for epoch 400,\n",
            "counter 500:\n",
            "[0.587257385 -0.961380243]\n",
            "Time for epoch 500,\n",
            "counter 600:\n",
            "[0.31078589 -0.789686441]\n",
            "Time for epoch 600,\n",
            "counter 700:\n",
            "[0.31437102 -0.900503159]\n",
            "Time for epoch 700,\n",
            "counter 800:\n",
            "[0.454925597 -0.663722456]\n",
            "Time for epoch 800,\n",
            "counter 900:\n",
            "[0.679073393 -1.0941658]\n",
            "Time for epoch 900,\n",
            "counter 1000:\n",
            "[0.629184663 -1.07253]\n",
            "Time for epoch 1000,\n",
            "counter 1100:\n",
            "[0.431108654 -0.697046518]\n",
            "Time for epoch 1100,\n",
            "counter 1200:\n",
            "[0.442158788 -0.997239]\n",
            "Time for epoch 1200,\n",
            "counter 1300:\n",
            "[0.630392849 -1.01063812]\n",
            "Time for epoch 1300,\n",
            "counter 1400:\n",
            "[0.351612568 -0.815522552]\n",
            "Time for epoch 1400,\n",
            "counter 1500:\n",
            "[0.43363288 -0.716118872]\n",
            "Time for epoch 1500,\n",
            "counter 1600:\n",
            "[0.587229371 -1.33020771]\n",
            "Time for epoch 1600,\n",
            "counter 1700:\n",
            "[0.291630208 -0.954528511]\n",
            "Time for epoch 1700,\n",
            "counter 1800:\n",
            "[0.459395885 -1.12238586]\n",
            "Time for epoch 1800,\n",
            "counter 1900:\n",
            "[0.368590593 -0.941044569]\n",
            "Time for epoch 1900,\n",
            "counter 2000:\n",
            "[0.508872271 -0.936440468]\n",
            "Time for epoch 2000,\n",
            "counter 2100:\n",
            "[0.528870821 -1.0795337]\n",
            "Time for epoch 2100,\n",
            "counter 2200:\n",
            "[0.248928338 -0.864322841]\n",
            "Time for epoch 2200,\n",
            "counter 2300:\n",
            "[0.229144961 -0.837021947]\n",
            "Time for epoch 2300,\n",
            "counter 2400:\n",
            "[0.520834923 -0.757490754]\n",
            "Time for epoch 2400,\n",
            "counter 2500:\n",
            "[0.51585412 -0.978837669]\n",
            "Time for epoch 2500,\n",
            "counter 2600:\n",
            "[0.522101283 -1.00070202]\n",
            "Time for epoch 2600,\n",
            "counter 2700:\n",
            "[0.223193347 -0.965603709]\n",
            "Time for epoch 2700,\n",
            "counter 2800:\n",
            "[0.488050044 -0.846831262]\n",
            "Time for epoch 2800,\n",
            "counter 2900:\n",
            "[0.320134729 -0.841883838]\n",
            "Time for epoch 2900,\n",
            "counter 3000:\n",
            "[0.549199104 -0.831495941]\n",
            "Time for epoch 3000,\n",
            "counter 3100:\n",
            "[0.49884817 -0.730378926]\n",
            "Time for epoch 3100,\n",
            "counter 3200:\n",
            "[0.54125154 -0.818145692]\n",
            "Time for epoch 3200,\n",
            "counter 3300:\n",
            "[0.367383748 -0.907509744]\n",
            "Time for epoch 3300,\n",
            "counter 3400:\n",
            "[0.533079267 -0.677693367]\n",
            "Time for epoch 3400,\n",
            "counter 3500:\n",
            "[0.516601264 -0.582930923]\n",
            "Time for epoch 3500,\n",
            "counter 3600:\n",
            "[0.288059294 -0.795829952]\n",
            "Time for epoch 3600,\n",
            "counter 3700:\n",
            "[0.484303296 -0.841947138]\n",
            "Time for epoch 3700,\n",
            "counter 3800:\n",
            "[0.581865251 -0.712534726]\n",
            "Time for epoch 3800,\n",
            "counter 3900:\n",
            "[0.538275063 -1.1017251]\n",
            "Time for epoch 3900,\n",
            "counter 4000:\n",
            "[0.476486057 -0.74127543]\n",
            "Time for epoch 4000,\n",
            "INFO:tensorflow:Assets written to: /tmp/saved_model/assets\n",
            "Time for the training is 11.785377264022827 sec,\n",
            "Epoch 000: Loss: 2.623, Accuracy: 28.000%\n",
            "Epoch 500: Loss: 2.633, Accuracy: 27.000%\n",
            "Epoch 1000: Loss: 2.624, Accuracy: 27.000%\n",
            "Epoch 1500: Loss: 2.624, Accuracy: 24.000%\n",
            "Epoch 000: Loss: 2.624, Accuracy: 27.000%\n",
            "Epoch 500: Loss: 2.623, Accuracy: 32.000%\n",
            "Epoch 1000: Loss: 2.605, Accuracy: 29.000%\n",
            "Epoch 1500: Loss: 2.590, Accuracy: 25.000%\n",
            "Epoch 2000: Loss: 2.523, Accuracy: 42.000%\n",
            "counter 100:\n",
            "[-1.2650851 2.19536638]\n",
            "Time for epoch 100,\n",
            "counter 200:\n",
            "[-1.34833372 2.12722588]\n",
            "Time for epoch 200,\n",
            "counter 300:\n",
            "[-1.28495729 2.15303087]\n",
            "Time for epoch 300,\n",
            "counter 400:\n",
            "[-1.4303329 2.44513941]\n",
            "Time for epoch 400,\n",
            "counter 500:\n",
            "[-1.43010652 2.23776174]\n",
            "Time for epoch 500,\n",
            "counter 600:\n",
            "[-1.48119259 2.19185758]\n",
            "Time for epoch 600,\n",
            "counter 700:\n",
            "[-1.46624398 2.41274047]\n",
            "Time for epoch 700,\n",
            "counter 800:\n",
            "[-1.27836645 2.04989719]\n",
            "Time for epoch 800,\n",
            "counter 900:\n",
            "[-1.40790045 2.17209506]\n",
            "Time for epoch 900,\n",
            "counter 1000:\n",
            "[-1.3399936 1.84867442]\n",
            "Time for epoch 1000,\n",
            "counter 1100:\n",
            "[-1.18989801 2.21939969]\n",
            "Time for epoch 1100,\n",
            "counter 1200:\n",
            "[-1.46057963 2.36155176]\n",
            "Time for epoch 1200,\n",
            "counter 1300:\n",
            "[-1.51827 2.26998782]\n",
            "Time for epoch 1300,\n",
            "counter 1400:\n",
            "[-1.39814985 2.43885493]\n",
            "Time for epoch 1400,\n",
            "counter 1500:\n",
            "[-1.49823141 2.03281736]\n",
            "Time for epoch 1500,\n",
            "counter 1600:\n",
            "[-1.24520636 2.15718699]\n",
            "Time for epoch 1600,\n",
            "counter 1700:\n",
            "[-1.19856012 2.0562005]\n",
            "Time for epoch 1700,\n",
            "counter 1800:\n",
            "[-1.59804034 2.46412969]\n",
            "Time for epoch 1800,\n",
            "counter 1900:\n",
            "[-1.18767643 2.21349883]\n",
            "Time for epoch 1900,\n",
            "counter 2000:\n",
            "[-1.56668735 1.96332288]\n",
            "Time for epoch 2000,\n",
            "counter 2100:\n",
            "[-1.0115782 2.25465107]\n",
            "Time for epoch 2100,\n",
            "counter 2200:\n",
            "[-1.1384151 1.88216603]\n",
            "Time for epoch 2200,\n",
            "counter 2300:\n",
            "[-1.08149445 2.35388231]\n",
            "Time for epoch 2300,\n",
            "counter 2400:\n",
            "[-0.99556005 2.57898664]\n",
            "Time for epoch 2400,\n",
            "counter 2500:\n",
            "[-1.28918982 2.3606441]\n",
            "Time for epoch 2500,\n",
            "counter 2600:\n",
            "[-1.17365015 2.18516946]\n",
            "Time for epoch 2600,\n",
            "counter 2700:\n",
            "[-1.48413014 2.23617148]\n",
            "Time for epoch 2700,\n",
            "counter 2800:\n",
            "[-1.47790182 2.0653944]\n",
            "Time for epoch 2800,\n",
            "counter 2900:\n",
            "[-1.145316 2.42605305]\n",
            "Time for epoch 2900,\n",
            "counter 3000:\n",
            "[-1.35877979 2.06053829]\n",
            "Time for epoch 3000,\n",
            "counter 3100:\n",
            "[-1.42789602 2.26461339]\n",
            "Time for epoch 3100,\n",
            "counter 3200:\n",
            "[-1.53690886 2.31117392]\n",
            "Time for epoch 3200,\n",
            "counter 3300:\n",
            "[-1.49146712 2.27791119]\n",
            "Time for epoch 3300,\n",
            "counter 3400:\n",
            "[-1.36777306 2.161515]\n",
            "Time for epoch 3400,\n",
            "counter 3500:\n",
            "[-1.10993373 2.15745664]\n",
            "Time for epoch 3500,\n",
            "counter 3600:\n",
            "[-1.18117154 2.18369746]\n",
            "Time for epoch 3600,\n",
            "counter 3700:\n",
            "[-1.24764252 2.37718511]\n",
            "Time for epoch 3700,\n",
            "counter 3800:\n",
            "[-1.50726771 2.25098443]\n",
            "Time for epoch 3800,\n",
            "counter 3900:\n",
            "[-1.21480775 2.14337397]\n",
            "Time for epoch 3900,\n",
            "counter 4000:\n",
            "[-1.44005013 2.37008214]\n",
            "Time for epoch 4000,\n",
            "INFO:tensorflow:Assets written to: /tmp/saved_model/assets\n",
            "Time for the training is 11.412317752838135 sec,\n",
            "Epoch 000: Loss: 2.521, Accuracy: 42.000%\n",
            "Epoch 500: Loss: 2.512, Accuracy: 33.000%\n",
            "Epoch 1000: Loss: 2.513, Accuracy: 33.000%\n",
            "Epoch 1500: Loss: 2.511, Accuracy: 37.000%\n"
          ],
          "name": "stdout"
        },
        {
          "output_type": "display_data",
          "data": {
            "image/png": "[encoded data removed]",
            "text/plain": [
              "<Figure size 288x288 with 1 Axes>"
            ]
          },
          "metadata": {
            "tags": []
          }
        },
        {
          "output_type": "stream",
          "text": [
            "counter 100:\n",
            "[0.183219627 0.440923244]\n",
            "Time for epoch 100,\n",
            "counter 200:\n",
            "[-0.0371069238 0.16079849]\n",
            "Time for epoch 200,\n",
            "counter 300:\n",
            "[0.078466408 -0.128750667]\n",
            "Time for epoch 300,\n",
            "counter 400:\n",
            "[-0.487231493 -0.205740348]\n",
            "Time for epoch 400,\n",
            "counter 500:\n",
            "[0.0142424442 0.00402496103]\n",
            "Time for epoch 500,\n",
            "counter 600:\n",
            "[-0.074154146 -0.10071075]\n",
            "Time for epoch 600,\n",
            "counter 700:\n",
            "[0.0801699311 -0.00494847354]\n",
            "Time for epoch 700,\n",
            "counter 800:\n",
            "[0.182361662 -0.105080247]\n",
            "Time for epoch 800,\n",
            "counter 900:\n",
            "[0.11048691 -0.1380997]\n",
            "Time for epoch 900,\n",
            "counter 1000:\n",
            "[-0.112254113 0.18028602]\n",
            "Time for epoch 1000,\n",
            "counter 1100:\n",
            "[0.110323206 -0.0457151793]\n",
            "Time for epoch 1100,\n",
            "counter 1200:\n",
            "[0.0449392349 0.0751791894]\n",
            "Time for epoch 1200,\n",
            "counter 1300:\n",
            "[-0.0260789152 0.0379175395]\n",
            "Time for epoch 1300,\n",
            "counter 1400:\n",
            "[0.0438440479 -0.117102228]\n",
            "Time for epoch 1400,\n",
            "counter 1500:\n",
            "[0.068242684 0.191552594]\n",
            "Time for epoch 1500,\n",
            "counter 1600:\n",
            "[-0.0168082379 0.0446211137]\n",
            "Time for epoch 1600,\n",
            "counter 1700:\n",
            "[-0.13529098 0.252241313]\n",
            "Time for epoch 1700,\n",
            "counter 1800:\n",
            "[0.00943431258 -0.0310793612]\n",
            "Time for epoch 1800,\n",
            "counter 1900:\n",
            "[0.0721402168 0.0368926786]\n",
            "Time for epoch 1900,\n",
            "counter 2000:\n",
            "[-0.0182793848 -0.160748258]\n",
            "Time for epoch 2000,\n",
            "counter 2100:\n",
            "[0.0508203022 -0.279491305]\n",
            "Time for epoch 2100,\n",
            "counter 2200:\n",
            "[-0.0614018477 0.0118728364]\n",
            "Time for epoch 2200,\n",
            "counter 2300:\n",
            "[-0.023569122 -0.0544648021]\n",
            "Time for epoch 2300,\n",
            "counter 2400:\n",
            "[-0.02714107 0.200753957]\n",
            "Time for epoch 2400,\n",
            "counter 2500:\n",
            "[0.0906105563 0.288819104]\n",
            "Time for epoch 2500,\n",
            "counter 2600:\n",
            "[-0.127496287 -0.13648355]\n",
            "Time for epoch 2600,\n",
            "counter 2700:\n",
            "[-0.206528038 -0.340730846]\n",
            "Time for epoch 2700,\n",
            "counter 2800:\n",
            "[0.17630522 0.118575893]\n",
            "Time for epoch 2800,\n",
            "counter 2900:\n",
            "[0.123276696 0.0263417363]\n",
            "Time for epoch 2900,\n",
            "counter 3000:\n",
            "[0.0753120184 4.64914774e-06]\n",
            "Time for epoch 3000,\n",
            "counter 3100:\n",
            "[0.157288015 0.258514315]\n",
            "Time for epoch 3100,\n",
            "counter 3200:\n",
            "[0.117908433 0.0711242855]\n",
            "Time for epoch 3200,\n",
            "counter 3300:\n",
            "[-0.319239587 -0.0203688703]\n",
            "Time for epoch 3300,\n",
            "counter 3400:\n",
            "[0.245027542 0.00997205824]\n",
            "Time for epoch 3400,\n",
            "counter 3500:\n",
            "[-0.0125764348 -0.0658415]\n",
            "Time for epoch 3500,\n",
            "counter 3600:\n",
            "[-0.0780021846 -0.0415618867]\n",
            "Time for epoch 3600,\n",
            "counter 3700:\n",
            "[0.179920673 0.0441987291]\n",
            "Time for epoch 3700,\n",
            "counter 3800:\n",
            "[-0.0676138252 -0.0282553323]\n",
            "Time for epoch 3800,\n",
            "counter 3900:\n",
            "[-0.0120694172 0.0634677261]\n",
            "Time for epoch 3900,\n",
            "counter 4000:\n",
            "[0.066510275 0.0172675084]\n",
            "Time for epoch 4000,\n",
            "INFO:tensorflow:Assets written to: /tmp/saved_model/assets\n",
            "Time for the training is 11.586990118026733 sec,\n",
            "Time for the training is 339.4015305042267 sec,\n",
            "CPU times: user 6min 36s, sys: 4.67 s, total: 6min 40s\n",
            "Wall time: 5min 39s\n"
          ],
          "name": "stdout"
        }
      ]
    },
    {
      "cell_type": "code",
      "metadata": {
        "id": "MUbnLX0y_p6E",
        "colab_type": "code",
        "colab": {
          "base_uri": "https://localhost:8080/",
          "height": 724
        },
        "outputId": "a6b016d8-225d-4048-fc2d-53c3972ed7e0"
      },
      "source": [
        "%%time\n",
        "generator.trainable =False\n",
        "encoder.trainable = True\n",
        "decoder.trainable = True\n",
        "gan_AE = tf.keras.models.Sequential([encoder,generator,decoder])\n",
        "data = random_sample(10000000)\n",
        "start = time.time()\n",
        "gan_AE.compile(optimizer=keras.optimizers.Nadam(lr=0.001),loss='sparse_categorical_crossentropy',metrics=['accuracy'])\n",
        "history = gan_AE.fit(data, data, batch_size=500,steps_per_epoch=100, epochs=20)\n",
        "\n",
        "test_encoding(M,n)"
      ],
      "execution_count": 25,
      "outputs": [
        {
          "output_type": "stream",
          "text": [
            "Train on 10000000 samples\n",
            "Epoch 1/20\n",
            "   48500/10000000 [..............................] - ETA: 8:54 - loss: 4.8959 - accuracy: 0.4283Epoch 2/20\n",
            "   48500/10000000 [..............................] - ETA: 1:49 - loss: 1.3232 - accuracy: 0.5716Epoch 3/20\n",
            "   46500/10000000 [..............................] - ETA: 1:54 - loss: 0.8092 - accuracy: 0.7120Epoch 4/20\n",
            "   49500/10000000 [..............................] - ETA: 1:46 - loss: 0.6129 - accuracy: 0.8063Epoch 5/20\n",
            "   46000/10000000 [..............................] - ETA: 1:42 - loss: 0.4752 - accuracy: 0.8583Epoch 6/20\n",
            "   48500/10000000 [..............................] - ETA: 1:50 - loss: 0.3795 - accuracy: 0.8881Epoch 7/20\n",
            "   49000/10000000 [..............................] - ETA: 1:46 - loss: 0.3182 - accuracy: 0.9035Epoch 8/20\n",
            "   48500/10000000 [..............................] - ETA: 1:47 - loss: 0.2776 - accuracy: 0.9136Epoch 9/20\n",
            "   49500/10000000 [..............................] - ETA: 1:48 - loss: 0.2568 - accuracy: 0.9180Epoch 10/20\n",
            "   48500/10000000 [..............................] - ETA: 1:48 - loss: 0.2385 - accuracy: 0.9225Epoch 11/20\n",
            "   47500/10000000 [..............................] - ETA: 1:49 - loss: 0.2286 - accuracy: 0.9233Epoch 12/20\n",
            "   48000/10000000 [..............................] - ETA: 1:51 - loss: 0.2252 - accuracy: 0.9230Epoch 13/20\n",
            "   45500/10000000 [..............................] - ETA: 1:43 - loss: 0.2140 - accuracy: 0.9277Epoch 14/20\n",
            "   46500/10000000 [..............................] - ETA: 1:45 - loss: 0.2077 - accuracy: 0.9278Epoch 15/20\n",
            "   50000/10000000 [..............................] - ETA: 1:45 - loss: 0.1998 - accuracy: 0.9314Epoch 16/20\n",
            "   49000/10000000 [..............................] - ETA: 1:48 - loss: 0.1973 - accuracy: 0.9315Epoch 17/20\n",
            "   49500/10000000 [..............................] - ETA: 1:47 - loss: 0.1940 - accuracy: 0.9326Epoch 18/20\n",
            "   47000/10000000 [..............................] - ETA: 1:42 - loss: 0.1929 - accuracy: 0.9321Epoch 19/20\n",
            "   46500/10000000 [..............................] - ETA: 1:42 - loss: 0.1891 - accuracy: 0.9337Epoch 20/20\n",
            "   50000/10000000 [..............................] - ETA: 1:45 - loss: 0.1849 - accuracy: 0.9353"
          ],
          "name": "stdout"
        },
        {
          "output_type": "display_data",
          "data": {
            "image/png": "[encoded data removed]",
            "text/plain": [
              "<Figure size 288x288 with 1 Axes>"
            ]
          },
          "metadata": {
            "tags": []
          }
        },
        {
          "output_type": "stream",
          "text": [
            "CPU times: user 16.9 s, sys: 569 ms, total: 17.4 s\n",
            "Wall time: 13.6 s\n"
          ],
          "name": "stdout"
        }
      ]
    },
    {
      "cell_type": "markdown",
      "metadata": {
        "id": "6GW2opX7SwMo",
        "colab_type": "text"
      },
      "source": [
        "\n",
        "# AE training"
      ]
    },
    {
      "cell_type": "code",
      "metadata": {
        "id": "ukO76l6yIoPc",
        "colab_type": "code",
        "colab": {}
      },
      "source": [
        "# test msg sequence for normal encoding\n",
        "N_test = 500000\n",
        "test_msg = np.random.randint(M, size=N_test)"
      ],
      "execution_count": 0,
      "outputs": []
    },
    {
      "cell_type": "markdown",
      "metadata": {
        "id": "PK5wA-zzHScv",
        "colab_type": "text"
      },
      "source": [
        "### Comparison"
      ]
    },
    {
      "cell_type": "code",
      "metadata": {
        "id": "7M-S0sbhIoPw",
        "colab_type": "code",
        "colab": {
          "base_uri": "https://localhost:8080/",
          "height": 106
        },
        "outputId": "1a146f29-757d-48cc-f389-1ba975fc0cd8"
      },
      "source": [
        "gan_bber_data = gan_Test_AE(test_msg)"
      ],
      "execution_count": 27,
      "outputs": [
        {
          "output_type": "stream",
          "text": [
            "Progress: 6 of 30 parts\n",
            "Progress: 12 of 30 parts\n",
            "Progress: 18 of 30 parts\n",
            "Progress: 24 of 30 parts\n",
            "Progress: 30 of 30 parts\n"
          ],
          "name": "stdout"
        }
      ]
    },
    {
      "cell_type": "code",
      "metadata": {
        "id": "UYdEm0eQIoP2",
        "colab_type": "code",
        "colab": {
          "base_uri": "https://localhost:8080/",
          "height": 370
        },
        "outputId": "99102c71-5842-40e5-d4da-7f98341f5b56"
      },
      "source": [
        "# Approximate 16 QAM Error\n",
        "def SIXT_QAM_sim(ebno):\n",
        "    return (3.0/2)*special.erfc(np.sqrt((4.0/10)*10.**(ebno/10)))\n",
        "\n",
        "ebnodbs = np.linspace(0,15,16)\n",
        "fig = plt.figure(figsize=(8, 5))\n",
        "plt.semilogy(gan_bber_data[0], gan_bber_data[1], '^-')\n",
        "plt.semilogy(ebnodbs, SIXT_QAM_sim(ebnodbs), '*-');\n",
        "plt.gca().set_ylim(1e-5, 1)\n",
        "plt.gca().set_xlim(0, 15)\n",
        "plt.ylabel(\"Batch Symbol Error Rate\", fontsize=14, rotation=90)\n",
        "plt.xlabel(\"SNR [dB]\", fontsize=18)\n",
        "plt.legend(['AE with GAN', '16QAM'],\n",
        "           prop={'size': 14}, loc='upper right');\n",
        "plt.grid(True, which=\"both\")\n",
        "print('time to train the AE Model with GAN',time_to_train_gan)\n"
      ],
      "execution_count": 28,
      "outputs": [
        {
          "output_type": "stream",
          "text": [
            "time to train the AE Model with GAN 339.4015271663666\n"
          ],
          "name": "stdout"
        },
        {
          "output_type": "display_data",
          "data": {
            "image/png": "[encoded data removed]",
            "text/plain": [
              "<Figure size 576x360 with 1 Axes>"
            ]
          },
          "metadata": {
            "tags": []
          }
        }
      ]
    },
    {
      "cell_type": "code",
      "metadata": {
        "id": "bBes21qLlcS8",
        "colab_type": "code",
        "colab": {}
      },
      "source": [
        "#generator.summary()"
      ],
      "execution_count": 0,
      "outputs": []
    },
    {
      "cell_type": "code",
      "metadata": {
        "id": "q60pg9b9Rz7C",
        "colab_type": "code",
        "colab": {
          "base_uri": "https://localhost:8080/",
          "height": 55
        },
        "outputId": "267f9198-ef07-47e1-95d1-0001db2f7eb3"
      },
      "source": [
        "print(gan_bber_data[1])"
      ],
      "execution_count": 30,
      "outputs": [
        {
          "output_type": "stream",
          "text": [
            "[<tf.Tensor: id=2000889, shape=(), dtype=float32, numpy=0.481228>, <tf.Tensor: id=2000951, shape=(), dtype=float32, numpy=0.45184>, <tf.Tensor: id=2001013, shape=(), dtype=float32, numpy=0.422872>, <tf.Tensor: id=2001075, shape=(), dtype=float32, numpy=0.391328>, <tf.Tensor: id=2001137, shape=(), dtype=float32, numpy=0.360266>, <tf.Tensor: id=2001199, shape=(), dtype=float32, numpy=0.329052>, <tf.Tensor: id=2001261, shape=(), dtype=float32, numpy=0.298066>, <tf.Tensor: id=2001323, shape=(), dtype=float32, numpy=0.266816>, <tf.Tensor: id=2001385, shape=(), dtype=float32, numpy=0.237354>, <tf.Tensor: id=2001447, shape=(), dtype=float32, numpy=0.208756>, <tf.Tensor: id=2001509, shape=(), dtype=float32, numpy=0.18174>, <tf.Tensor: id=2001571, shape=(), dtype=float32, numpy=0.155398>, <tf.Tensor: id=2001633, shape=(), dtype=float32, numpy=0.13223>, <tf.Tensor: id=2001695, shape=(), dtype=float32, numpy=0.110582>, <tf.Tensor: id=2001757, shape=(), dtype=float32, numpy=0.091774>, <tf.Tensor: id=2001819, shape=(), dtype=float32, numpy=0.075152>, <tf.Tensor: id=2001881, shape=(), dtype=float32, numpy=0.06141>, <tf.Tensor: id=2001943, shape=(), dtype=float32, numpy=0.049104>, <tf.Tensor: id=2002005, shape=(), dtype=float32, numpy=0.039064>, <tf.Tensor: id=2002067, shape=(), dtype=float32, numpy=0.03025>, <tf.Tensor: id=2002129, shape=(), dtype=float32, numpy=0.023998>, <tf.Tensor: id=2002191, shape=(), dtype=float32, numpy=0.018608>, <tf.Tensor: id=2002253, shape=(), dtype=float32, numpy=0.014304>, <tf.Tensor: id=2002315, shape=(), dtype=float32, numpy=0.01063>, <tf.Tensor: id=2002377, shape=(), dtype=float32, numpy=0.00817>, <tf.Tensor: id=2002439, shape=(), dtype=float32, numpy=0.005996>, <tf.Tensor: id=2002501, shape=(), dtype=float32, numpy=0.00429>, <tf.Tensor: id=2002563, shape=(), dtype=float32, numpy=0.003038>, <tf.Tensor: id=2002625, shape=(), dtype=float32, numpy=0.002206>, <tf.Tensor: id=2002687, shape=(), dtype=float32, numpy=0.001524>, <tf.Tensor: id=2002749, shape=(), dtype=float32, numpy=0.000922>]\n"
          ],
          "name": "stdout"
        }
      ]
    },
    {
      "cell_type": "code",
      "metadata": {
        "id": "RJl0KB-5at3r",
        "colab_type": "code",
        "colab": {}
      },
      "source": [
        ""
      ],
      "execution_count": 0,
      "outputs": []
    }
  ]
}