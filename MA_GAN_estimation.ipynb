{
  "nbformat": 4,
  "nbformat_minor": 0,
  "metadata": {
    "colab": {
      "name": "MA_GAN_estimation.ipynb",
      "provenance": [],
      "collapsed_sections": [],
      "machine_shape": "hm",
      "include_colab_link": true
    },
    "kernelspec": {
      "name": "python3",
      "display_name": "Python 3"
    },
    "accelerator": "GPU"
  },
  "cells": [
    {
      "cell_type": "markdown",
      "metadata": {
        "id": "view-in-github",
        "colab_type": "text"
      },
      "source": [
        "<a href=\"https://colab.research.google.com/github/BenYavor/MA_GAN/blob/master/MA_GAN_estimation.ipynb\" target=\"_parent\"><img src=\"https://colab.research.google.com/assets/colab-badge.svg\" alt=\"Open In Colab\"/></a>"
      ]
    },
    {
      "cell_type": "code",
      "metadata": {
        "id": "2-49-RQG7bEV",
        "colab_type": "code",
        "outputId": "0cacd915-8cee-4719-8909-70b01d5e9bc9",
        "colab": {
          "base_uri": "https://localhost:8080/",
          "height": 609
        }
      },
      "source": [
        "!pip install tensorflow==2.0.0-rc0\n",
        "!pip install -q pyyaml h5py\n",
        "#!pip install -q tf_nightly\n",
        "import numpy as np\n",
        "%matplotlib inline\n",
        "import matplotlib.pyplot as plt   \n",
        "import warnings\n",
        "with warnings.catch_warnings():\n",
        "    warnings.filterwarnings(\"ignore\",category=FutureWarning)\n",
        "    import tensorflow as tf\n",
        "import os\n",
        "os.environ[\"CUDA_VISIBLE_DEVICES\"] = \"1\" \n",
        "tf.__version__\n",
        "from tensorflow import keras\n",
        "import time"
      ],
      "execution_count": 2,
      "outputs": [
        {
          "output_type": "stream",
          "text": [
            "Collecting tensorflow==2.0.0-rc0\n",
            "\u001b[?25l  Downloading https://files.pythonhosted.org/packages/fb/4b/77f0965ec7e8a76d3dcd6a22ca8bbd2b934cd92c4ded43fef6bea5ff3258/tensorflow-2.0.0rc0-cp36-cp36m-manylinux2010_x86_64.whl (86.3MB)\n",
            "\u001b[K     |████████████████████████████████| 86.3MB 46.0MB/s \n",
            "\u001b[?25hRequirement already satisfied: wrapt>=1.11.1 in /usr/local/lib/python3.6/dist-packages (from tensorflow==2.0.0-rc0) (1.11.2)\n",
            "Requirement already satisfied: keras-preprocessing>=1.0.5 in /usr/local/lib/python3.6/dist-packages (from tensorflow==2.0.0-rc0) (1.1.0)\n",
            "Collecting tb-nightly<1.15.0a20190807,>=1.15.0a20190806 (from tensorflow==2.0.0-rc0)\n",
            "\u001b[?25l  Downloading https://files.pythonhosted.org/packages/bc/88/24b5fb7280e74c7cf65bde47c171547fd02afb3840cff41bcbe9270650f5/tb_nightly-1.15.0a20190806-py3-none-any.whl (4.3MB)\n",
            "\u001b[K     |████████████████████████████████| 4.3MB 33.9MB/s \n",
            "\u001b[?25hCollecting tf-estimator-nightly<1.14.0.dev2019080602,>=1.14.0.dev2019080601 (from tensorflow==2.0.0-rc0)\n",
            "\u001b[?25l  Downloading https://files.pythonhosted.org/packages/21/28/f2a27a62943d5f041e4a6fd404b2d21cb7c59b2242a4e73b03d9ba166552/tf_estimator_nightly-1.14.0.dev2019080601-py2.py3-none-any.whl (501kB)\n",
            "\u001b[K     |████████████████████████████████| 501kB 41.7MB/s \n",
            "\u001b[?25hRequirement already satisfied: keras-applications>=1.0.8 in /usr/local/lib/python3.6/dist-packages (from tensorflow==2.0.0-rc0) (1.0.8)\n",
            "Requirement already satisfied: google-pasta>=0.1.6 in /usr/local/lib/python3.6/dist-packages (from tensorflow==2.0.0-rc0) (0.1.7)\n",
            "Requirement already satisfied: absl-py>=0.7.0 in /usr/local/lib/python3.6/dist-packages (from tensorflow==2.0.0-rc0) (0.8.0)\n",
            "Requirement already satisfied: numpy<2.0,>=1.16.0 in /usr/local/lib/python3.6/dist-packages (from tensorflow==2.0.0-rc0) (1.16.5)\n",
            "Requirement already satisfied: astor>=0.6.0 in /usr/local/lib/python3.6/dist-packages (from tensorflow==2.0.0-rc0) (0.8.0)\n",
            "Requirement already satisfied: gast>=0.2.0 in /usr/local/lib/python3.6/dist-packages (from tensorflow==2.0.0-rc0) (0.2.2)\n",
            "Requirement already satisfied: opt-einsum>=2.3.2 in /usr/local/lib/python3.6/dist-packages (from tensorflow==2.0.0-rc0) (3.0.1)\n",
            "Requirement already satisfied: protobuf>=3.6.1 in /usr/local/lib/python3.6/dist-packages (from tensorflow==2.0.0-rc0) (3.7.1)\n",
            "Requirement already satisfied: termcolor>=1.1.0 in /usr/local/lib/python3.6/dist-packages (from tensorflow==2.0.0-rc0) (1.1.0)\n",
            "Requirement already satisfied: wheel>=0.26 in /usr/local/lib/python3.6/dist-packages (from tensorflow==2.0.0-rc0) (0.33.6)\n",
            "Requirement already satisfied: grpcio>=1.8.6 in /usr/local/lib/python3.6/dist-packages (from tensorflow==2.0.0-rc0) (1.15.0)\n",
            "Requirement already satisfied: six>=1.10.0 in /usr/local/lib/python3.6/dist-packages (from tensorflow==2.0.0-rc0) (1.12.0)\n",
            "Requirement already satisfied: markdown>=2.6.8 in /usr/local/lib/python3.6/dist-packages (from tb-nightly<1.15.0a20190807,>=1.15.0a20190806->tensorflow==2.0.0-rc0) (3.1.1)\n",
            "Requirement already satisfied: werkzeug>=0.11.15 in /usr/local/lib/python3.6/dist-packages (from tb-nightly<1.15.0a20190807,>=1.15.0a20190806->tensorflow==2.0.0-rc0) (0.15.6)\n",
            "Requirement already satisfied: setuptools>=41.0.0 in /usr/local/lib/python3.6/dist-packages (from tb-nightly<1.15.0a20190807,>=1.15.0a20190806->tensorflow==2.0.0-rc0) (41.2.0)\n",
            "Requirement already satisfied: h5py in /usr/local/lib/python3.6/dist-packages (from keras-applications>=1.0.8->tensorflow==2.0.0-rc0) (2.8.0)\n",
            "Installing collected packages: tb-nightly, tf-estimator-nightly, tensorflow\n",
            "  Found existing installation: tensorflow 1.14.0\n",
            "    Uninstalling tensorflow-1.14.0:\n",
            "      Successfully uninstalled tensorflow-1.14.0\n",
            "Successfully installed tb-nightly-1.15.0a20190806 tensorflow-2.0.0rc0 tf-estimator-nightly-1.14.0.dev2019080601\n"
          ],
          "name": "stdout"
        }
      ]
    },
    {
      "cell_type": "markdown",
      "metadata": {
        "id": "qa9PJHQS0UCJ",
        "colab_type": "text"
      },
      "source": [
        "## System funktionsweise Allgemeine Daten\n",
        "\n",
        "#### Rauschen\n",
        "genarats-> **shape**: batch_size * number_of_real_channels_uses_per_message \\\\\n",
        "and does a average power normalization\n",
        "\n",
        "\n",
        "#### Generator\n",
        "Eingang: (2*n,32)  ; Ausgang: (32,n)   \\\\\n",
        "Loss-Function:\n",
        "\n",
        "#### Discriminator\n",
        "Eingang: (2*n,32)  ; Ausgang: (32,1)  \\\\\n",
        "Loss-Function:\n",
        "\n",
        "\n",
        "#### Training\n"
      ]
    },
    {
      "cell_type": "markdown",
      "metadata": {
        "id": "4qpY-gawAf-9",
        "colab_type": "text"
      },
      "source": [
        "###Systemparameter\n",
        "$k$ - die Anzhal der bits \\\\\n",
        "$M$ - Anzahl der unterschiedlichen Nachrichten \\\\\n",
        "$n$ - channel uses **What is meant by that??** \\\\\n",
        "$N$ - Länge des Rauschvektors"
      ]
    },
    {
      "cell_type": "code",
      "metadata": {
        "id": "86Y2r6qBAgKW",
        "colab_type": "code",
        "colab": {}
      },
      "source": [
        "k = 4       # Number of information bits per message, i.e., M=2**k\n",
        "M = 2**k\n",
        "n = 8       # Number of real channel uses per message\n",
        "seed = 2    # Seed RNG reproduce identical results\n",
        "D_nb_weights = 32\n",
        "G_nb_weights = 32\n",
        "\n",
        "\n",
        "batch_size = 100\n",
        "\n",
        "\n",
        "x = tf.random.normal((batch_size,n))    #randomly sample input data (\"fake\" AE messages)\n",
        "x = x/tf.sqrt(2*tf.reduce_mean(tf.square(x))) #Average power normalization (not required if standard normal distribution is used )"
      ],
      "execution_count": 0,
      "outputs": []
    },
    {
      "cell_type": "markdown",
      "metadata": {
        "id": "cY9sHsfWT8By",
        "colab_type": "text"
      },
      "source": [
        "## Generator Model"
      ]
    },
    {
      "cell_type": "code",
      "metadata": {
        "id": "LXbS5lM9Tb9B",
        "colab_type": "code",
        "outputId": "d628c2c5-0978-4965-cc97-41b82c7df654",
        "colab": {
          "base_uri": "https://localhost:8080/",
          "height": 1000
        }
      },
      "source": [
        "\n",
        "\n",
        "#def generator(x):\n",
        "    # Concatenate z and y\n",
        "#    G_n = tf.random.normal([tf.shape(x)[0],n],dtype=tf.float32)  #create noise directly within the generator  \n",
        "#    inputs = tf.concat(values=[x, G_n], axis=1)\n",
        "    #dense NN\n",
        "#    G_h1 = tf.nn.relu(tf.matmul(inputs, G_W1) + G_b1)\n",
        "#    G_h2 = tf.nn.relu(tf.matmul(G_h1, G_W2) + G_b2)\n",
        "#    G_lin = tf.matmul(G_h2, G_W3) + G_b3\n",
        "    #G_prob = tf.nn.sigmoid(G_lin)\n",
        "#    return G_lin\n",
        "\n",
        "def generator_noise(input):\n",
        "  G_n = tf.random.normal([tf.shape(input)[0],n],dtype=tf.float32)  #create noise directly within the generator  \n",
        "  inputs = tf.concat(values=[input, G_n], axis=1)\n",
        "  return inputs\n",
        "    \n",
        "def generator(x = tf.keras.Input(shape=(batch_size,)),training = False):\n",
        "  model = tf.keras.Sequential()\n",
        "  model.add(tf.keras.layers.Lambda(generator_noise))\n",
        "  model.add(tf.keras.layers.Dense(32,use_bias=True, activation='relu'))#, input_shape=(2*n,))\n",
        "  model.add(tf.keras.layers.Dense(32,use_bias=True,  activation='relu'))\n",
        "  model.add(tf.keras.layers.Dense(n,use_bias=False, activation='sigmoid'))\n",
        "  return model\n",
        "\n",
        "generator= generator()\n",
        "test = generator(x)\n",
        "print(test)"
      ],
      "execution_count": 4,
      "outputs": [
        {
          "output_type": "stream",
          "text": [
            "tf.Tensor(\n",
            "[[0.6038968  0.57279325 0.2797214  0.5034181  0.54567724 0.5274695\n",
            "  0.4871117  0.34068596]\n",
            " [0.5809688  0.5253811  0.31935957 0.54445416 0.52193296 0.5467386\n",
            "  0.5371016  0.3765967 ]\n",
            " [0.6787139  0.46849504 0.17689428 0.50378984 0.70877635 0.28082132\n",
            "  0.40639353 0.25080466]\n",
            " [0.5708337  0.61326265 0.2006315  0.39231458 0.5011916  0.49819288\n",
            "  0.65541124 0.3611753 ]\n",
            " [0.6107764  0.38870782 0.2262826  0.44968855 0.58791494 0.6424438\n",
            "  0.56435525 0.26370776]\n",
            " [0.6323948  0.48131266 0.27918065 0.5429769  0.5955866  0.40089893\n",
            "  0.37871546 0.4498343 ]\n",
            " [0.5289911  0.5787351  0.26225406 0.39141583 0.5112488  0.4935519\n",
            "  0.6350554  0.2984704 ]\n",
            " [0.52905047 0.45609656 0.3221706  0.51126    0.556043   0.5849875\n",
            "  0.64378524 0.36301965]\n",
            " [0.52541125 0.47984296 0.3409105  0.48033    0.4986676  0.5505903\n",
            "  0.54126483 0.3940817 ]\n",
            " [0.49718902 0.421244   0.34754276 0.5151671  0.5350225  0.5313148\n",
            "  0.561036   0.59233016]\n",
            " [0.6553266  0.42399383 0.20999476 0.5621243  0.484629   0.36619192\n",
            "  0.37282774 0.42651153]\n",
            " [0.5535167  0.51522756 0.29947    0.50165075 0.47993606 0.542394\n",
            "  0.6338056  0.6742907 ]\n",
            " [0.6475761  0.5696994  0.21824807 0.51405036 0.5447843  0.46928608\n",
            "  0.4559404  0.2050519 ]\n",
            " [0.59045243 0.51310617 0.25651637 0.46702948 0.54712355 0.57161397\n",
            "  0.64790714 0.3435889 ]\n",
            " [0.5753156  0.4670079  0.3381135  0.55243975 0.52969867 0.4522584\n",
            "  0.35923868 0.45167622]\n",
            " [0.47883445 0.54354364 0.37565252 0.46756905 0.45923918 0.5274447\n",
            "  0.52759784 0.53867453]\n",
            " [0.64387596 0.4866877  0.2993906  0.40266967 0.4352529  0.57266045\n",
            "  0.5097647  0.5441476 ]\n",
            " [0.5786179  0.60009426 0.34792987 0.49468443 0.48345703 0.56173086\n",
            "  0.53792566 0.63077015]\n",
            " [0.47268838 0.4636692  0.29826552 0.397299   0.5191203  0.56518716\n",
            "  0.6063538  0.39258254]\n",
            " [0.6635462  0.51070106 0.19196603 0.47829223 0.49206161 0.57873154\n",
            "  0.36481017 0.35944912]\n",
            " [0.56271785 0.57276446 0.2752285  0.44148842 0.52966267 0.43863857\n",
            "  0.60122466 0.46976158]\n",
            " [0.54085606 0.4598481  0.4142148  0.600496   0.50167876 0.4403585\n",
            "  0.60412425 0.35126626]\n",
            " [0.411459   0.45137548 0.48203    0.46805674 0.52735865 0.6747665\n",
            "  0.4823997  0.3878573 ]\n",
            " [0.5853345  0.47513977 0.26958105 0.37131065 0.5648008  0.55786043\n",
            "  0.6036813  0.31762153]\n",
            " [0.58422244 0.5008193  0.272098   0.5400139  0.591031   0.6348449\n",
            "  0.43348616 0.36620817]\n",
            " [0.632152   0.46579152 0.2500335  0.57333225 0.46838018 0.34563848\n",
            "  0.5574764  0.32612595]\n",
            " [0.512128   0.4903091  0.30566096 0.48558867 0.62162924 0.53225964\n",
            "  0.39280927 0.25910372]\n",
            " [0.5022833  0.5663566  0.36743954 0.4983496  0.44060296 0.4951411\n",
            "  0.47067836 0.38479015]\n",
            " [0.5991682  0.59411514 0.16946241 0.37548476 0.6650153  0.46760747\n",
            "  0.6699595  0.6339458 ]\n",
            " [0.54473245 0.49023154 0.3861067  0.42098826 0.54417896 0.5164514\n",
            "  0.5011572  0.44085738]\n",
            " [0.63289845 0.43585372 0.3457154  0.49877018 0.5159757  0.4629054\n",
            "  0.6160191  0.5718323 ]\n",
            " [0.5576054  0.5211772  0.38280824 0.4534178  0.4714562  0.4587853\n",
            "  0.39298797 0.46228606]\n",
            " [0.572002   0.52946746 0.17447522 0.60197973 0.45794994 0.62075627\n",
            "  0.3472017  0.32896572]\n",
            " [0.5958844  0.47564083 0.28446156 0.51200277 0.45064196 0.5582682\n",
            "  0.59702754 0.3382116 ]\n",
            " [0.50311494 0.52749604 0.2462135  0.40840322 0.4499754  0.68977475\n",
            "  0.8070327  0.40599585]\n",
            " [0.5321826  0.39955205 0.4421582  0.52186036 0.453834   0.6487156\n",
            "  0.5568809  0.46404073]\n",
            " [0.62941855 0.51348823 0.3301276  0.46448275 0.62790215 0.47138444\n",
            "  0.45357287 0.416591  ]\n",
            " [0.562124   0.55627507 0.3124386  0.48900047 0.5160723  0.44456604\n",
            "  0.50005287 0.45910215]\n",
            " [0.5613618  0.57954663 0.41608533 0.4916589  0.5228394  0.5466642\n",
            "  0.5308999  0.49015626]\n",
            " [0.42265385 0.42813724 0.3965676  0.54028744 0.5440837  0.5986135\n",
            "  0.4263169  0.5011101 ]\n",
            " [0.5364334  0.53550804 0.23485771 0.53715587 0.4799627  0.53682244\n",
            "  0.7752575  0.4885931 ]\n",
            " [0.5305374  0.5914643  0.37584835 0.4667168  0.4560192  0.56389016\n",
            "  0.4900992  0.44986838]\n",
            " [0.6054644  0.5283942  0.26095605 0.52211946 0.60034174 0.42430335\n",
            "  0.3595748  0.339818  ]\n",
            " [0.57648534 0.5219516  0.30795872 0.52743655 0.44974408 0.46851957\n",
            "  0.49508175 0.4276536 ]\n",
            " [0.67696494 0.5454164  0.23745733 0.5551176  0.57522494 0.5389583\n",
            "  0.5288705  0.6851693 ]\n",
            " [0.6628889  0.5562615  0.17167845 0.45787522 0.70759654 0.50221527\n",
            "  0.4396913  0.31802356]\n",
            " [0.6657633  0.4634319  0.32633105 0.48417065 0.5476833  0.65941215\n",
            "  0.6263671  0.5007261 ]\n",
            " [0.5505498  0.525731   0.2952556  0.510078   0.49181694 0.43859348\n",
            "  0.5116284  0.47312248]\n",
            " [0.6221844  0.6786787  0.23825431 0.3741783  0.5033361  0.5002786\n",
            "  0.4934311  0.28731996]\n",
            " [0.39194745 0.43082726 0.45609012 0.43851158 0.5726061  0.7669833\n",
            "  0.5172004  0.43042383]\n",
            " [0.48963466 0.59975064 0.18649495 0.346312   0.41320372 0.4615116\n",
            "  0.79860735 0.5833074 ]\n",
            " [0.5804194  0.49473447 0.31582367 0.52222013 0.46917558 0.47221884\n",
            "  0.49112839 0.3442484 ]\n",
            " [0.59756505 0.633424   0.30502295 0.45271394 0.47163057 0.57740426\n",
            "  0.53351665 0.31851834]\n",
            " [0.49801388 0.5313748  0.26922727 0.51206535 0.52330387 0.5292406\n",
            "  0.36302316 0.30455136]\n",
            " [0.53821784 0.46402517 0.30902433 0.47558886 0.47491753 0.643952\n",
            "  0.4177739  0.4944631 ]\n",
            " [0.6179551  0.5493187  0.27539065 0.42974904 0.5430258  0.5114136\n",
            "  0.5886236  0.2928305 ]\n",
            " [0.61489296 0.53079784 0.16500252 0.38883784 0.4382694  0.7741777\n",
            "  0.7328609  0.61142933]\n",
            " [0.5082986  0.48361856 0.42677307 0.46793872 0.46000695 0.6167696\n",
            "  0.45057878 0.46042418]\n",
            " [0.58603734 0.528779   0.29102603 0.43656915 0.5205003  0.44804248\n",
            "  0.5349409  0.37897393]\n",
            " [0.65936685 0.5007884  0.3124947  0.5758162  0.55863166 0.5389718\n",
            "  0.5781684  0.21356514]\n",
            " [0.54754806 0.6167819  0.23146579 0.4712179  0.42354965 0.51889324\n",
            "  0.39476356 0.3672896 ]\n",
            " [0.58238536 0.6003199  0.33973992 0.47171596 0.4786975  0.5872538\n",
            "  0.5856503  0.26767194]\n",
            " [0.5370644  0.5262141  0.2570492  0.43696848 0.54382354 0.53885996\n",
            "  0.5152975  0.3344754 ]\n",
            " [0.65100193 0.5504456  0.32406533 0.39433122 0.5638429  0.569004\n",
            "  0.49127936 0.30840027]\n",
            " [0.6123511  0.65845376 0.27850527 0.49859872 0.50467634 0.52283925\n",
            "  0.5506191  0.46684352]\n",
            " [0.4759897  0.5639626  0.3409636  0.34703246 0.5156578  0.5635704\n",
            "  0.5727021  0.48143852]\n",
            " [0.5702971  0.49463814 0.2888962  0.5013086  0.51037085 0.60349154\n",
            "  0.6112682  0.3261668 ]\n",
            " [0.44574225 0.35753065 0.50094754 0.5229976  0.46260148 0.7042942\n",
            "  0.54262114 0.458841  ]\n",
            " [0.4822971  0.53549606 0.2811462  0.43754303 0.6192409  0.5928578\n",
            "  0.3986573  0.30479902]\n",
            " [0.60335267 0.46348742 0.34659648 0.3847721  0.5714199  0.47589922\n",
            "  0.5364918  0.44322354]\n",
            " [0.47756666 0.5430652  0.302362   0.44265485 0.46830016 0.552612\n",
            "  0.51736456 0.331837  ]\n",
            " [0.5213719  0.4554172  0.32893252 0.46359497 0.50902313 0.4348472\n",
            "  0.4800535  0.40648553]\n",
            " [0.58969146 0.5331145  0.37936696 0.5489649  0.53731143 0.58185744\n",
            "  0.62691236 0.32538396]\n",
            " [0.5823771  0.5502334  0.28512788 0.42637235 0.5016582  0.5682137\n",
            "  0.6374988  0.4714829 ]\n",
            " [0.6083523  0.5048192  0.28596294 0.47844324 0.60315394 0.5022501\n",
            "  0.44957703 0.27687848]\n",
            " [0.5469399  0.43104756 0.36090016 0.52170235 0.5425303  0.46054476\n",
            "  0.38949317 0.36897838]\n",
            " [0.45665383 0.5380644  0.30033565 0.3596938  0.4734789  0.522411\n",
            "  0.63487697 0.3797741 ]\n",
            " [0.53490716 0.54921144 0.24544194 0.45645183 0.40036184 0.6672872\n",
            "  0.4227763  0.367397  ]\n",
            " [0.5537438  0.52291274 0.34451133 0.47621208 0.49013937 0.5292843\n",
            "  0.5999235  0.5484285 ]\n",
            " [0.53285265 0.49118575 0.23857474 0.5599211  0.3469087  0.4244834\n",
            "  0.7166922  0.41630888]\n",
            " [0.47031486 0.4917711  0.24639264 0.58471626 0.6525253  0.6051849\n",
            "  0.3426302  0.3401738 ]\n",
            " [0.49611104 0.59782976 0.3107183  0.37889645 0.39368606 0.61789924\n",
            "  0.6202218  0.58368224]\n",
            " [0.60153043 0.49072084 0.25705665 0.60224843 0.49172506 0.54729724\n",
            "  0.7097477  0.6191276 ]\n",
            " [0.5711451  0.5510504  0.31142464 0.48947698 0.46042165 0.4891377\n",
            "  0.6747068  0.4985953 ]\n",
            " [0.528159   0.53157663 0.34632656 0.3360255  0.55040616 0.6255723\n",
            "  0.54209125 0.44172674]\n",
            " [0.5787587  0.49755794 0.26986593 0.46577248 0.6171026  0.30285075\n",
            "  0.3773959  0.251842  ]\n",
            " [0.5119398  0.5360575  0.38017905 0.4422708  0.6177507  0.5947953\n",
            "  0.38001025 0.24626428]\n",
            " [0.5862291  0.63447887 0.23813504 0.3304804  0.50681525 0.50294304\n",
            "  0.5409344  0.48656633]\n",
            " [0.6064516  0.4912386  0.3105374  0.532691   0.51367795 0.4566605\n",
            "  0.596231   0.27730197]\n",
            " [0.5530971  0.41757008 0.35296175 0.5460113  0.43742535 0.5509887\n",
            "  0.5587119  0.4342702 ]\n",
            " [0.50447947 0.5700341  0.2754817  0.5691471  0.3592409  0.45074502\n",
            "  0.6148157  0.46486264]\n",
            " [0.4560899  0.5969977  0.36505815 0.38515043 0.48764053 0.56008136\n",
            "  0.46897653 0.38263604]\n",
            " [0.48890495 0.5099731  0.2565658  0.40865588 0.6616714  0.47163865\n",
            "  0.54850346 0.362693  ]\n",
            " [0.52605546 0.5119376  0.2429761  0.50563395 0.5508412  0.607915\n",
            "  0.66528285 0.41272405]\n",
            " [0.5897191  0.551926   0.27326947 0.40997332 0.5576546  0.5196475\n",
            "  0.5611624  0.32857728]\n",
            " [0.52481294 0.52697647 0.21017769 0.6339837  0.50681674 0.47851756\n",
            "  0.502669   0.48661873]\n",
            " [0.5377326  0.41038734 0.37763977 0.5987917  0.47530243 0.53512466\n",
            "  0.5702156  0.41071382]\n",
            " [0.55083907 0.5015102  0.37086666 0.49603665 0.5508657  0.50617725\n",
            "  0.5476142  0.4003218 ]\n",
            " [0.5161045  0.56303227 0.33292925 0.4275285  0.49375054 0.52448213\n",
            "  0.48659146 0.4519957 ]\n",
            " [0.65036666 0.46254167 0.2582457  0.45740455 0.51889026 0.49040374\n",
            "  0.46912652 0.36423552]], shape=(100, 8), dtype=float32)\n"
          ],
          "name": "stdout"
        }
      ]
    },
    {
      "cell_type": "markdown",
      "metadata": {
        "id": "3CbjziKpv35v",
        "colab_type": "text"
      },
      "source": [
        "### Help Functions"
      ]
    },
    {
      "cell_type": "code",
      "metadata": {
        "id": "I8rHD990Y-w8",
        "colab_type": "code",
        "colab": {}
      },
      "source": [
        ""
      ],
      "execution_count": 0,
      "outputs": []
    },
    {
      "cell_type": "code",
      "metadata": {
        "id": "uV7pjryDv4M4",
        "colab_type": "code",
        "colab": {}
      },
      "source": [
        "def EbNo2Sigma(ebnodb):\n",
        "    '''Convert Eb/No in dB to noise standard deviation'''\n",
        "    ebno = 10**(ebnodb/10)\n",
        "    return 1/np.sqrt(2*(2*k/n)*ebno)\n",
        "\n",
        "#numpy version of kl divergence\n",
        "def kl_divergence_np(p, q):\n",
        "    #use \"Laplace correction\" w to avoid zero and inf\n",
        "    w=1e-5\n",
        "    p = p + w\n",
        "    q = q + w\n",
        "    return np.sum(p * np.log(p / q))\n",
        "\n",
        "#tensorflow version of kl divergence\n",
        "def kl_divergence_tf(p, q):\n",
        "    #use \"Laplace correction\" w to avoid zero and inf\n",
        "    w = 1e-5\n",
        "    p = p + w\n",
        "    q = q + w\n",
        "    return tf.reduce_sum(p * tf.log(p / q))"
      ],
      "execution_count": 0,
      "outputs": []
    },
    {
      "cell_type": "markdown",
      "metadata": {
        "id": "_EUzHiyUXLoP",
        "colab_type": "text"
      },
      "source": [
        "## Channels as Black-Box"
      ]
    },
    {
      "cell_type": "code",
      "metadata": {
        "id": "W63_fJJRXL7A",
        "colab_type": "code",
        "colab": {}
      },
      "source": [
        "train_SNR_dB = 6\n",
        "noise_std = EbNo2Sigma(train_SNR_dB)\n",
        "\n",
        "def real_channel(x):\n",
        "    # Black-box Channel\n",
        "    #AWGN\n",
        "    return x + tf.random.normal(tf.shape(x), mean=0.0, stddev=noise_std)\n",
        "\n",
        "    #Rayleigh\n",
        "    #return x + tf.sqrt(tf.square(tf.random_normal(tf.shape(x), mean=0.0, stddev=noise_std)) + tf.square(tf.random_normal(tf.shape(x), mean=0.0, stddev=noise_std)))\n",
        "    \n",
        "    #Uniform U(-3;3)    \n",
        "    #return x + tf.random_uniform(tf.shape(x), minval=-2, maxval=2)\n",
        "\n",
        "    \n"
      ],
      "execution_count": 0,
      "outputs": []
    },
    {
      "cell_type": "markdown",
      "metadata": {
        "id": "Rzh-JZgfXSqN",
        "colab_type": "text"
      },
      "source": [
        "## Discriminator\n",
        "Model definition and creating discriminator\n"
      ]
    },
    {
      "cell_type": "code",
      "metadata": {
        "id": "97h2eMLeXS68",
        "colab_type": "code",
        "colab": {}
      },
      "source": [
        "def concc(y,x):  \n",
        "  inputs = tf.concat(values=[y,x], axis=1)\n",
        "  return inputs\n",
        "\n",
        "def get_discriminator():\n",
        "  model = tf.keras.Sequential()\n",
        "  model.add(tf.keras.layers.Dense(32,use_bias=True, activation='relu',input_shape=((2*n,))))\n",
        "  model.add(tf.keras.layers.Dense(16,use_bias=True,  activation='relu'))\n",
        "  model.add(tf.keras.layers.Dense(1,use_bias=False,activation='sigmoid'))\n",
        "  return model\n",
        "discriminator = get_discriminator()\n",
        "\n",
        "#def discriminator(y,x):\n",
        "#    # Concatenate x and y\n",
        "#    inputs = tf.concat(values=[y,x], axis=1)\n",
        "#    #dense NN\n",
        "#    D_h1 = tf.nn.relu(tf.matmul(inputs, D_W1) + D_b1)\n",
        "#    D_logit = tf.matmul(D_h1, D_W2) + D_b2\n",
        "#    D_prob = tf.nn.sigmoid(D_logit)\n",
        "#    return D_prob, D_logit"
      ],
      "execution_count": 0,
      "outputs": []
    },
    {
      "cell_type": "markdown",
      "metadata": {
        "id": "QRnlfRYuYC8R",
        "colab_type": "text"
      },
      "source": [
        "## Data Generation, überhaupt noch relevant??!!"
      ]
    },
    {
      "cell_type": "markdown",
      "metadata": {
        "id": "EYcnkBIUXYa_",
        "colab_type": "text"
      },
      "source": [
        "## discriminator desicion????\n"
      ]
    },
    {
      "cell_type": "code",
      "metadata": {
        "id": "F7im8FYMXeOV",
        "colab_type": "code",
        "colab": {}
      },
      "source": [
        "cross_entropy = tf.keras.losses.BinaryCrossentropy(from_logits=True)"
      ],
      "execution_count": 0,
      "outputs": []
    },
    {
      "cell_type": "markdown",
      "metadata": {
        "id": "m-xQt6M5Xd9P",
        "colab_type": "text"
      },
      "source": [
        "## Define Loss\n",
        "strongly inspiered by: \\\\\n",
        "https://www.tensorflow.org/beta/tutorials/generative/dcgan?hl=en"
      ]
    },
    {
      "cell_type": "markdown",
      "metadata": {
        "id": "36yIH7Q3FiEq",
        "colab_type": "text"
      },
      "source": [
        "## defining Loss. TODO:\n",
        "compile the Model with the right loss functions"
      ]
    },
    {
      "cell_type": "code",
      "metadata": {
        "id": "upCLjUsVDzAn",
        "colab_type": "code",
        "outputId": "2f689bb8-9f1c-43bb-8f22-a70a4f1002ed",
        "colab": {
          "base_uri": "https://localhost:8080/",
          "height": 1000
        }
      },
      "source": [
        "x = tf.random.normal((batch_size,n),dtype=tf.dtypes.float32)    #randomly sample input data (\"fake\" AE messages)\n",
        "x = x/tf.sqrt(2*tf.reduce_mean(tf.square(x)))\n",
        "real_training_data = tf.concat(values=[real_channel(x), x], axis=1)  \n",
        "fake_training_data = tf.concat(values=[generator(x, training =True),x], axis=-1)\n",
        "\n",
        "print(real_training_data.shape,fake_training_data.shape)\n",
        "real_output = discriminator(real_training_data)\n",
        "fake_output = discriminator(fake_training_data)\n",
        "print(fake_output)\n",
        "#print(real_output, fake_output)"
      ],
      "execution_count": 9,
      "outputs": [
        {
          "output_type": "stream",
          "text": [
            "(100, 16) (100, 16)\n",
            "tf.Tensor(\n",
            "[[0.5108905 ]\n",
            " [0.5498549 ]\n",
            " [0.4180621 ]\n",
            " [0.51383394]\n",
            " [0.5040418 ]\n",
            " [0.4345404 ]\n",
            " [0.46084538]\n",
            " [0.4480617 ]\n",
            " [0.3934892 ]\n",
            " [0.47282144]\n",
            " [0.47103402]\n",
            " [0.49825177]\n",
            " [0.43301314]\n",
            " [0.51715964]\n",
            " [0.4375011 ]\n",
            " [0.55970156]\n",
            " [0.4904028 ]\n",
            " [0.49323368]\n",
            " [0.3945867 ]\n",
            " [0.53401923]\n",
            " [0.49759862]\n",
            " [0.47341555]\n",
            " [0.50998276]\n",
            " [0.4432954 ]\n",
            " [0.48498714]\n",
            " [0.44818753]\n",
            " [0.41238028]\n",
            " [0.44392666]\n",
            " [0.39482802]\n",
            " [0.38423488]\n",
            " [0.44208354]\n",
            " [0.47954473]\n",
            " [0.46887058]\n",
            " [0.403072  ]\n",
            " [0.5371058 ]\n",
            " [0.4836222 ]\n",
            " [0.4162647 ]\n",
            " [0.5572151 ]\n",
            " [0.3930797 ]\n",
            " [0.49137315]\n",
            " [0.5386938 ]\n",
            " [0.36822182]\n",
            " [0.56850404]\n",
            " [0.49524403]\n",
            " [0.5113517 ]\n",
            " [0.5939491 ]\n",
            " [0.49153143]\n",
            " [0.5203479 ]\n",
            " [0.4698678 ]\n",
            " [0.4864085 ]\n",
            " [0.50768054]\n",
            " [0.50494105]\n",
            " [0.5319094 ]\n",
            " [0.46770155]\n",
            " [0.5152778 ]\n",
            " [0.58456767]\n",
            " [0.47504413]\n",
            " [0.4937259 ]\n",
            " [0.5097818 ]\n",
            " [0.4628695 ]\n",
            " [0.48791876]\n",
            " [0.5635848 ]\n",
            " [0.51953757]\n",
            " [0.46947342]\n",
            " [0.5001008 ]\n",
            " [0.44311658]\n",
            " [0.4438137 ]\n",
            " [0.539209  ]\n",
            " [0.46086577]\n",
            " [0.41792777]\n",
            " [0.4686956 ]\n",
            " [0.47658038]\n",
            " [0.43126303]\n",
            " [0.5138752 ]\n",
            " [0.46966502]\n",
            " [0.48424456]\n",
            " [0.5758584 ]\n",
            " [0.38101956]\n",
            " [0.36146748]\n",
            " [0.4944349 ]\n",
            " [0.45569724]\n",
            " [0.49200788]\n",
            " [0.39270085]\n",
            " [0.46901256]\n",
            " [0.5134705 ]\n",
            " [0.46110737]\n",
            " [0.42484823]\n",
            " [0.4325941 ]\n",
            " [0.50975853]\n",
            " [0.6108914 ]\n",
            " [0.5542072 ]\n",
            " [0.53193545]\n",
            " [0.5272559 ]\n",
            " [0.6146739 ]\n",
            " [0.51105076]\n",
            " [0.40473914]\n",
            " [0.51423085]\n",
            " [0.47146   ]\n",
            " [0.4581721 ]\n",
            " [0.39376503]], shape=(100, 1), dtype=float32)\n"
          ],
          "name": "stdout"
        }
      ]
    },
    {
      "cell_type": "code",
      "metadata": {
        "id": "ERelQ5oTEMtO",
        "colab_type": "code",
        "colab": {}
      },
      "source": [
        "def discriminator_loss(real_output, fake_output):\n",
        "  loss= -tf.reduce_mean(tf.math.log(real_output) + tf.math.log(1. - fake_output))   #use \"-\" sign to minimize rather than maximize loss\n",
        "  return loss\n",
        "  \n",
        "def generator_loss(fake_output, generator):\n",
        "  loss = -tf.reduce_mean(tf.math.log(fake_output))\n",
        "  return loss\n",
        "\n",
        "generator_optimizer = tf.keras.optimizers.RMSprop(learning_rate=0.001)\n",
        "discriminator_optimizer = tf.keras.optimizers.RMSprop(learning_rate=0.001)"
      ],
      "execution_count": 0,
      "outputs": []
    },
    {
      "cell_type": "markdown",
      "metadata": {
        "id": "gktABNcepz5c",
        "colab_type": "text"
      },
      "source": [
        "# Evaluation with Histogram"
      ]
    },
    {
      "cell_type": "code",
      "metadata": {
        "id": "fgM9lv-dp1PI",
        "colab_type": "code",
        "colab": {}
      },
      "source": [
        "def generate_evaluation_data(batch_size=100):\n",
        "  x = tf.random.normal((batch_size,n),dtype=tf.dtypes.float32)    #randomly sample input data (\"fake\" AE messages)\n",
        "  x = x/tf.sqrt(2*tf.reduce_mean(tf.square(x))) #Average power normalization (not required if standard normal distribution is used )\n",
        "  #G_n = tf.random.normal([tf.shape(x)[0],n],dtype=tf.float32) \n",
        "  #inputs = tf.concat(values=[x, G_n], axis=1)\n",
        "  fake_eval_data = tf.concat(values=[generator(x), x], axis=1)\n",
        "  real_eval_data = tf.concat(values=[real_channel(x), x], axis=1) #tf.concat(values=[real_channel(x),x], axis=1)\n",
        "  inputs = x\n",
        "  return  real_eval_data, fake_eval_data, inputs \n",
        "\n",
        "\n",
        "\n",
        "def get_evaluation_data(evaluation_per_epochs):\n",
        "  real_eval_data = []\n",
        "  fake_eval_data  = []\n",
        "  inputs = []\n",
        "  for i in range(evaluation_per_epochs):\n",
        "    data = generate_evaluation_data()\n",
        "    real_eval_data.append(data[0])\n",
        "    fake_eval_data.append(data[1])\n",
        "    inputs.append(data[2])\n",
        "  return real_eval_data, fake_eval_data, inputs\n",
        "\n",
        "\n",
        "def test_eval(real_eval_data,fake_eval_data,inputs):\n",
        "  hist_range = 2\n",
        "  \n",
        "  inputs_ = tf.concat(values=[inputs, inputs],  axis=-1)\n",
        "  \n",
        "  fake_output_hist = np.mean(fake_eval_data,axis=1)  # Changed from 0 to 1\n",
        "  real_output_hist = np.mean(real_eval_data,axis=1)\n",
        "  inputs_hist = np.mean(inputs_,axis=1)\n",
        "    \n",
        "  fake_output_hist1 = np.reshape( fake_output_hist,[-1,])\n",
        "  real_output_hist1 = np.reshape( real_output_hist,[-1,])\n",
        "    \n",
        "  plt.hist(fake_output_hist1,bins=100,range=(-hist_range,hist_range),density=True,histtype='step')\n",
        "  plt.hist(real_output_hist1,bins=100,range=(-hist_range,hist_range),density=True,histtype='step')    \n",
        "  plt.title(\"noise distribution\")\n",
        "  plt.legend([\"generator\", \"target\"])\n",
        "  plt.show()\n",
        "  \n",
        "  fake_noise = np.reshape( fake_output_hist - inputs_hist,[-1,])\n",
        "  real_noise = np.reshape( real_output_hist - inputs_hist,[-1,])\n",
        "   \n",
        "  plt.hist(fake_noise,bins=100,range=(-hist_range,hist_range),density=True,histtype='step')\n",
        "  plt.hist(real_noise,bins=100,range=(-hist_range,hist_range),density=True,histtype='step')    \n",
        "  plt.title(\"noise distribution after subtracting Inpus_noise\")\n",
        "  plt.legend([\"generator\", \"target\"])\n",
        "  plt.show()\n",
        "    \n",
        "    #print(\"decision for fake data was %d: and for real data was %d:\" % (decision_fake, decision_real))"
      ],
      "execution_count": 0,
      "outputs": []
    },
    {
      "cell_type": "markdown",
      "metadata": {
        "id": "RXQWOgXnl62o",
        "colab_type": "text"
      },
      "source": [
        "### Define the training loop"
      ]
    },
    {
      "cell_type": "code",
      "metadata": {
        "id": "1sl75gEZl6Rv",
        "colab_type": "code",
        "colab": {}
      },
      "source": [
        "epochs = 10\n",
        "steps_per_epoches = 50\n",
        "batch_size = 100\n",
        "\n",
        "evaluation_per_epochs = 100\n",
        "\n",
        "noise_dim = n        #noch ändern wenn ich noise ändere\n",
        "num_examples_to_generate = 16\n",
        "\n",
        "\n"
      ],
      "execution_count": 0,
      "outputs": []
    },
    {
      "cell_type": "code",
      "metadata": {
        "id": "ooDukkHvmduJ",
        "colab_type": "code",
        "colab": {}
      },
      "source": [
        "def train(epochs, steps_per_epoches , batch_size):\n",
        "  start = time.time()\n",
        "  counter = 0\n",
        "  epoch = 0\n",
        "  for epoch in range(epochs):\n",
        "    start = time.time()\n",
        "    #print(massege_batch)\n",
        "    counter += 1\n",
        "    train_step(epoch, steps_per_epoches , batch_size) \n",
        "    if counter%5 == 0:\n",
        "      print(\"counter %d:\" % (counter))\n",
        "    if counter%5 == 0:\n",
        "      real_eval_data, fake_eval_data, inputs = get_evaluation_data(evaluation_per_epochs)\n",
        "      test_eval(real_eval_data, fake_eval_data, inputs)\n",
        "    print ('Time for epoch {} is {} sec,'.format(epoch + 1, time.time()-start))\n",
        "    \n",
        "       \n",
        "        \n",
        "\n",
        "  print ('Time for the training is {} sec,'.format( time.time()-start))\n",
        "    \n",
        "   \n",
        "\n",
        "  # Generate after the final epoch\n",
        "    "
      ],
      "execution_count": 0,
      "outputs": []
    },
    {
      "cell_type": "markdown",
      "metadata": {
        "id": "j7H98i7TmVxw",
        "colab_type": "text"
      },
      "source": [
        "\n",
        "The training loop begins with generator receiving a random seed as input. That seed is used to produce an image. The discriminator is then used to classify real images (drawn from the training set) and fakes images (produced by the generator). The loss is calculated for each of these models, and the gradients are used to update the generator and discriminator."
      ]
    },
    {
      "cell_type": "code",
      "metadata": {
        "id": "0XxSryMYmCkH",
        "colab_type": "code",
        "colab": {}
      },
      "source": [
        "#@tf.function\n",
        "#def train_step(massege_batch,counter):\n",
        "#    x = tf.random.normal((batch_size,n),dtype=tf.dtypes.float32)    #randomly sample input data (\"fake\" AE messages)\n",
        "#    x = x/tf.sqrt(2*tf.reduce_mean(tf.square(x)))\n",
        "    #G_n = tf.random.normal([tf.shape(x)[0],n],dtype=tf.float32) \n",
        "    #inputs = tf.concat(values=[x, G_n], axis=1)\n",
        "#    real_training_data = tf.concat(values=[real_channel(x), x], axis=1)  #tf.concat(values=[real_channel(x),x], axis=1)\n",
        "\n",
        "\n",
        " #   with tf.GradientTape() as gen_tape, tf.GradientTape() as disc_tape:           #tapes the gradient of the generaor an the discriminator\n",
        "  #    fake_training_data = tf.concat(values=[generator(x, training =True),x], axis=1)\n",
        "      \n",
        " #     real_output = discriminator(real_training_data, training=True)\n",
        " #     fake_output = discriminator(fake_training_data, training=True)\n",
        "\n",
        " #     disc_loss = -tf.reduce_mean(tf.math.log(real_output) + tf.math.log(1. - fake_output))   #use \"-\" sign to minimize rather than maximize loss\n",
        " #     gen_loss = -tf.reduce_mean(tf.math.log(fake_output))\n",
        "\n",
        " #     gradients_of_generator = gen_tape.gradient(gen_loss, generator.trainable_variables)\n",
        " #     gradients_of_discriminator = disc_tape.gradient(disc_loss, discriminator.trainable_variables)\n",
        "\n",
        "  #    generator_optimizer.apply_gradients(zip(gradients_of_generator, generator.trainable_variables))\n",
        "  #    discriminator_optimizer.apply_gradients(zip(gradients_of_discriminator, discriminator.trainable_variables))\n",
        "    \n"
      ],
      "execution_count": 0,
      "outputs": []
    },
    {
      "cell_type": "code",
      "metadata": {
        "id": "bJno--QQh4_w",
        "colab_type": "code",
        "colab": {}
      },
      "source": [
        "@tf.function\n",
        "\n",
        "def train_step(epoch, steps_per_epoches , batch_size):\n",
        "\n",
        "    \n",
        "  for j in range(steps_per_epoches):\n",
        "    x = tf.random.normal((batch_size,n),dtype=tf.dtypes.float32)    #randomly sample input data (\"fake\" AE messages)\n",
        "    x = x/tf.sqrt(2*tf.reduce_mean(tf.square(x)))\n",
        "    real_training_data = tf.concat(values=[real_channel(x), x], axis=1)\n",
        "    with tf.GradientTape() as gen_tape, tf.GradientTape() as disc_tape:\n",
        "      fake_training_data = tf.concat(values=[generator(x, training =True),x], axis=1)\n",
        "      real_output = discriminator(real_training_data, training=True)\n",
        "      fake_output = discriminator(fake_training_data, training=True)\n",
        "      disc_loss = -tf.reduce_mean(tf.math.log(real_output) + tf.math.log(1. - fake_output))   #use \"-\" sign to minimize rather than maximize loss\n",
        "      gen_loss = -tf.reduce_mean(tf.math.log(fake_output))\n",
        "      #print(disc_loss, gen_loss)\n",
        "          \n",
        "    \n",
        "    gradients_of_generator = gen_tape.gradient(gen_loss, generator.trainable_variables)\n",
        "    gradients_of_discriminator = disc_tape.gradient(disc_loss, discriminator.trainable_variables)\n",
        "      \n",
        "    generator_optimizer.apply_gradients(zip(gradients_of_generator, generator.trainable_variables))\n",
        "    discriminator_optimizer.apply_gradients(zip(gradients_of_discriminator, discriminator.trainable_variables))\n"
      ],
      "execution_count": 0,
      "outputs": []
    },
    {
      "cell_type": "markdown",
      "metadata": {
        "id": "UuGMDjc1metC",
        "colab_type": "text"
      },
      "source": [
        "## Train the model"
      ]
    },
    {
      "cell_type": "code",
      "metadata": {
        "id": "y82FQj3Jmvxx",
        "colab_type": "code",
        "outputId": "eb1a4b25-76db-4db7-f19a-d8e10b4f2bef",
        "colab": {
          "base_uri": "https://localhost:8080/",
          "height": 1000
        }
      },
      "source": [
        "%%time\n",
        "train(epochs, steps_per_epoches , batch_size)\n",
        "\n",
        "generator.summary()\n",
        "discriminator.summary()"
      ],
      "execution_count": 15,
      "outputs": [
        {
          "output_type": "stream",
          "text": [
            "Time for epoch 1 is 37.39356255531311 sec,\n",
            "Time for epoch 2 is 23.254497051239014 sec,\n",
            "Time for epoch 3 is 22.960123538970947 sec,\n",
            "Time for epoch 4 is 23.53055691719055 sec,\n",
            "counter 5:\n"
          ],
          "name": "stdout"
        },
        {
          "output_type": "display_data",
          "data": {
            "image/png": "[encoded data removed]",
            "text/plain": [
              "<Figure size 432x288 with 1 Axes>"
            ]
          },
          "metadata": {
            "tags": []
          }
        },
        {
          "output_type": "display_data",
          "data": {
            "image/png": "[encoded data removed]",
            "text/plain": [
              "<Figure size 432x288 with 1 Axes>"
            ]
          },
          "metadata": {
            "tags": []
          }
        },
        {
          "output_type": "stream",
          "text": [
            "Time for epoch 5 is 56.40851044654846 sec,\n",
            "Time for epoch 6 is 21.93162512779236 sec,\n",
            "Time for epoch 7 is 24.5101900100708 sec,\n",
            "Time for epoch 8 is 21.956520318984985 sec,\n",
            "Time for epoch 9 is 25.47157382965088 sec,\n",
            "counter 10:\n"
          ],
          "name": "stdout"
        },
        {
          "output_type": "display_data",
          "data": {
            "image/png": "[encoded data removed]",
            "text/plain": [
              "<Figure size 432x288 with 1 Axes>"
            ]
          },
          "metadata": {
            "tags": []
          }
        },
        {
          "output_type": "display_data",
          "data": {
            "image/png": "[encoded data removed]",
            "text/plain": [
              "<Figure size 432x288 with 1 Axes>"
            ]
          },
          "metadata": {
            "tags": []
          }
        },
        {
          "output_type": "stream",
          "text": [
            "Time for epoch 10 is 54.93680763244629 sec,\n",
            "Time for the training is 54.93721342086792 sec,\n",
            "Model: \"sequential\"\n",
            "_________________________________________________________________\n",
            "Layer (type)                 Output Shape              Param #   \n",
            "=================================================================\n",
            "lambda (Lambda)              multiple                  0         \n",
            "_________________________________________________________________\n",
            "dense (Dense)                multiple                  544       \n",
            "_________________________________________________________________\n",
            "dense_1 (Dense)              multiple                  1056      \n",
            "_________________________________________________________________\n",
            "dense_2 (Dense)              multiple                  256       \n",
            "=================================================================\n",
            "Total params: 1,856\n",
            "Trainable params: 1,856\n",
            "Non-trainable params: 0\n",
            "_________________________________________________________________\n",
            "Model: \"sequential_1\"\n",
            "_________________________________________________________________\n",
            "Layer (type)                 Output Shape              Param #   \n",
            "=================================================================\n",
            "dense_3 (Dense)              (None, 32)                544       \n",
            "_________________________________________________________________\n",
            "dense_4 (Dense)              (None, 16)                528       \n",
            "_________________________________________________________________\n",
            "dense_5 (Dense)              (None, 1)                 16        \n",
            "=================================================================\n",
            "Total params: 1,088\n",
            "Trainable params: 1,088\n",
            "Non-trainable params: 0\n",
            "_________________________________________________________________\n",
            "CPU times: user 5min 9s, sys: 5.52 s, total: 5min 14s\n",
            "Wall time: 5min 12s\n"
          ],
          "name": "stdout"
        }
      ]
    },
    {
      "cell_type": "markdown",
      "metadata": {
        "id": "nKRrixvwnA_m",
        "colab_type": "text"
      },
      "source": [
        "### Restore the latest checkpoint."
      ]
    },
    {
      "cell_type": "code",
      "metadata": {
        "id": "sj-um_dZnD3m",
        "colab_type": "code",
        "colab": {}
      },
      "source": [
        "checkpoint_path = \"training_1/cp.ckpt\"\n",
        "checkpoint_dir = os.path.dirname(checkpoint_path)\n",
        "\n",
        "cp_callback = tf.keras.callbacks.ModelCheckpoint(checkpoint_path,\n",
        "                                                 save_weights_only=True,\n",
        "                                                 verbose=1)\n"
      ],
      "execution_count": 0,
      "outputs": []
    },
    {
      "cell_type": "code",
      "metadata": {
        "id": "esovpz32jW6q",
        "colab_type": "code",
        "colab": {}
      },
      "source": [
        "#x = tf.random.normal((batch_size,n),dtype=tf.dtypes.float32)    #randomly sample input data (\"fake\" AE messages)\n",
        "#x = x/tf.sqrt(2*tf.reduce_mean(tf.square(x)))\n",
        "#discriminator = keras.models.load_model('my_discriminator.h5')\n",
        "#generator = keras.models.load_model('my_generator.h5')\n",
        "#generator1 = generator(x)\n",
        "#generator1.fit(x, real_channel(x),  epochs = 10,\n",
        "#          validation_data = (x,real_channel(x)),\n",
        "#          callbacks = [cp_callback])\n",
        "\n",
        "#real_eval_data, fake_eval_data, inputs = get_evaluation_data(evaluation_per_epochs)\n",
        "#test_eval(real_eval_data, fake_eval_data, inputs)"
      ],
      "execution_count": 0,
      "outputs": []
    },
    {
      "cell_type": "code",
      "metadata": {
        "id": "Zw6Rt5z3Rjud",
        "colab_type": "code",
        "outputId": "1a0a3e6d-4849-44bb-feb2-bab299d45ccf",
        "colab": {
          "base_uri": "https://localhost:8080/",
          "height": 1000
        }
      },
      "source": [
        "x = tf.random.normal((batch_size,n),dtype=tf.dtypes.float32)    #randomly sample input data (\"fake\" AE messages)\n",
        "x = x/tf.sqrt(2*tf.reduce_mean(tf.square(x)))\n",
        "#print(x)\n",
        "real_c = real_channel(x)\n",
        "fake_c = generator(x)\n",
        "\n",
        "print(fake_c-real_c)\n"
      ],
      "execution_count": 24,
      "outputs": [
        {
          "output_type": "stream",
          "text": [
            "tf.Tensor(\n",
            "[[-0.26370656  1.1505326   1.4120816   0.8734156   0.6118694   0.22418636\n",
            "   1.3917325   1.0844246 ]\n",
            " [-0.48952827  0.87615085  0.47430754  0.27223182  0.5124152   0.62650883\n",
            "   2.094098    0.55299896]\n",
            " [ 0.36901242  0.1471864   0.5230961   0.7303144   1.0531926   0.31119573\n",
            "   1.4284958   0.9434923 ]\n",
            " [ 1.2287412   1.4152925  -0.29886281  0.15885752  3.108154    0.21572572\n",
            "   2.248306    0.8044444 ]\n",
            " [ 0.69195825 -0.27737963 -0.7777562   0.5089903   1.3578092   0.5460386\n",
            "   0.36087477  1.1469505 ]\n",
            " [ 1.9954338   1.1279942  -0.17386192 -0.27207303  0.6149676   2.1373134\n",
            "   0.2585684   1.4613531 ]\n",
            " [-0.4878283   0.6358883  -1.0117929   0.15016226  0.9645676   1.7035468\n",
            "  -0.17382455  0.814572  ]\n",
            " [ 0.52068734  0.8247038   0.5139618  -0.34613234  1.519618    1.9089639\n",
            "   1.1440014   1.6575595 ]\n",
            " [-0.32988742 -0.39902398 -0.58621806  1.2830262   0.87100416  0.08600495\n",
            "   0.6837716   1.1675167 ]\n",
            " [-0.19910944  0.3253397   0.13065082 -2.0486782  -0.45329332 -0.27421057\n",
            "  -0.5149729   1.4993087 ]\n",
            " [-0.6787706   0.74579555  1.4837029  -0.7670139  -0.13515472 -0.9232954\n",
            "  -0.35190558  0.89978915]\n",
            " [ 1.0755045   0.6916744  -0.22954345  0.07509903  2.7292082   0.50001734\n",
            "   2.3662636   1.1486678 ]\n",
            " [-0.47053847  1.0998778   0.07434572  0.24850643  1.884224    0.8331828\n",
            "  -0.3455696   0.9935695 ]\n",
            " [ 0.16196021 -0.126852   -0.1962856  -0.29677495  0.6413221  -0.2633302\n",
            "   0.4634531   0.5695712 ]\n",
            " [ 1.8814855   0.5478601   1.0909463  -0.43622163  0.2626392   1.3641224\n",
            "  -0.15547991  0.00521654]\n",
            " [ 2.3282719   1.1326318   0.36355266 -0.5936474   1.3501403   1.3315067\n",
            "   0.09153795  0.9043721 ]\n",
            " [ 0.9308446  -0.21447945  0.3160879   1.9984648   0.75185174  0.93749845\n",
            "   0.6756315   0.0916537 ]\n",
            " [-1.3624132   0.5214204  -0.26864904 -0.31517732  1.2986389   0.32591453\n",
            "   0.8253762  -0.41795325]\n",
            " [-1.3109024   1.1578969  -0.06380653  0.09163576  1.365721    0.6373145\n",
            "   0.6456313  -0.26843226]\n",
            " [ 0.5249475   1.1759558  -0.15182592 -0.41364962  1.4879068   1.0148233\n",
            "   1.4167454   1.6666858 ]\n",
            " [ 1.0348709   0.4970206   0.03760493 -0.73641217  1.6691954   0.11946982\n",
            "   0.90660316  0.17153424]\n",
            " [-0.75886166  0.07718638  0.97602767  0.24550901 -0.2194128  -0.22497715\n",
            "   0.2558384   0.13703686]\n",
            " [ 1.8274479   0.8571814   1.5088077  -0.14094858  0.88220054  2.3456068\n",
            "   2.2548676  -0.21757352]\n",
            " [-1.0077239   0.18692285  0.9212607  -0.11359599 -0.55562353  1.1760279\n",
            "   0.44242668 -0.3352424 ]\n",
            " [ 1.0152403  -1.0921018  -1.8146915   2.6482062   1.6326046   1.1941396\n",
            "   1.1432364  -0.07534903]\n",
            " [ 0.05367914  1.0507884   0.11284655  1.2454298   2.132532    1.6272194\n",
            "   0.8510119   1.69567   ]\n",
            " [ 1.3347099  -0.0099411   0.1887852   0.4166373   1.5680535  -0.36447787\n",
            "   1.7162437  -0.01558113]\n",
            " [ 0.57300174  0.24929856 -0.39833438  1.0143276   1.6111946  -0.2599013\n",
            "   0.21476328  2.2401881 ]\n",
            " [ 2.0375633  -0.25249767 -0.07608312 -0.00702508 -0.20354262  1.5355649\n",
            "   1.2392802  -0.13962692]\n",
            " [ 0.8544698   1.3641449  -0.64748675 -0.07169452  0.25786674  1.4684584\n",
            "   0.57135653  0.01693678]\n",
            " [ 1.6418165   1.7519157   1.1076232   0.07448309  0.79348785  1.1372262\n",
            "   1.1127543  -0.66026926]\n",
            " [ 0.93646014  0.93835104 -0.36023593  0.7812262   1.15149     0.36108196\n",
            "   0.69463307  0.09640157]\n",
            " [-0.50058377 -0.6711028  -0.11512351  0.54176867  1.1576384  -1.6498821\n",
            "   0.0463115   1.2144467 ]\n",
            " [ 1.7647104  -0.07725734  0.02948496  0.6242739   0.504827    0.39806724\n",
            "  -0.1583035   1.686677  ]\n",
            " [-0.11863395  0.79795414 -0.23502463  0.7623573   0.4051029   0.4461709\n",
            "   1.187587    0.63306355]\n",
            " [ 1.4901149   1.6706831   1.9627087   0.95849127  0.44785976  1.1197705\n",
            "   0.9413559  -0.5486424 ]\n",
            " [-1.274333    0.81451726  0.99129766  0.9908852  -0.4649801  -0.01042792\n",
            "   0.5652162   0.15672833]\n",
            " [ 0.5399636   0.23254526  2.0135307  -1.0430281  -0.3119911   0.3681273\n",
            "   2.0470014   0.5317414 ]\n",
            " [-0.02322692 -0.1487607   1.199318    1.8136753   0.77197814  0.39323154\n",
            "   0.82713044 -0.20781112]\n",
            " [ 0.6135891   1.7114968   1.289724    1.1570057   0.6181731   1.9189144\n",
            "   1.3033429   2.1553416 ]\n",
            " [ 0.87020946  0.9751724   0.5545516   0.6393546   0.14815378  0.93353236\n",
            "  -0.16765335  0.4201247 ]\n",
            " [ 0.21293119  0.58523184  1.4297628   0.5398477   0.37886852  0.09249276\n",
            "   0.54465187  1.4970689 ]\n",
            " [ 1.4854     -0.23486507  0.22184193 -0.4284293  -0.8462894   1.9342464\n",
            "   1.0360724   0.6442965 ]\n",
            " [ 1.8778315   1.3601345   0.6798148   0.32814136  1.3316138   0.06170613\n",
            "  -0.0282566  -1.144913  ]\n",
            " [-1.252023   -0.15474424 -0.8492366   0.3007896   0.0687777   0.04891036\n",
            "   0.23120809  0.29058897]\n",
            " [ 0.15183681  0.47186205 -0.2320419   0.6167193  -0.20796499  0.6844659\n",
            "   0.8485405   1.5739775 ]\n",
            " [-1.0486115  -0.5698384   1.5620301   0.33295217  0.2572677   0.1864757\n",
            "   0.74972874  0.7522066 ]\n",
            " [ 2.114574    0.9088516  -0.48206246 -0.0899959   0.18464392  1.3949122\n",
            "   0.6988815   0.8555602 ]\n",
            " [-0.09539952  0.8823197   1.1780024  -1.5048363   0.4265647   1.4471792\n",
            "   1.0342188   2.2055712 ]\n",
            " [ 0.91664314  0.83806086 -0.03357874 -1.09203     0.9828151   2.0582886\n",
            "   1.414376    0.37523788]\n",
            " [-0.87867475  0.71485555  1.0288854  -0.4381567   1.5285811  -0.01447031\n",
            "   1.1974354   0.30196702]\n",
            " [ 0.05979948  1.0124137   0.03755346 -0.22224009  0.33704868  1.2175872\n",
            "   1.3474967   0.93961936]\n",
            " [ 1.7526009   0.44951397 -0.10173929  0.20309643 -0.5326115   0.44408607\n",
            "  -0.7158653   0.519681  ]\n",
            " [ 0.11348201  0.755297    0.41244853 -0.20083752 -0.18611503 -1.0287936\n",
            "  -0.09152619  1.0578461 ]\n",
            " [ 1.7896836   0.8152348   2.420651    0.30087292  0.2838658   1.454196\n",
            "   1.8756275   0.83321315]\n",
            " [ 0.55647326  2.1323292   0.45141524 -1.5318285   0.7432907   0.7237375\n",
            "   1.5342665   1.1674173 ]\n",
            " [ 0.22326678  1.103112    1.1428342  -0.71124184  0.6117129   0.6120769\n",
            "   0.5601216   1.0218421 ]\n",
            " [ 2.2304738   0.36539406  0.01335412  1.6477116  -0.48797023  1.784745\n",
            "   0.35958654 -0.86860234]\n",
            " [-0.19405887  0.38956925  0.25162816  0.01160306  0.6550411   0.425375\n",
            "   0.42233825  1.3800781 ]\n",
            " [-0.15249273  0.2828344  -0.29038578  0.8499003   0.26554793 -0.4748422\n",
            "  -0.18263805  0.09610927]\n",
            " [-0.4505646   0.20626232  0.4385914   1.6373683   0.7081803   0.4125571\n",
            "   0.9032756   0.35702264]\n",
            " [ 0.42473713  1.0904115   1.338297    2.2517388   0.09096026  0.8952932\n",
            "   0.09266818  0.5473115 ]\n",
            " [-1.6278032   0.12930429  0.39340705 -0.41350546  0.06978929 -0.2684794\n",
            "   0.83155054  1.8062251 ]\n",
            " [-0.85070395  1.0825223   1.651455   -0.24562486 -0.9115027   1.0285721\n",
            "   0.78094095  0.22743511]\n",
            " [-0.722713    0.6268024   1.8071129   1.5448797  -0.85480165 -0.14109628\n",
            "  -0.14718273  1.1689187 ]\n",
            " [-0.20255244 -0.1274637   1.1672972   1.185318    0.81896377  2.228133\n",
            "   1.6905608   0.41921037]\n",
            " [-1.23046     1.2939938   1.56431     0.33314103  1.9067014  -1.4635708\n",
            "   1.1367439   2.9524496 ]\n",
            " [ 1.6154494   0.89371973  2.035874   -0.56574064 -0.5296787   1.71156\n",
            "   1.0754043   0.60696   ]\n",
            " [ 1.1891632   1.0281132   0.96484613  2.3004997  -0.051347    0.8782215\n",
            "   0.20237905  0.47498128]\n",
            " [ 0.635803    0.9374471   0.33291686 -0.5971026   1.3738196   0.67796195\n",
            "   1.1700046   1.3495141 ]\n",
            " [-0.5548004  -0.20027238 -1.1056142  -1.5782385   0.08719653  0.95917886\n",
            "   0.37600768  0.1767866 ]\n",
            " [ 1.176583    1.0462544   0.211208   -0.29597205  0.10848719  0.3691145\n",
            "  -0.34155333  1.0405554 ]\n",
            " [ 0.5923722   0.4446863   0.88366604 -0.29006782  1.249502   -0.5672513\n",
            "  -0.6096859   1.5071554 ]\n",
            " [ 1.2542175  -0.7185159   0.73199034 -0.07916397 -0.24340695  0.60566545\n",
            "   0.09483278 -0.5757801 ]\n",
            " [ 0.34488702  1.0772052   1.9029405   0.2373712   0.28038073  2.5756602\n",
            "   0.9746988   1.8201318 ]\n",
            " [ 0.5990418   1.6420207   2.0923362   0.23398063  0.8112044   0.7732497\n",
            "   1.0263824   2.2016506 ]\n",
            " [-0.9706243   0.11965233  0.6485505   0.02598006 -0.27198637  1.2303905\n",
            "   1.079628    1.7946099 ]\n",
            " [ 0.05363292  0.7046287  -0.97193265  1.2571747   1.0352852   0.5111383\n",
            "   0.5457063   0.65591997]\n",
            " [ 1.674681    1.1061008   1.1626805  -0.14816871  0.9230962  -0.40034747\n",
            "   1.8137997   0.21149746]\n",
            " [-0.7477492  -0.77030146 -0.53481966 -0.5365444   0.6207249  -0.61964405\n",
            "  -0.730134    1.4863861 ]\n",
            " [-1.52216     0.32213593  1.3916289  -1.2520926   0.6693661  -0.42350668\n",
            "   0.8708966   1.196865  ]\n",
            " [-0.05948433  0.17106056 -0.09701729  0.16712779  0.7160822   0.68163764\n",
            "   0.43821245  0.13929605]\n",
            " [-0.47217304  0.54430294 -0.661402   -0.31817722  1.7801012   0.5899374\n",
            "   1.4556569   0.24757266]\n",
            " [ 0.47332078 -0.21614899 -0.16203612  0.43668813 -0.6598714  -1.0536588\n",
            "  -0.25885856  0.8569042 ]\n",
            " [-0.59117085  0.45383888  0.28064454  0.04989405 -0.6752417  -0.56492245\n",
            "   0.0548583   0.02326733]\n",
            " [-0.63895994  0.2678026   0.18470824 -0.32188842  1.4978591  -0.54025304\n",
            "   1.0911812   1.6399634 ]\n",
            " [ 1.6686405   0.7207497   1.0340672  -0.564002    0.5969939   0.22923869\n",
            "   1.2576987   0.17242032]\n",
            " [ 0.74866164 -0.4521135   0.7837838   0.10968052  0.5751214  -0.0471437\n",
            "   0.353351    0.45419154]\n",
            " [ 1.1160336   1.184033    2.16509    -0.2538356   0.18025422  0.98231554\n",
            "   1.2369692  -0.69969845]\n",
            " [-1.7480419  -0.11696586  0.5591637   0.04825804 -0.22445287 -0.63932073\n",
            "   0.3434801   1.5293486 ]\n",
            " [ 1.4472158  -0.23057985  0.36098325 -0.6163057   0.50312924  1.4224143\n",
            "  -0.5884464   1.1138387 ]\n",
            " [-0.06744031  0.74858046  0.48484772  0.5405695   1.0655653   1.5743543\n",
            "   0.7900896   0.47174245]\n",
            " [ 0.8381337   1.0883762   0.4417408  -0.4691053   1.9279872   0.97116584\n",
            "   0.99200976  0.9502444 ]\n",
            " [-1.1718663   0.61986375  2.2137167  -0.2524112   1.2046716   0.43114156\n",
            "   0.68681276  1.378402  ]\n",
            " [-0.95663387  0.96943015  0.03516614  1.0397035   0.78689945 -0.17914575\n",
            "   1.0581595   1.2554718 ]\n",
            " [-0.80676806  1.2890971   0.62070215  0.14650537  0.60752237 -0.13468057\n",
            "   1.2316968   3.0652313 ]\n",
            " [ 0.64268696  0.5699378  -0.5614658   0.29608223  1.0334982  -0.34006208\n",
            "   0.5373843   1.6274993 ]\n",
            " [ 1.5112869   1.4192576   1.1818154  -0.42258185  0.874302    1.9250724\n",
            "   1.1615106   0.5980308 ]\n",
            " [-0.00638759  0.50827754  1.1880383  -1.4232228  -0.47955996  0.7760951\n",
            "   0.76315504  0.6115426 ]\n",
            " [ 1.0195131   0.11473501  0.66272914  0.6742512   1.4562228   0.56166965\n",
            "   1.213845    0.6015869 ]], shape=(100, 8), dtype=float32)\n"
          ],
          "name": "stdout"
        }
      ]
    },
    {
      "cell_type": "markdown",
      "metadata": {
        "id": "mmP50TkiAg-C",
        "colab_type": "text"
      },
      "source": [
        "## AE\n",
        "Die Idee sollte sein das Training auf den encoder und decoder einzuschränken. Jedoch soll **end-to-end** trainiert werden, hierfür sollte vllt eine art Funktion eingesetzt werden, welche über die GAN's Layer zurück geht.\n",
        "Muss ich hierfür die Layer nochmals einzeln definieren?\n",
        "\n",
        "\n",
        "***Vermutung: Der Ausgang hat die 8fache dimension des Eingangs-> daher nur 1/8 richtig oder 7/8 richtig*** \\\\\n",
        "**zu klären: was passiert in meinem AE dass sie dei dimension ver8-facht von (1000,8) zu (8000,n)**\n",
        "**Kontrollieren was der output von meinem GAN ist**\n",
        "**Add complexity for higher rubustness**\n",
        "\n",
        "\n"
      ]
    },
    {
      "cell_type": "code",
      "metadata": {
        "id": "FiuN3SZYpeTU",
        "colab_type": "code",
        "outputId": "1c99a419-ea3b-4f9d-e475-8c52779cb796",
        "colab": {
          "base_uri": "https://localhost:8080/",
          "height": 892
        }
      },
      "source": [
        "\n",
        "\n",
        "def get_encoder():\n",
        "  model = tf.keras.Sequential()\n",
        "  model.add(tf.keras.layers.Dense(32,use_bias=True, activation='relu',input_shape=(n,)))\n",
        "  model.add(tf.keras.layers.Dense(n,use_bias=False, activation='softmax'))\n",
        "  return model\n",
        "\n",
        "def get_decoder():\n",
        "  model = tf.keras.Sequential()\n",
        "  model.add(tf.keras.layers.Dense(n,use_bias=True, activation='relu', input_shape=(n,)))\n",
        "  model.add(tf.keras.layers.Dense(n,use_bias=False, activation='softmax'))\n",
        "  return model\n",
        "\n",
        "encoder = get_encoder()\n",
        "decoder = get_decoder()\n",
        "\n",
        "encoder.summary()\n",
        "generator.summary()\n",
        "decoder.summary()\n",
        "   \n",
        "def get_AE(encoder, generator, decoder):\n",
        "  AE_model = tf.keras.Sequential()\n",
        "  AE_model.add(encoder)\n",
        "  AE_model.add(tf.keras.layers.Lambda(generator))\n",
        "  AE_model.add(decoder)\n",
        "  return AE_model\n",
        "          \n",
        "    \n",
        "def generate_data_vector(length):\n",
        "  random_vector = tf.random.uniform(shape =(length,),minval=0,maxval=n-1, dtype=tf.dtypes.int32 ,seed=None,name=None)\n",
        "  random_hot_one_vector = tf.one_hot(random_vector, depth=n,on_value=1, off_value=0,axis=-1)\n",
        "  print(random_hot_one_vector.shape)\n",
        "  return random_hot_one_vector\n",
        "\n",
        "data, test_data = generate_data_vector(1000000), generate_data_vector(10000)\n",
        "#print(data)\n",
        "\n",
        "#model = Autoencoder()\n",
        "AE = get_AE(encoder, generator, decoder)\n",
        "AE.compile(optimizer='adam',loss='categorical_crossentropy',metrics=['accuracy'])\n",
        "history = AE.fit(data, data, batch_size=100,steps_per_epoch=1100, epochs=5)\n",
        "\n",
        "\n",
        "\n",
        "\n",
        "\n",
        "  "
      ],
      "execution_count": 25,
      "outputs": [
        {
          "output_type": "stream",
          "text": [
            "Model: \"sequential_5\"\n",
            "_________________________________________________________________\n",
            "Layer (type)                 Output Shape              Param #   \n",
            "=================================================================\n",
            "dense_10 (Dense)             (None, 32)                288       \n",
            "_________________________________________________________________\n",
            "dense_11 (Dense)             (None, 8)                 256       \n",
            "=================================================================\n",
            "Total params: 544\n",
            "Trainable params: 544\n",
            "Non-trainable params: 0\n",
            "_________________________________________________________________\n",
            "Model: \"sequential\"\n",
            "_________________________________________________________________\n",
            "Layer (type)                 Output Shape              Param #   \n",
            "=================================================================\n",
            "lambda (Lambda)              (None, 16)                0         \n",
            "_________________________________________________________________\n",
            "dense (Dense)                (None, 32)                544       \n",
            "_________________________________________________________________\n",
            "dense_1 (Dense)              (None, 32)                1056      \n",
            "_________________________________________________________________\n",
            "dense_2 (Dense)              (None, 8)                 256       \n",
            "=================================================================\n",
            "Total params: 1,856\n",
            "Trainable params: 1,856\n",
            "Non-trainable params: 0\n",
            "_________________________________________________________________\n",
            "Model: \"sequential_6\"\n",
            "_________________________________________________________________\n",
            "Layer (type)                 Output Shape              Param #   \n",
            "=================================================================\n",
            "dense_12 (Dense)             (None, 8)                 72        \n",
            "_________________________________________________________________\n",
            "dense_13 (Dense)             (None, 8)                 64        \n",
            "=================================================================\n",
            "Total params: 136\n",
            "Trainable params: 136\n",
            "Non-trainable params: 0\n",
            "_________________________________________________________________\n",
            "(1000000, 8)\n",
            "(10000, 8)\n",
            "Train on 1000000 samples\n",
            "Epoch 1/5\n",
            " 107200/1000000 [==>...........................] - ETA: 21s - loss: 1.1906 - accuracy: 0.5377Epoch 2/5\n",
            " 109000/1000000 [==>...........................] - ETA: 16s - loss: 0.1196 - accuracy: 0.9981Epoch 3/5\n",
            " 109500/1000000 [==>...........................] - ETA: 16s - loss: 0.0134 - accuracy: 1.0000Epoch 4/5\n",
            " 107900/1000000 [==>...........................] - ETA: 16s - loss: 0.0045 - accuracy: 1.0000Epoch 5/5\n",
            " 107400/1000000 [==>...........................] - ETA: 16s - loss: 0.0018 - accuracy: 1.0000"
          ],
          "name": "stdout"
        }
      ]
    },
    {
      "cell_type": "code",
      "metadata": {
        "id": "r-ZsnSNgM7g2",
        "colab_type": "code",
        "colab": {}
      },
      "source": [
        "train_SNR_dB = 6\n",
        "\n",
        "def analytic_channel(input): \n",
        "  #print(input.shape)\n",
        "  return input + tf.random.normal(tf.shape(input), mean=0.0, stddev=noise_std)\n",
        "\n",
        "def real_transmision(test_data):\n",
        "  y = encoder(test_data)\n",
        "  y = generator(y)\n",
        "  y = decoder(y)\n",
        "  return y\n",
        "  #model = tf.keras.Sequential()\n",
        "  #model.add(encoder)\n",
        "  #model.add(tf.keras.layers.Lambda(generator))\n",
        "  #model.add(tf.keras.layers.Lambda(real_channel))\n",
        "  #model.add(decoder)\n",
        "  #return model\n",
        "\n",
        "def test_diff_eval(test_data, results):\n",
        "  diff = []\n",
        "  for i in range(tf.shape(test_data)[0]):\n",
        "    diff.append(tf.math.subtract(test_data[i,:], results[i,:]))\n",
        "  return diff\n",
        "    \n",
        "  \n",
        "real_AE = real_transmision(test_data)\n",
        "testTest = tf.dtypes.cast(real_AE + tf.constant(0.1,dtype=tf.float32,shape=tf.shape(real_AE)), tf.int32)\n",
        "\n",
        "diff_test =  test_diff_eval(test_data, testTest) \n",
        "#t = tf.math.subtract(test_data[1,:], real_AE[1,:])\n",
        "\n",
        "\n"
      ],
      "execution_count": 0,
      "outputs": []
    },
    {
      "cell_type": "code",
      "metadata": {
        "id": "SntX-i_2J76v",
        "colab_type": "code",
        "colab": {
          "base_uri": "https://localhost:8080/",
          "height": 35
        },
        "outputId": "8ea5e4d4-87b8-41e5-b343-41a83e59a9af"
      },
      "source": [
        "print(sum(diff_test))"
      ],
      "execution_count": 63,
      "outputs": [
        {
          "output_type": "stream",
          "text": [
            "tf.Tensor([0 0 0 0 0 0 0 0], shape=(8,), dtype=int32)\n"
          ],
          "name": "stdout"
        }
      ]
    },
    {
      "cell_type": "markdown",
      "metadata": {
        "id": "ZDfTMdthneHM",
        "colab_type": "text"
      },
      "source": [
        "## Trainingparameters"
      ]
    },
    {
      "cell_type": "code",
      "metadata": {
        "id": "WIQ1bKE_nJSq",
        "colab_type": "code",
        "colab": {}
      },
      "source": [
        "train_EbNodB = 6\n",
        "val_EbNodB = train_EbNodB\n",
        "\n",
        "training_params = [\n",
        "    #batch_size, lr, ebnodb, iterations\n",
        "    [100    , 0.001, train_EbNodB, 1000],\n",
        "    [100    , 0.0001, train_EbNodB, 10000],\n",
        "    [1000    , 0.0001, train_EbNodB, 10000]\n",
        "]\n",
        "\n",
        "validation_params = [\n",
        "    #batch_size, ebnodb, val_steps \n",
        "    [100000, val_EbNodB, 100],\n",
        "    [100000, val_EbNodB, 1000],\n",
        "    [100000, val_EbNodB, 1000]\n",
        "]"
      ],
      "execution_count": 0,
      "outputs": []
    },
    {
      "cell_type": "markdown",
      "metadata": {
        "id": "6SR4RrE3nqTc",
        "colab_type": "text"
      },
      "source": [
        "## Create and train model"
      ]
    },
    {
      "cell_type": "code",
      "metadata": {
        "id": "PLzQO7yQnP1p",
        "colab_type": "code",
        "colab": {
          "base_uri": "https://localhost:8080/",
          "height": 368
        },
        "outputId": "2deab129-aab4-4eaf-cf32-238795ef9c22"
      },
      "source": [
        "model_file_baseline = 'models/ae_baseline_k_{}_n_{}'.format(k,n)\n",
        "\n",
        "ae_baseline = AE(k,n,useGAN=False,seed=seed)\n",
        "ae_baseline.train(training_params, validation_params)\n",
        "\n",
        "ae_baseline.save(model_file_baseline)"
      ],
      "execution_count": 22,
      "outputs": [
        {
          "output_type": "error",
          "ename": "TypeError",
          "evalue": "ignored",
          "traceback": [
            "\u001b[0;31m---------------------------------------------------------------------------\u001b[0m",
            "\u001b[0;31mTypeError\u001b[0m                                 Traceback (most recent call last)",
            "\u001b[0;32m<ipython-input-22-a3cfbfeb8464>\u001b[0m in \u001b[0;36m<module>\u001b[0;34m()\u001b[0m\n\u001b[1;32m      1\u001b[0m \u001b[0mmodel_file_baseline\u001b[0m \u001b[0;34m=\u001b[0m \u001b[0;34m'models/ae_baseline_k_{}_n_{}'\u001b[0m\u001b[0;34m.\u001b[0m\u001b[0mformat\u001b[0m\u001b[0;34m(\u001b[0m\u001b[0mk\u001b[0m\u001b[0;34m,\u001b[0m\u001b[0mn\u001b[0m\u001b[0;34m)\u001b[0m\u001b[0;34m\u001b[0m\u001b[0;34m\u001b[0m\u001b[0m\n\u001b[1;32m      2\u001b[0m \u001b[0;34m\u001b[0m\u001b[0m\n\u001b[0;32m----> 3\u001b[0;31m \u001b[0mae_baseline\u001b[0m \u001b[0;34m=\u001b[0m \u001b[0mAE\u001b[0m\u001b[0;34m(\u001b[0m\u001b[0mk\u001b[0m\u001b[0;34m,\u001b[0m\u001b[0mn\u001b[0m\u001b[0;34m,\u001b[0m\u001b[0museGAN\u001b[0m\u001b[0;34m=\u001b[0m\u001b[0;32mFalse\u001b[0m\u001b[0;34m,\u001b[0m\u001b[0mseed\u001b[0m\u001b[0;34m=\u001b[0m\u001b[0mseed\u001b[0m\u001b[0;34m)\u001b[0m\u001b[0;34m\u001b[0m\u001b[0;34m\u001b[0m\u001b[0m\n\u001b[0m\u001b[1;32m      4\u001b[0m \u001b[0mae_baseline\u001b[0m\u001b[0;34m.\u001b[0m\u001b[0mtrain\u001b[0m\u001b[0;34m(\u001b[0m\u001b[0mtraining_params\u001b[0m\u001b[0;34m,\u001b[0m \u001b[0mvalidation_params\u001b[0m\u001b[0;34m)\u001b[0m\u001b[0;34m\u001b[0m\u001b[0;34m\u001b[0m\u001b[0m\n\u001b[1;32m      5\u001b[0m \u001b[0;34m\u001b[0m\u001b[0m\n",
            "\u001b[0;32m/usr/local/lib/python3.6/dist-packages/tensorflow_core/python/keras/engine/base_layer.py\u001b[0m in \u001b[0;36m__call__\u001b[0;34m(self, inputs, *args, **kwargs)\u001b[0m\n\u001b[1;32m    849\u001b[0m           with base_layer_utils.autocast_context_manager(\n\u001b[1;32m    850\u001b[0m               self._compute_dtype):\n\u001b[0;32m--> 851\u001b[0;31m             \u001b[0moutputs\u001b[0m \u001b[0;34m=\u001b[0m \u001b[0mself\u001b[0m\u001b[0;34m.\u001b[0m\u001b[0mcall\u001b[0m\u001b[0;34m(\u001b[0m\u001b[0mcast_inputs\u001b[0m\u001b[0;34m,\u001b[0m \u001b[0;34m*\u001b[0m\u001b[0margs\u001b[0m\u001b[0;34m,\u001b[0m \u001b[0;34m**\u001b[0m\u001b[0mkwargs\u001b[0m\u001b[0;34m)\u001b[0m\u001b[0;34m\u001b[0m\u001b[0;34m\u001b[0m\u001b[0m\n\u001b[0m\u001b[1;32m    852\u001b[0m           \u001b[0mself\u001b[0m\u001b[0;34m.\u001b[0m\u001b[0m_handle_activity_regularization\u001b[0m\u001b[0;34m(\u001b[0m\u001b[0minputs\u001b[0m\u001b[0;34m,\u001b[0m \u001b[0moutputs\u001b[0m\u001b[0;34m)\u001b[0m\u001b[0;34m\u001b[0m\u001b[0;34m\u001b[0m\u001b[0m\n\u001b[1;32m    853\u001b[0m           \u001b[0mself\u001b[0m\u001b[0;34m.\u001b[0m\u001b[0m_set_mask_metadata\u001b[0m\u001b[0;34m(\u001b[0m\u001b[0minputs\u001b[0m\u001b[0;34m,\u001b[0m \u001b[0moutputs\u001b[0m\u001b[0;34m,\u001b[0m \u001b[0minput_masks\u001b[0m\u001b[0;34m)\u001b[0m\u001b[0;34m\u001b[0m\u001b[0;34m\u001b[0m\u001b[0m\n",
            "\u001b[0;31mTypeError\u001b[0m: call() got an unexpected keyword argument 'useGAN'"
          ]
        }
      ]
    },
    {
      "cell_type": "code",
      "metadata": {
        "id": "Xi_IcVrbnS1_",
        "colab_type": "code",
        "colab": {}
      },
      "source": [
        ""
      ],
      "execution_count": 0,
      "outputs": []
    }
  ]
}